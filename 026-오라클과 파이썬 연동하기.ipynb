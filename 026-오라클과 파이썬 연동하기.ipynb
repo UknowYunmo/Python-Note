{
 "cells": [
  {
   "cell_type": "code",
   "execution_count": null,
   "metadata": {},
   "outputs": [],
   "source": [
    "오라클과 파이썬 연동하기\n",
    "\n",
    "\n",
    "\n",
    "\n",
    "\n",
    "연동\n",
    "\n",
    "오라클 database --------------- 파이썬 ( 통계구현, 시각화, 머신러닝, 업무자동화 )\n",
    "\n",
    "\n",
    "\n",
    "비즈니스 데이터\n",
    "\n",
    "(정형화된 데이터)\n",
    "\n",
    "\n",
    "\n",
    "\n",
    "\n",
    "데이터의 구조에 따른 종류 3가지\n",
    "\n",
    "\n",
    "\n",
    "1. 정형 데이터    : 관계형 데이터베이스(RDBMS)에 저장된 데이터\n",
    "\n",
    "2. 반정형 데이터 : html, 웹로그 데이터\n",
    "\n",
    "3. 비정형 데이터 : 텍스트(SNS), 동영상, 이미지 데이터\n",
    "\n",
    "\n",
    "\n",
    "\n",
    "\n",
    "오라클을 파이썬과 연동하는 이유\n",
    "\n",
    "\n",
    "\n",
    "1. 오라클 데이터베이스에서 실시간으로 변하는 데이터를\n",
    "\n",
    "CSV파일로 매번 내리려면 자주 내려야 하므로 그냥 연동시키는 게 편리하다\n",
    "\n",
    "\n",
    "\n",
    "2. 파이썬의 통계 구현, 시각화, 머신러닝 구현, 업무 자동화를 사용 가능\n",
    "\n",
    "\n",
    "\n",
    "3. 이미지를 숫자로 변환한 뒤 오라클 DB에 저장하여 관리하는 것이 가능하다.\n",
    "\n",
    "-> 백업 및 복구 가능, 효율적 DATA 관리 가능\n",
    "\n",
    "\n",
    "\n",
    "\n",
    "\n",
    "# 오라클과 파이썬 연동하기\n",
    "\n",
    "\n",
    "\n",
    "1. 도스창을 열고, 리스너의 상태를 확인\n",
    "\n",
    "\n",
    "\n",
    "* 리스너 : 외부에서 오라클에 접속하려면 리스너를 통해서만 접속 가능\n",
    "\n",
    "리스너가 접속을 허용해줘야 접속이 된다.\n",
    "\n",
    "접속하기 위해서는 리스너가 가지고 있는 정보 중 3가지를 확인해야한다.\n",
    "\n",
    "\n",
    "\n",
    "(1) ip 주소 (건물 주소)\n",
    "\n",
    "(2) 포트번호 (건물안의 복도)\n",
    "\n",
    "(3) 서비스 이름 (회사 이름)\n",
    "\n",
    "\n",
    "\n",
    "cmd -> lsnrctl status 를 입력\n",
    "\n",
    "ip 주소 : localhost\n",
    "\n",
    "포트 번호 : 1521\n",
    "\n",
    "서비스 이름 : orcl    확인\n",
    "\n",
    "2. 실행창에\n",
    "\n",
    "(sql 만들었을 때 아이디 : system 비밀번호 : oracle_4U)\n",
    "\n",
    "sqlplus system/oracle_4U@localhost:1521/orcl as sysdba 입력\n",
    "\n",
    "\n",
    "\n",
    "\n",
    "3. 아나콘다 프롬프트창을 열고 (cmd 아님) cx_Oracle 모듈을 설치\n",
    "\n",
    "\n",
    "\n",
    "conda install cx_Oracle"
   ]
  },
  {
   "cell_type": "code",
   "execution_count": 1,
   "metadata": {},
   "outputs": [
    {
     "name": "stdout",
     "output_type": "stream",
     "text": [
      "(DESCRIPTION=(ADDRESS=(PROTOCOL=TCP)(HOST=localhost)(PORT=1521))(CONNECT_DATA=(SID=orcl)))\n"
     ]
    }
   ],
   "source": [
    "# cx_Oracle 모듈을 통해 파이썬과 연동하기1\n",
    "\n",
    "import cx_Oracle\n",
    "\n",
    "import pandas as pd\n",
    "\n",
    "dsn=cx_Oracle.makedsn(\"localhost\",1521,'orcl') # 오라클 주소\n",
    "\n",
    "print(dsn)"
   ]
  },
  {
   "cell_type": "code",
   "execution_count": 2,
   "metadata": {},
   "outputs": [
    {
     "name": "stdout",
     "output_type": "stream",
     "text": [
      "       0       1          2       3          4       5       6   7\n",
      "0   7839    KING  PRESIDENT     NaN 1981-11-17  5000.0     NaN  10\n",
      "1   7698   BLAKE    MANAGER  7839.0 1981-05-01  2850.0     NaN  30\n",
      "2   7782   CLARK    MANAGER  7839.0 1981-05-09  2450.0     NaN  10\n",
      "3   7566   JONES    MANAGER  7839.0 1981-04-01  2975.0     NaN  20\n",
      "4   7654  MARTIN   SALESMAN  7698.0 1981-09-10  1250.0  1400.0  30\n",
      "5   7499   ALLEN   SALESMAN  7698.0 1981-02-11  1600.0   300.0  30\n",
      "6   7844  TURNER   SALESMAN  7698.0 1981-08-21  1500.0     0.0  30\n",
      "7   7900   JAMES      CLERK  7698.0 1981-12-11   950.0     NaN  30\n",
      "8   7521    WARD   SALESMAN  7698.0 1981-02-23  1250.0   500.0  30\n",
      "9   7902    FORD    ANALYST  7566.0 1981-12-11  3000.0     NaN  20\n",
      "10  7369   SMITH      CLERK  7902.0 1980-12-09   800.0     NaN  20\n",
      "11  7788   SCOTT    ANALYST  7566.0 1982-12-22  3000.0     NaN  20\n",
      "12  7876   ADAMS      CLERK  7788.0 1983-01-15  1100.0     NaN  20\n",
      "13  7934  MILLER      CLERK  7782.0 1982-01-11  1300.0     NaN  10\n"
     ]
    }
   ],
   "source": [
    "# cx_Oracle 모듈을 통해 파이썬과 연동하기2 ( emp 전체 테이블 출력하기 )\n",
    "\n",
    "import cx_Oracle\n",
    "\n",
    "import pandas as pd\n",
    "\n",
    "dsn=cx_Oracle.makedsn(\"localhost\",1521,'orcl')\n",
    "\n",
    "db=cx_Oracle.connect('scott','tiger',dsn) # 오라클 접속 유저 정보\n",
    "\n",
    "cursor=db.cursor() # 결과 데이터를 담을 메모리 이름을 cursor로 선언\n",
    "\n",
    "cursor.execute(\"\"\"select * from emp \"\"\") # 작성한 SQL 쿼리문의 결과는 cursor 메모리에 담긴다\n",
    "\n",
    "row=cursor.fetchall() # cursor 메모리에 담긴 결과를 한 번에 row 변수에 담는다.\n",
    "\n",
    "emp=pd.DataFrame(row)\n",
    "\n",
    "print(emp)"
   ]
  },
  {
   "cell_type": "code",
   "execution_count": 3,
   "metadata": {},
   "outputs": [
    {
     "data": {
      "text/plain": [
       "<AxesSubplot:>"
      ]
     },
     "execution_count": 3,
     "metadata": {},
     "output_type": "execute_result"
    },
    {
     "data": {
      "image/png": "[encoded data removed]",
      "text/plain": [
       "<Figure size 432x288 with 1 Axes>"
      ]
     },
     "metadata": {
      "needs_background": "light"
     },
     "output_type": "display_data"
    }
   ],
   "source": [
    "# 사원들의 월급을 막대 그래프로 표현하기\n",
    "\n",
    "\n",
    "\n",
    "import cx_Oracle\n",
    "\n",
    "import pandas as pd\n",
    "\n",
    "dsn=cx_Oracle.makedsn(\"localhost\",1521,'orcl')\n",
    "\n",
    "db=cx_Oracle.connect('scott','tiger',dsn)\n",
    "\n",
    "cursor=db.cursor()\n",
    "\n",
    "cursor.execute(\"\"\"select ename,sal from emp \"\"\")\n",
    "\n",
    "row=cursor.fetchall()\n",
    "\n",
    "emp=pd.DataFrame(row)\n",
    "\n",
    "emp.index=list(emp[0]) # (KING~MILLER)\n",
    "\n",
    "emp.plot(kind='bar',color='skyblue')"
   ]
  },
  {
   "cell_type": "code",
   "execution_count": 4,
   "metadata": {},
   "outputs": [
    {
     "data": {
      "text/plain": [
       "<AxesSubplot:>"
      ]
     },
     "execution_count": 4,
     "metadata": {},
     "output_type": "execute_result"
    },
    {
     "data": {
      "image/png": "[encoded data removed]",
      "text/plain": [
       "<Figure size 432x288 with 1 Axes>"
      ]
     },
     "metadata": {
      "needs_background": "light"
     },
     "output_type": "display_data"
    }
   ],
   "source": [
    "# 직업별 최대 월급을 막대 그래프로 출력하기\n",
    "\n",
    "\n",
    "\n",
    "import cx_Oracle\n",
    "\n",
    "import pandas as pd\n",
    "\n",
    "dsn=cx_Oracle.makedsn(\"localhost\",1521,'orcl')\n",
    "\n",
    "db=cx_Oracle.connect('scott','tiger',dsn)\n",
    "\n",
    "cursor=db.cursor()\n",
    "\n",
    "cursor.execute(\"\"\"select job,max(sal) from emp group by job\"\"\")\n",
    "\n",
    "row=cursor.fetchall()\n",
    "\n",
    "emp=pd.DataFrame(row)\n",
    "\n",
    "emp.index=list(emp[0])\n",
    "\n",
    "emp.plot(kind='bar',color='skyblue')"
   ]
  },
  {
   "cell_type": "code",
   "execution_count": 5,
   "metadata": {},
   "outputs": [
    {
     "name": "stdout",
     "output_type": "stream",
     "text": [
      "       0       1          2       3          4       5       6   7\n",
      "0   7839    KING  PRESIDENT     NaN 1981-11-17  5000.0     NaN  10\n",
      "1   7698   BLAKE    MANAGER  7839.0 1981-05-01  2850.0     NaN  30\n",
      "2   7782   CLARK    MANAGER  7839.0 1981-05-09  2450.0     NaN  10\n",
      "3   7566   JONES    MANAGER  7839.0 1981-04-01  2975.0     NaN  20\n",
      "4   7654  MARTIN   SALESMAN  7698.0 1981-09-10  1250.0  1400.0  30\n",
      "5   7499   ALLEN   SALESMAN  7698.0 1981-02-11  1600.0   300.0  30\n",
      "6   7844  TURNER   SALESMAN  7698.0 1981-08-21  1500.0     0.0  30\n",
      "7   7900   JAMES      CLERK  7698.0 1981-12-11   950.0     NaN  30\n",
      "8   7521    WARD   SALESMAN  7698.0 1981-02-23  1250.0   500.0  30\n",
      "9   7902    FORD    ANALYST  7566.0 1981-12-11  3000.0     NaN  20\n",
      "10  7369   SMITH      CLERK  7902.0 1980-12-09   800.0     NaN  20\n",
      "11  7788   SCOTT    ANALYST  7566.0 1982-12-22  3000.0     NaN  20\n",
      "12  7876   ADAMS      CLERK  7788.0 1983-01-15  1100.0     NaN  20\n",
      "13  7934  MILLER      CLERK  7782.0 1982-01-11  1300.0     NaN  10\n"
     ]
    }
   ],
   "source": [
    "# EMP 테이블 확인하기\n",
    "\n",
    "\n",
    "\n",
    "import cx_Oracle\n",
    "\n",
    "import pandas as pd\n",
    "\n",
    "dsn=cx_Oracle.makedsn(\"localhost\",1521,'orcl')\n",
    "\n",
    "db=cx_Oracle.connect('scott','tiger',dsn)\n",
    "\n",
    "cursor=db.cursor()\n",
    "\n",
    "cursor.execute(\"\"\"select *\n",
    "\n",
    "                   from emp\n",
    "\n",
    "                   \"\"\")\n",
    "\n",
    "row=cursor.fetchall()\n",
    "\n",
    "emp=pd.DataFrame(row)\n",
    "\n",
    "print(emp)"
   ]
  },
  {
   "cell_type": "code",
   "execution_count": 6,
   "metadata": {},
   "outputs": [
    {
     "name": "stdout",
     "output_type": "stream",
     "text": [
      "[('EMPNO', <cx_Oracle.DbType DB_TYPE_NUMBER>, 5, None, 4, 0, 0), ('ENAME', <cx_Oracle.DbType DB_TYPE_VARCHAR>, 10, 10, None, None, 1), ('JOB', <cx_Oracle.DbType DB_TYPE_VARCHAR>, 9, 9, None, None, 1), ('MGR', <cx_Oracle.DbType DB_TYPE_NUMBER>, 5, None, 4, 0, 1), ('HIREDATE', <cx_Oracle.DbType DB_TYPE_DATE>, 23, None, None, None, 1), ('SAL', <cx_Oracle.DbType DB_TYPE_NUMBER>, 11, None, 7, 2, 1), ('COMM', <cx_Oracle.DbType DB_TYPE_NUMBER>, 11, None, 7, 2, 1), ('DEPTNO', <cx_Oracle.DbType DB_TYPE_NUMBER>, 3, None, 2, 0, 1)]\n"
     ]
    }
   ],
   "source": [
    "# 컬럼명 출력하기1\n",
    "\n",
    "\n",
    "\n",
    "import cx_Oracle\n",
    "\n",
    "import pandas as pd\n",
    "\n",
    "dsn=cx_Oracle.makedsn(\"localhost\",1521,'orcl')\n",
    "\n",
    "db=cx_Oracle.connect('scott','tiger',dsn)\n",
    "\n",
    "cursor=db.cursor()\n",
    "\n",
    "cursor.execute(\"\"\"select *\n",
    "\n",
    "                   from emp\n",
    "\n",
    "                   \"\"\")\n",
    "\n",
    "row=cursor.fetchall()\n",
    "\n",
    "emp=pd.DataFrame(row)\n",
    "\n",
    "colname=cursor.description\n",
    "\n",
    "print(colname)"
   ]
  },
  {
   "cell_type": "code",
   "execution_count": 7,
   "metadata": {},
   "outputs": [
    {
     "name": "stdout",
     "output_type": "stream",
     "text": [
      "EMPNO\n",
      "ENAME\n",
      "JOB\n",
      "MGR\n",
      "HIREDATE\n",
      "SAL\n",
      "COMM\n",
      "DEPTNO\n"
     ]
    }
   ],
   "source": [
    "# 컬럼명 출력하기 2\n",
    "\n",
    "import cx_Oracle\n",
    "\n",
    "import pandas as pd\n",
    "\n",
    "dsn=cx_Oracle.makedsn(\"localhost\",1521,'orcl')\n",
    "\n",
    "db=cx_Oracle.connect('scott','tiger',dsn)\n",
    "\n",
    "cursor=db.cursor()\n",
    "\n",
    "cursor.execute(\"\"\"select *\n",
    "\n",
    "                   from emp\n",
    "\n",
    "                   \"\"\")\n",
    "\n",
    "row=cursor.fetchall()\n",
    "\n",
    "emp=pd.DataFrame(row)\n",
    "\n",
    "colname=cursor.description\n",
    "\n",
    "for i in colname:\n",
    "\n",
    "    print(i[0])"
   ]
  },
  {
   "cell_type": "code",
   "execution_count": 8,
   "metadata": {},
   "outputs": [
    {
     "name": "stdout",
     "output_type": "stream",
     "text": [
      "['empno', 'ename', 'job', 'mgr', 'hiredate', 'sal', 'comm', 'deptno']\n"
     ]
    }
   ],
   "source": [
    "# 컬럼명을 리스트에 담기\n",
    "\n",
    "\n",
    "\n",
    "import cx_Oracle\n",
    "\n",
    "import pandas as pd\n",
    "\n",
    "dsn=cx_Oracle.makedsn(\"localhost\",1521,'orcl')\n",
    "\n",
    "db=cx_Oracle.connect('scott','tiger',dsn)\n",
    "\n",
    "cursor=db.cursor()\n",
    "\n",
    "cursor.execute(\"\"\"select *\n",
    "\n",
    "                   from emp\n",
    "\n",
    "                   \"\"\")\n",
    "\n",
    "row=cursor.fetchall()\n",
    "\n",
    "emp=pd.DataFrame(row)\n",
    "\n",
    "colname=cursor.description\n",
    "\n",
    "col=[]\n",
    "\n",
    "for i in colname:\n",
    "\n",
    "    col.append(i[0].lower())\n",
    "\n",
    "print(col)"
   ]
  },
  {
   "cell_type": "code",
   "execution_count": 9,
   "metadata": {},
   "outputs": [
    {
     "name": "stdout",
     "output_type": "stream",
     "text": [
      "    empno   ename        job     mgr   hiredate     sal    comm  deptno\n",
      "0    7839    KING  PRESIDENT     NaN 1981-11-17  5000.0     NaN      10\n",
      "1    7698   BLAKE    MANAGER  7839.0 1981-05-01  2850.0     NaN      30\n",
      "2    7782   CLARK    MANAGER  7839.0 1981-05-09  2450.0     NaN      10\n",
      "3    7566   JONES    MANAGER  7839.0 1981-04-01  2975.0     NaN      20\n",
      "4    7654  MARTIN   SALESMAN  7698.0 1981-09-10  1250.0  1400.0      30\n",
      "5    7499   ALLEN   SALESMAN  7698.0 1981-02-11  1600.0   300.0      30\n",
      "6    7844  TURNER   SALESMAN  7698.0 1981-08-21  1500.0     0.0      30\n",
      "7    7900   JAMES      CLERK  7698.0 1981-12-11   950.0     NaN      30\n",
      "8    7521    WARD   SALESMAN  7698.0 1981-02-23  1250.0   500.0      30\n",
      "9    7902    FORD    ANALYST  7566.0 1981-12-11  3000.0     NaN      20\n",
      "10   7369   SMITH      CLERK  7902.0 1980-12-09   800.0     NaN      20\n",
      "11   7788   SCOTT    ANALYST  7566.0 1982-12-22  3000.0     NaN      20\n",
      "12   7876   ADAMS      CLERK  7788.0 1983-01-15  1100.0     NaN      20\n",
      "13   7934  MILLER      CLERK  7782.0 1982-01-11  1300.0     NaN      10\n"
     ]
    }
   ],
   "source": [
    "# 위 컬럼 리스트를 데이터에 결합시키기\n",
    "\n",
    "\n",
    "\n",
    "import cx_Oracle\n",
    "\n",
    "import pandas as pd\n",
    "\n",
    "dsn=cx_Oracle.makedsn(\"localhost\",1521,'orcl')\n",
    "\n",
    "db=cx_Oracle.connect('scott','tiger',dsn)\n",
    "\n",
    "cursor=db.cursor()\n",
    "\n",
    "cursor.execute(\"\"\"select *\n",
    "\n",
    "                   from emp\n",
    "\n",
    "                   \"\"\")\n",
    "\n",
    "row=cursor.fetchall()\n",
    "\n",
    "colname=cursor.description\n",
    "\n",
    "col=[]\n",
    "\n",
    "for i in colname:\n",
    "\n",
    "    col.append(i[0].lower())\n",
    "\n",
    "emp=pd.DataFrame(list(row),columns=col) #list(row)는 열로, col은 행으로 표현\n",
    "\n",
    "print(emp)"
   ]
  },
  {
   "cell_type": "code",
   "execution_count": 10,
   "metadata": {},
   "outputs": [
    {
     "name": "stdout",
     "output_type": "stream",
     "text": [
      "     ename     sal\n",
      "0     KING  5000.0\n",
      "1    BLAKE  2850.0\n",
      "2    CLARK  2450.0\n",
      "3    JONES  2975.0\n",
      "4   MARTIN  1250.0\n",
      "5    ALLEN  1600.0\n",
      "6   TURNER  1500.0\n",
      "7    JAMES   950.0\n",
      "8     WARD  1250.0\n",
      "9     FORD  3000.0\n",
      "10   SMITH   800.0\n",
      "11   SCOTT  3000.0\n",
      "12   ADAMS  1100.0\n",
      "13  MILLER  1300.0\n"
     ]
    }
   ],
   "source": [
    "# 판다스 문법을 이용해서 이름과 월급을 출력하기\n",
    "\n",
    "\n",
    "\n",
    "import cx_Oracle\n",
    "\n",
    "import pandas as pd\n",
    "\n",
    "dsn=cx_Oracle.makedsn(\"localhost\",1521,'orcl')\n",
    "\n",
    "db=cx_Oracle.connect('scott','tiger',dsn)\n",
    "\n",
    "cursor=db.cursor()\n",
    "\n",
    "cursor.execute(\"\"\"select *\n",
    "\n",
    "                   from emp\n",
    "\n",
    "                   \"\"\")\n",
    "\n",
    "row=cursor.fetchall()\n",
    "\n",
    "colname=cursor.description\n",
    "\n",
    "col=[]\n",
    "\n",
    "for i in colname:\n",
    "\n",
    "    col.append(i[0].lower())\n",
    "\n",
    "emp=pd.DataFrame(list(row),columns=col)\n",
    "\n",
    "print(emp[['ename','sal']])"
   ]
  },
  {
   "cell_type": "code",
   "execution_count": 11,
   "metadata": {},
   "outputs": [
    {
     "name": "stdout",
     "output_type": "stream",
     "text": [
      "    ename     sal\n",
      "0    KING  5000.0\n",
      "9    FORD  3000.0\n",
      "11  SCOTT  3000.0\n"
     ]
    }
   ],
   "source": [
    "# 판다스 문법을 통해 월급이 3000 이상인 사원의 이름과 월급 출력하기\n",
    "\n",
    "\n",
    "\n",
    "import cx_Oracle\n",
    "\n",
    "import pandas as pd\n",
    "\n",
    "dsn=cx_Oracle.makedsn(\"localhost\",1521,'orcl')\n",
    "\n",
    "db=cx_Oracle.connect('scott','tiger',dsn)\n",
    "\n",
    "cursor=db.cursor()\n",
    "\n",
    "cursor.execute(\"\"\"select *\n",
    "\n",
    "                   from emp\n",
    "\n",
    "                   \"\"\")\n",
    "\n",
    "row=cursor.fetchall()\n",
    "\n",
    "colname=cursor.description\n",
    "\n",
    "col=[]\n",
    "\n",
    "for i in colname:\n",
    "\n",
    "    col.append(i[0].lower())\n",
    "\n",
    "emp=pd.DataFrame(list(row),columns=col)\n",
    "\n",
    "print(emp[['ename','sal']][emp['sal']>=3000])"
   ]
  },
  {
   "cell_type": "code",
   "execution_count": 12,
   "metadata": {},
   "outputs": [
    {
     "name": "stdout",
     "output_type": "stream",
     "text": [
      "         0         1\n",
      "0     KING  NEW YORK\n",
      "1    BLAKE   CHICAGO\n",
      "2    CLARK  NEW YORK\n",
      "3    JONES    DALLAS\n",
      "4   MARTIN   CHICAGO\n",
      "5    ALLEN   CHICAGO\n",
      "6   TURNER   CHICAGO\n",
      "7    JAMES   CHICAGO\n",
      "8     WARD   CHICAGO\n",
      "9     FORD    DALLAS\n",
      "10   SMITH    DALLAS\n",
      "11   SCOTT    DALLAS\n",
      "12   ADAMS    DALLAS\n",
      "13  MILLER  NEW YORK\n"
     ]
    }
   ],
   "source": [
    "# 사원의 이름과 부서 위치를 조인을 통해 출력하기\n",
    "\n",
    "\n",
    "\n",
    "import cx_Oracle\n",
    "\n",
    "import pandas as pd\n",
    "\n",
    "dsn=cx_Oracle.makedsn(\"localhost\",1521,'orcl')\n",
    "\n",
    "db=cx_Oracle.connect('scott','tiger',dsn)\n",
    "\n",
    "cursor=db.cursor()\n",
    "\n",
    "cursor.execute(\"\"\"select e.ename,d.loc\n",
    "\n",
    "                   from emp e, dept d\n",
    "\n",
    "                   where e.deptno=d.deptno\n",
    "\n",
    "                   \"\"\")\n",
    "\n",
    "row=cursor.fetchall()\n",
    "\n",
    "emp=pd.DataFrame(row)\n",
    "\n",
    "print(emp)"
   ]
  },
  {
   "cell_type": "code",
   "execution_count": 13,
   "metadata": {},
   "outputs": [
    {
     "name": "stdout",
     "output_type": "stream",
     "text": [
      "          0      1\n",
      "0  NEW YORK   8750\n",
      "1    DALLAS  10875\n",
      "2   CHICAGO   9400\n"
     ]
    }
   ],
   "source": [
    "# 부서 위치별 월급 총합 출력하기\n",
    "\n",
    "\n",
    "\n",
    "import cx_Oracle\n",
    "\n",
    "import pandas as pd\n",
    "\n",
    "dsn=cx_Oracle.makedsn(\"localhost\",1521,'orcl')\n",
    "\n",
    "db=cx_Oracle.connect('scott','tiger',dsn)\n",
    "\n",
    "cursor=db.cursor()\n",
    "\n",
    "cursor.execute(\"\"\"select d.loc, sum(e.sal)\n",
    "\n",
    "                   from emp e, dept d\n",
    "\n",
    "                   where e.deptno=d.deptno\n",
    "\n",
    "                   group by d.loc\n",
    "\n",
    "                   \"\"\")\n",
    "\n",
    "row=cursor.fetchall()\n",
    "\n",
    "emp=pd.DataFrame(row)\n",
    "\n",
    "print(emp)"
   ]
  },
  {
   "cell_type": "code",
   "execution_count": 14,
   "metadata": {},
   "outputs": [
    {
     "data": {
      "text/plain": [
       "<AxesSubplot:>"
      ]
     },
     "execution_count": 14,
     "metadata": {},
     "output_type": "execute_result"
    },
    {
     "data": {
      "image/png": "[encoded data removed]",
      "text/plain": [
       "<Figure size 432x288 with 1 Axes>"
      ]
     },
     "metadata": {
      "needs_background": "light"
     },
     "output_type": "display_data"
    }
   ],
   "source": [
    "# 부서 위치별 월급 총합을 막대 그래프로 표현하기\n",
    "\n",
    "\n",
    "\n",
    "import cx_Oracle\n",
    "\n",
    "import pandas as pd\n",
    "\n",
    "dsn=cx_Oracle.makedsn(\"localhost\",1521,'orcl')\n",
    "\n",
    "db=cx_Oracle.connect('scott','tiger',dsn)\n",
    "\n",
    "cursor=db.cursor()\n",
    "\n",
    "cursor.execute(\"\"\"select d.loc, sum(e.sal)\n",
    "\n",
    "                   from emp e, dept d\n",
    "\n",
    "                   where e.deptno=d.deptno\n",
    "\n",
    "                   group by d.loc\n",
    "\n",
    "                   \"\"\")\n",
    "\n",
    "row=cursor.fetchall()\n",
    "\n",
    "emp=pd.DataFrame(row)\n",
    "\n",
    "emp.index=list(emp[0])\n",
    "\n",
    "emp.plot(kind='bar',color='skyblue')"
   ]
  }
 ],
 "metadata": {
  "kernelspec": {
   "display_name": "Python 3",
   "language": "python",
   "name": "python3"
  },
  "language_info": {
   "codemirror_mode": {
    "name": "ipython",
    "version": 3
   },
   "file_extension": ".py",
   "mimetype": "text/x-python",
   "name": "python",
   "nbconvert_exporter": "python",
   "pygments_lexer": "ipython3",
   "version": "3.8.5"
  }
 },
 "nbformat": 4,
 "nbformat_minor": 4
}
