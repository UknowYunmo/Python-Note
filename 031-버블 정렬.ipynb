{
 "cells": [
  {
   "cell_type": "code",
   "execution_count": 1,
   "metadata": {},
   "outputs": [
    {
     "name": "stdout",
     "output_type": "stream",
     "text": [
      "[1, 2, 3, 4, 5, 7, 8, 10]\n"
     ]
    }
   ],
   "source": [
    "a=[5,4,3,2,1,8,7,10]\n",
    "def bubble_sort(a):\n",
    "    for i in range (len(a)-1):\n",
    "        for j in range (len(a)-i-1): # 이미 정렬이 완료된 오른쪽은 제외\n",
    "            if a[j]>a[j+1]:\n",
    "                temp=a[j+1]\n",
    "                a[j+1]=a[j]\n",
    "                a[j]=temp\n",
    "    return a\n",
    "print(bubble_sort(a))\n",
    "\n",
    "\"\"\"\n",
    "정렬이 가장 오래걸리는 경우는 제일 작은 수가 오른쪽 끝에 있을 때니까 ( 매 반복때마다 한칸씩 앞으로 옴 )\n",
    "\n",
    "실험해보고 싶으신 분은 제일 작은 수 0을 끝자리에 추가해보면 된다.\n",
    "\"\"\""
   ]
  },
  {
   "cell_type": "code",
   "execution_count": 2,
   "metadata": {},
   "outputs": [
    {
     "name": "stdout",
     "output_type": "stream",
     "text": [
      "[4, 3, 2, 1, 5, 7, 8, 0, 10]\n",
      "[3, 2, 1, 4, 5, 7, 0, 8, 10]\n",
      "[2, 1, 3, 4, 5, 0, 7, 8, 10]\n",
      "[1, 2, 3, 4, 0, 5, 7, 8, 10]\n",
      "[1, 2, 3, 0, 4, 5, 7, 8, 10]\n",
      "[1, 2, 0, 3, 4, 5, 7, 8, 10]\n",
      "[1, 0, 2, 3, 4, 5, 7, 8, 10]\n",
      "[0, 1, 2, 3, 4, 5, 7, 8, 10]\n"
     ]
    },
    {
     "data": {
      "text/plain": [
       "[0, 1, 2, 3, 4, 5, 7, 8, 10]"
      ]
     },
     "execution_count": 2,
     "metadata": {},
     "output_type": "execute_result"
    }
   ],
   "source": [
    "#a=[5,4,3,2,1,8,7,10]\n",
    "a=[5,4,3,2,1,8,7,10,0]\n",
    "def bubble_sort(a):\n",
    "    for i in range (len(a)-1):\n",
    "        for j in range (len(a)-i-1):\n",
    "            if a[j]>a[j+1]:\n",
    "                temp=a[j+1]\n",
    "                a[j+1]=a[j]\n",
    "                a[j]=temp\n",
    "        print(a)\n",
    "    return a\n",
    "bubble_sort(a)"
   ]
  },
  {
   "cell_type": "code",
   "execution_count": 3,
   "metadata": {},
   "outputs": [
    {
     "name": "stdout",
     "output_type": "stream",
     "text": [
      "[1, 2, 3, 4, 5, 6, 7]\n",
      "[1, 2, 3, 4, 5, 6, 7]\n",
      "[1, 2, 3, 4, 5, 6, 7]\n",
      "[1, 2, 3, 4, 5, 6, 7]\n",
      "[1, 2, 3, 4, 5, 6, 7]\n",
      "[1, 2, 3, 4, 5, 6, 7]\n"
     ]
    },
    {
     "data": {
      "text/plain": [
       "[1, 2, 3, 4, 5, 6, 7]"
      ]
     },
     "execution_count": 3,
     "metadata": {},
     "output_type": "execute_result"
    }
   ],
   "source": [
    "#a=[5,4,3,2,1,8,7,10]\n",
    "#a=[5,4,3,2,1,8,7,10,0]\n",
    "a=[1,2,3,4,5,6,7]\n",
    "def bubble_sort(a):\n",
    "    for i in range (len(a)-1):\n",
    "        for j in range (len(a)-i-1):\n",
    "            if a[j]>a[j+1]:\n",
    "                temp=a[j+1]\n",
    "                a[j+1]=a[j]\n",
    "                a[j]=temp\n",
    "        print(a)\n",
    "    return a\n",
    "bubble_sort(a)\n",
    "\n",
    "\"\"\"\n",
    "근데 이 코드는 정렬이 빨리 끝난 상태여도 정해진대로 계속하는 문제가 있었다.\n",
    "최적화된 코드를 만들어보자.\n",
    "\"\"\""
   ]
  },
  {
   "cell_type": "code",
   "execution_count": 5,
   "metadata": {},
   "outputs": [
    {
     "name": "stdout",
     "output_type": "stream",
     "text": [
      "[1, 2, 3, 4, 5, 6, 7]\n"
     ]
    }
   ],
   "source": [
    "#a=[5,4,3,2,1,8,7,10]\n",
    "a=[1,2,3,4,5,6,7]\n",
    "def bubble_sort(a):\n",
    "    for i in range (len(a)-1):\n",
    "        cnt=0\n",
    "        for j in range (len(a)-i-1):\n",
    "            if a[j]>a[j+1]:\n",
    "                temp=a[j+1]\n",
    "                a[j+1]=a[j]\n",
    "                a[j]=temp\n",
    "                cnt+=1\n",
    "        #print(a)\n",
    "        if cnt==0:\n",
    "            break\n",
    "    return a\n",
    "print(bubble_sort(a))"
   ]
  }
 ],
 "metadata": {
  "kernelspec": {
   "display_name": "Python 3",
   "language": "python",
   "name": "python3"
  },
  "language_info": {
   "codemirror_mode": {
    "name": "ipython",
    "version": 3
   },
   "file_extension": ".py",
   "mimetype": "text/x-python",
   "name": "python",
   "nbconvert_exporter": "python",
   "pygments_lexer": "ipython3",
   "version": "3.8.5"
  }
 },
 "nbformat": 4,
 "nbformat_minor": 4
}
