{
 "cells": [
  {
   "cell_type": "code",
   "execution_count": 3,
   "metadata": {},
   "outputs": [
    {
     "name": "stdout",
     "output_type": "stream",
     "text": [
      "     ename   sal\n",
      "0     KING  5000\n",
      "1    BLAKE  2850\n",
      "2    CLARK  2450\n",
      "3    JONES  2975\n",
      "4   MARTIN  1250\n",
      "5    ALLEN  1600\n",
      "6   TURNER  1500\n",
      "7    JAMES   950\n",
      "8     WARD  1250\n",
      "9     FORD  3000\n",
      "10   SMITH   800\n",
      "11   SCOTT  3000\n",
      "12   ADAMS  1100\n",
      "13  MILLER  1300\n",
      "---------------------------\n",
      "     ename     sal\n",
      "0     KING  5000.0\n",
      "1    BLAKE  2850.0\n",
      "2    CLARK  2450.0\n",
      "3    JONES  2975.0\n",
      "4   MARTIN  1250.0\n",
      "5    ALLEN  1600.0\n",
      "6   TURNER  1500.0\n",
      "7    JAMES   950.0\n",
      "8     WARD  1250.0\n",
      "9     FORD  3000.0\n",
      "10   SMITH   800.0\n",
      "11   SCOTT  3000.0\n",
      "12   ADAMS  1100.0\n",
      "13  MILLER  1300.0\n"
     ]
    }
   ],
   "source": [
    "# 데이터 유형 변환\n",
    "\n",
    "\n",
    "# 예제 : emp3.csv 파일을 읽고, 이름과 월급을 출력하는데 이 때 월급을 실수로 출력되게 하기\n",
    "\n",
    "import pandas as pd\n",
    "emp = pd.read_csv(\"c:\\\\data\\\\emp3.csv\")\n",
    "print( emp[['ename','sal']])\n",
    "\n",
    "\n",
    "# 실수형으로 출력해보기\n",
    "print('---------------------------')\n",
    "\n",
    "import pandas as pd\n",
    "emp = pd.read_csv(\"c:\\\\data\\\\emp3.csv\")\n",
    "emp['sal']=emp['sal'].apply(float)\n",
    "print( emp[['ename','sal']])"
   ]
  },
  {
   "cell_type": "code",
   "execution_count": 6,
   "metadata": {},
   "outputs": [
    {
     "name": "stdout",
     "output_type": "stream",
     "text": [
      "     ename    comm\n",
      "0     KING     NaN\n",
      "1    BLAKE     NaN\n",
      "2    CLARK     NaN\n",
      "3    JONES     NaN\n",
      "4   MARTIN  1400.0\n",
      "5    ALLEN   300.0\n",
      "6   TURNER     0.0\n",
      "7    JAMES     NaN\n",
      "8     WARD   500.0\n",
      "9     FORD     NaN\n",
      "10   SMITH     NaN\n",
      "11   SCOTT     NaN\n",
      "12   ADAMS     NaN\n",
      "13  MILLER     NaN\n",
      "-------------------------\n",
      "     ename  comm\n",
      "0     KING   NaN\n",
      "1    BLAKE   NaN\n",
      "2    CLARK   NaN\n",
      "3    JONES   NaN\n",
      "7    JAMES   NaN\n",
      "9     FORD   NaN\n",
      "10   SMITH   NaN\n",
      "11   SCOTT   NaN\n",
      "12   ADAMS   NaN\n",
      "13  MILLER   NaN\n",
      "--------------------------\n",
      "    ename    comm\n",
      "4  MARTIN  1400.0\n",
      "5   ALLEN   300.0\n",
      "6  TURNER     0.0\n",
      "8    WARD   500.0\n"
     ]
    }
   ],
   "source": [
    "# 결측치 확인하기\n",
    "\n",
    "\n",
    "# 예제 : 이름과 커미션을 출력하기\n",
    "\n",
    "import pandas as pd\n",
    "emp=pd.read_csv(\"c:\\\\data\\\\emp3.csv\")\n",
    "print(emp[['ename','comm']])\n",
    "\n",
    "\n",
    "# 예제 : 커미션이 결측치인 사원들의 이름과 커미션을 출력하기\n",
    "print('-------------------------')\n",
    "\n",
    "import pandas as pd\n",
    "emp=pd.read_csv(\"c:\\\\data\\\\emp3.csv\")\n",
    "print(emp[['ename','comm']][emp['comm'].isnull()]) # 조건절에서 isnull() 함수를 사용하면 된다.\n",
    "\n",
    "\n",
    "# 예제 : 커미션이 결측치가 아닌 사원들의 이름과 커미션을 출력하기\n",
    "print('--------------------------')\n",
    "\n",
    "import pandas as pd\n",
    "emp=pd.read_csv(\"c:\\\\data\\\\emp3.csv\")\n",
    "print(emp[['ename','comm']][~emp['comm'].isnull()])\n",
    "\n",
    "\n",
    "\"\"\"\n",
    "간단하게 조건절 앞에 '~' 물결 표시만 붙여주면 된다.\n",
    "\n",
    "오라클에서 not between, not null, not like 처럼 NOT을 붙이는 상황에\n",
    "\n",
    "판다스에서는 NOT 대신 '~' 해주면 해결 되는 것 같다.\n",
    "\"\"\""
   ]
  },
  {
   "cell_type": "code",
   "execution_count": 7,
   "metadata": {},
   "outputs": [
    {
     "name": "stdout",
     "output_type": "stream",
     "text": [
      "    index  empno  ename    job    mgr  hiredate    sal   comm  deptno\n",
      "0   False  False  False  False   True     False  False   True   False\n",
      "1   False  False  False  False  False     False  False   True   False\n",
      "2   False  False  False  False  False     False  False   True   False\n",
      "3   False  False  False  False  False     False  False   True   False\n",
      "4   False  False  False  False  False     False  False  False   False\n",
      "5   False  False  False  False  False     False  False  False   False\n",
      "6   False  False  False  False  False     False  False  False   False\n",
      "7   False  False  False  False  False     False  False   True   False\n",
      "8   False  False  False  False  False     False  False  False   False\n",
      "9   False  False  False  False  False     False  False   True   False\n",
      "10  False  False  False  False  False     False  False   True   False\n",
      "11  False  False  False  False  False     False  False   True   False\n",
      "12  False  False  False  False  False     False  False   True   False\n",
      "13  False  False  False  False  False     False  False   True   False\n"
     ]
    }
   ],
   "source": [
    "# 예제 : CSV 파일에 결측치가 있는지 확인하는 방법\n",
    "\n",
    "\"\"\"\n",
    "emp를 구체화하지 않고, 그대로 isnull()을 돌려버리면 데이터 값마다\n",
    "\n",
    "결측치가 아니라면 FALSE 결측치라면 TRUE가 한번에  반환된다.\n",
    "\"\"\"\n",
    "\n",
    "import pandas as pd\n",
    "emp=pd.read_csv(\"c:\\\\data\\\\emp3.csv\")\n",
    "print(emp.isnull())\n",
    "\n",
    "# 그런데, 지금은 CSV파일이 아주 작지만 데이터가 만약 크다면 이렇게 일일이 TRUE를 찾기 힘들다."
   ]
  },
  {
   "cell_type": "code",
   "execution_count": 8,
   "metadata": {},
   "outputs": [
    {
     "name": "stdout",
     "output_type": "stream",
     "text": [
      "index        0\n",
      "empno        0\n",
      "ename        0\n",
      "job          0\n",
      "mgr          1\n",
      "hiredate     0\n",
      "sal          0\n",
      "comm        10\n",
      "deptno       0\n",
      "dtype: int64\n"
     ]
    }
   ],
   "source": [
    "# 예제 : 간단하게 컬럼별 결측치 확인하기\n",
    "\n",
    "import pandas as pd\n",
    "emp=pd.read_csv(\"c:\\\\data\\\\emp3.csv\")\n",
    "print(emp.isnull().sum())\n",
    "\n",
    "\"\"\"\n",
    "isnull() 해준 뒤 .sum()만 붙여주면\n",
    "\n",
    "True는 1이기 때문에 결측치 수만큼 숫자가 늘어난다.\n",
    "\n",
    "그래서 이렇게 한 눈에 결측치가 얼마나 있는지 편리하게 확인할 수 있다.\n",
    "\"\"\""
   ]
  },
  {
   "cell_type": "code",
   "execution_count": 9,
   "metadata": {},
   "outputs": [
    {
     "name": "stdout",
     "output_type": "stream",
     "text": [
      "PassengerId      0\n",
      "Survived         0\n",
      "Pclass           0\n",
      "Name             0\n",
      "Sex              0\n",
      "Age            177\n",
      "SibSp            0\n",
      "Parch            0\n",
      "Ticket           0\n",
      "Fare             0\n",
      "Cabin          687\n",
      "Embarked         2\n",
      "dtype: int64\n"
     ]
    }
   ],
   "source": [
    "# 예제 : (내게는 대용량인) 타이타닉 데이터의 결측치 확인\n",
    "\n",
    "import pandas as pd\n",
    "tat=pd.read_csv(\"c:\\\\data\\\\train.csv\")\n",
    "print(tat.isnull().sum())"
   ]
  }
 ],
 "metadata": {
  "kernelspec": {
   "display_name": "Python 3",
   "language": "python",
   "name": "python3"
  },
  "language_info": {
   "codemirror_mode": {
    "name": "ipython",
    "version": 3
   },
   "file_extension": ".py",
   "mimetype": "text/x-python",
   "name": "python",
   "nbconvert_exporter": "python",
   "pygments_lexer": "ipython3",
   "version": "3.8.5"
  }
 },
 "nbformat": 4,
 "nbformat_minor": 4
}
