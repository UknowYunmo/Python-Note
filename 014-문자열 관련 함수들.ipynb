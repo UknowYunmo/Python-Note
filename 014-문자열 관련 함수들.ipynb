{
 "cells": [
  {
   "cell_type": "code",
   "execution_count": null,
   "metadata": {},
   "outputs": [],
   "source": [
    "파이썬의 인덱스는 0부터 시작한다.\n",
    "\n",
    "파이썬의 인덱스는 음수도 가능하다.\n",
    "\n",
    "print('scott'[0]) # s\n",
    "print('scott'[2]) # o\n",
    "\n",
    "a='scott'\n",
    "print(a[0]) # s\n",
    "print(a[2]) # o\n",
    "print(a[-1])# t"
   ]
  },
  {
   "cell_type": "code",
   "execution_count": 1,
   "metadata": {},
   "outputs": [
    {
     "name": "stdout",
     "output_type": "stream",
     "text": [
      "KING\n",
      "BLAKE\n",
      "CLARK\n",
      "JONES\n",
      "MARTIN\n",
      "ALLEN\n",
      "TURNER\n",
      "JAMES\n",
      "WARD\n",
      "FORD\n",
      "SMITH\n",
      "SCOTT\n",
      "ADAMS\n",
      "MILLER\n"
     ]
    }
   ],
   "source": [
    "# 예제 : Pandas를 이용하지 않고 emp2.csv에서 이름만 출력하기\n",
    "\n",
    "import csv\n",
    "file = open(\"c:\\\\data\\\\emp2.csv\")\n",
    "emp_csv=csv.reader(file)\n",
    "for i in emp_csv:\n",
    "    print(i[1])"
   ]
  },
  {
   "cell_type": "code",
   "execution_count": 2,
   "metadata": {},
   "outputs": [
    {
     "name": "stdout",
     "output_type": "stream",
     "text": [
      "K\n",
      "B\n",
      "C\n",
      "J\n",
      "M\n",
      "A\n",
      "T\n",
      "J\n",
      "W\n",
      "F\n",
      "S\n",
      "S\n",
      "A\n",
      "M\n"
     ]
    }
   ],
   "source": [
    "# 예제 : 이름의 첫 글자만 출력하기\n",
    "import csv\n",
    "file = open(\"c:\\\\data\\\\emp2.csv\")\n",
    "emp_csv=csv.reader(file)\n",
    "for i in emp_csv:\n",
    "    print(i[1][0])"
   ]
  },
  {
   "cell_type": "code",
   "execution_count": null,
   "metadata": {},
   "outputs": [],
   "source": [
    "# 문자열에서 지정된 구간의 문자 얻기\n",
    "\n",
    "문자열에서  특정 구간에 있는 문자열을 얻으려면 슬라이싱을 이용한다.\n",
    "\n",
    "a='scott'\n",
    "print(a[0:2]) # sc\n",
    "print(a[3:]) # tt"
   ]
  },
  {
   "cell_type": "code",
   "execution_count": 3,
   "metadata": {},
   "outputs": [
    {
     "name": "stdout",
     "output_type": "stream",
     "text": [
      "KIN\n",
      "BLA\n",
      "CLA\n",
      "JON\n",
      "MAR\n",
      "ALL\n",
      "TUR\n",
      "JAM\n",
      "WAR\n",
      "FOR\n",
      "SMI\n",
      "SCO\n",
      "ADA\n",
      "MIL\n"
     ]
    }
   ],
   "source": [
    "# 예제 : Pandas를 이용하지 않고 사원의 이름(1~3번째 철자를 출력)\n",
    "\n",
    "\"\"\"\n",
    "SQL > select ename, substr(ename,1,3)\n",
    "        from emp;\n",
    "\"\"\"\n",
    "import csv\n",
    "file = open(\"c:\\\\data\\\\emp2.csv\")\n",
    "emp_csv=csv.reader(file)\n",
    "for i in emp_csv:\n",
    "    print(i[1][0:3])\n",
    "    \n",
    "    # 오라클과 파이썬의 문자열 번호 시작점, 끝점이 다르니 유의하자"
   ]
  },
  {
   "cell_type": "code",
   "execution_count": 9,
   "metadata": {},
   "outputs": [
    {
     "name": "stdout",
     "output_type": "stream",
     "text": [
      "aAbBcCdDeEfFgGhH\n",
      "abcdefgh\n"
     ]
    }
   ],
   "source": [
    "# 문자열에서 홀수 번째 문자만 추출하기\n",
    "\n",
    "\"\"\"\n",
    "주어진 문자열에서 홀수 번째 문자만 추출하는 방법은\n",
    "슬라이싱의 스텝을 이용하면 된다.\n",
    "\"\"\"\n",
    "\n",
    "txt='aAbBcCdDeEfFgGhH'\n",
    "\n",
    "result=txt[0:] # 첫번째부터 문자 끝까지 출력\n",
    "result2=txt[0::2] # 첫번째부터 문자 끝까지 2n번째 자리 출력\n",
    "print(result)\n",
    "print(result2)"
   ]
  },
  {
   "cell_type": "code",
   "execution_count": 11,
   "metadata": {},
   "outputs": [
    {
     "name": "stdout",
     "output_type": "stream",
     "text": [
      "aAbBcCdDeEfFgGhH\n",
      "HhGgFfEeDdCcBbAa\n",
      "-----------\n",
      "GNIK\n",
      "EKALB\n",
      "KRALC\n",
      "SENOJ\n",
      "NITRAM\n",
      "NELLA\n",
      "RENRUT\n",
      "SEMAJ\n",
      "DRAW\n",
      "DROF\n",
      "HTIMS\n",
      "TTOCS\n",
      "SMADA\n",
      "RELLIM\n"
     ]
    }
   ],
   "source": [
    "# 슬라이싱을 이용한 문자열 뒤집기\n",
    "\n",
    "txt='aAbBcCdDeEfFgGhH'\n",
    "\n",
    "result=txt[::] # 문자열 전체\n",
    "print(result)\n",
    "result=txt[::-1] # 문자열 전체를 반대로\n",
    "print(result)\n",
    "\n",
    "# 예제 : emp2.csv 파일의 사원의 이름을 거꾸로 출력하기\n",
    "print('-----------')\n",
    "\n",
    "import csv\n",
    "file = open(\"c:\\\\data\\\\emp2.csv\")\n",
    "emp_csv=csv.reader(file)\n",
    "for i in emp_csv:\n",
    "    print(i[1][::-1])"
   ]
  },
  {
   "cell_type": "code",
   "execution_count": 13,
   "metadata": {},
   "outputs": [
    {
     "name": "stdout",
     "output_type": "stream",
     "text": [
      "scottking\n",
      "KING의 월급은 5000원 입니다\n",
      "BLAKE의 월급은 2850원 입니다\n",
      "CLARK의 월급은 2450원 입니다\n",
      "JONES의 월급은 2975원 입니다\n",
      "MARTIN의 월급은 1250원 입니다\n",
      "ALLEN의 월급은 1600원 입니다\n",
      "TURNER의 월급은 1500원 입니다\n",
      "JAMES의 월급은 950원 입니다\n",
      "WARD의 월급은 1250원 입니다\n",
      "FORD의 월급은 3000원 입니다\n",
      "SMITH의 월급은 800원 입니다\n",
      "SCOTT의 월급은 3000원 입니다\n",
      "ADAMS의 월급은 1100원 입니다\n",
      "MILLER의 월급은 1300원 입니다\n"
     ]
    }
   ],
   "source": [
    "# 문자열 합치기\n",
    "\n",
    "\"\"\"\n",
    "두 개의 문자열을 합치는 방법은 매우 간단하다.\n",
    "문자열1 + 문자열2 + 문자열3 처럼 + 연산자를 이용하기만 하면 된다.\n",
    "\"\"\"\n",
    "\n",
    "a= 'scott'\n",
    "b= 'king'\n",
    "print(a+b) # scottking\n",
    "\n",
    "# + 연산자를 활용하여 사원의 월급 출력하기\n",
    "\n",
    "import csv\n",
    "file = open(\"c:\\\\data\\\\emp2.csv\")\n",
    "emp_csv=csv.reader(file)\n",
    "for i in emp_csv:\n",
    "    print(i[1] + '의 월급은 ' + i[5] + '원 입니다')"
   ]
  },
  {
   "cell_type": "code",
   "execution_count": 16,
   "metadata": {},
   "outputs": [
    {
     "name": "stdout",
     "output_type": "stream",
     "text": [
      "Python Python Python \n",
      "1\n",
      "22\n",
      "333\n",
      "4444\n",
      "55555\n",
      "666666\n",
      "7777777\n",
      "88888888\n",
      "999999999\n",
      "가로의 숫자를 입력하세요~ 5\n",
      "세로의 숫자를 입력하세요~ 3\n",
      "*****\n",
      "*****\n",
      "*****\n"
     ]
    }
   ],
   "source": [
    "# 문자열 반복해서 새로운 문자열로 만들기\n",
    "\n",
    "print('Python '*3) # Python Python Python\n",
    "\n",
    "for i in range(1,10):\n",
    "    print(str(i)*i)\n",
    "    \n",
    "x=int(input('가로의 숫자를 입력하세요~ '))\n",
    "y=int(input('세로의 숫자를 입력하세요~ '))\n",
    " \n",
    "for i in range(y):\n",
    "    print('*'*x)"
   ]
  },
  {
   "cell_type": "code",
   "execution_count": 19,
   "metadata": {},
   "outputs": [
    {
     "name": "stdout",
     "output_type": "stream",
     "text": [
      "존재합니다\n",
      "JONES\n",
      "JAMES\n",
      "SMITH\n",
      "SCOTT\n",
      "ADAMS\n",
      "68\n"
     ]
    }
   ],
   "source": [
    "# 문자열에서 특정 문자가 있는지 확인하기 ( in )\n",
    "\n",
    "txt='abcdefghijklmnopqr'\n",
    " \n",
    "if 'ijk' in txt:\n",
    "    print('존재합니다')\n",
    "else:\n",
    "    print('없습니다')\n",
    "    \n",
    "# 예제 : emp2.csv 파일의 사원의 이름에 s가 포함된 사원의 이름을 출력하기\n",
    "\"\"\"\n",
    "SQL > select ename\n",
    "        from emp\n",
    "        where ename like '%S%';\n",
    "\"\"\"\n",
    "import csv\n",
    "file = open(\"c:\\\\data\\\\emp2.csv\")\n",
    "emp_csv=csv.reader(file)\n",
    "for i in emp_csv:\n",
    "    if 's' in i[1].lower():\n",
    "        print(i[1])\n",
    "        \n",
    "# 예제 : 스티브 잡스 연설문을 읽어서 긍정단어 파일을 읽고 긍정단어가 연선문에 몇 개 들어있는지 확인하기\n",
    "\n",
    "positive = open('c:\\\\data\\\\positive-words.txt',encoding='UTF-8')\n",
    "pos = positive.read().split()\n",
    "stev = open('c:\\\\data\\\\jobs.txt',encoding='UTF-8')\n",
    "stev2 = stev.read().split()\n",
    "cnt = 0\n",
    "for i in stev2:\n",
    "    if i.lower() in pos:\n",
    "        cnt += 1\n",
    "print(cnt)"
   ]
  },
  {
   "cell_type": "code",
   "execution_count": null,
   "metadata": {},
   "outputs": [],
   "source": [
    "# 문자열이 문자인지 검사하기\n",
    "\n",
    "\n",
    "\n",
    "문자열은 문자나 숫자, 기호들로 구성이 된다.\n",
    "\n",
    "코드를 작성하다 보면 특정 문자열이 한글이나 알파벳과 같이\n",
    "\n",
    "사람의 언어를 표현하기 위해 사용되는 문자로만 구성되어 있는지 확인해야하는 경우가 있다.\n",
    "\n",
    "파이썬 문자열 객체가 제공하는 메소드인 isalpha() 는 문자열이 사람의 언어 문자로만 구성되어 있는지 확인해준다.\n",
    "\n",
    "\n",
    "\n",
    "-----------------------------------\n",
    "\n",
    "* isalpha() -> 알파벳(한글) 확인\n",
    "\n",
    "* isdigit() -> 숫자 확인\n",
    "\n",
    "* isspace() -> 공백 확인\n",
    "\n",
    "* isalnum() -> 알파벳(한글) or 숫자 확인\n",
    "\n",
    "-----------------------------------\n",
    "\n",
    "\n",
    "\n",
    "t1='Warcarft three'\n",
    "\n",
    "t2='안녕'\n",
    "\n",
    "t3='3PO'\n",
    "\n",
    "print(txt1.isalpha())  # False ( 공백 )\n",
    "\n",
    "print(txt2.isalpha())  # True -> 한글도 가능\n",
    "\n",
    "print(txt3.isalpha())  # False ( 숫자 )"
   ]
  },
  {
   "cell_type": "code",
   "execution_count": 20,
   "metadata": {},
   "outputs": [
    {
     "name": "stdout",
     "output_type": "stream",
     "text": [
      "9255\n"
     ]
    }
   ],
   "source": [
    "# 예제 : 잡스 연설문에서 알파벳이 몇 개인지 확인하기\n",
    "\n",
    "stev = open(\"c:\\\\data\\\\jobs.txt\",encoding='UTF-8')\n",
    "stev2 = stev.read().split('\\n')\n",
    "cnt=0\n",
    "for i in stev2:\n",
    "    for j in i:\n",
    "        cnt+=j.isalpha()\n",
    "print(cnt)\n",
    "\n",
    "\"\"\"\n",
    "일단 split으로 \\n을 기준으로 나눠서 즉 한 행씩 stev2에 리스트로 저장한다.\n",
    "\n",
    "그럼 각 한 행들은 for 문에서 i가 되고\n",
    "\n",
    "j는 한 행 속에 들어있는 문자를 의미한다.\n",
    "\n",
    "이게 알파벳이면 isalpha()에서 1이 되고, 특수문자나 숫자면 0이 되어 cnt에 더해진다.\n",
    "\n",
    "최종적으로 cnt는 jobs txt 파일속의 알파벳 수가 된다.\n",
    "\"\"\""
   ]
  },
  {
   "cell_type": "code",
   "execution_count": 21,
   "metadata": {},
   "outputs": [
    {
     "name": "stdout",
     "output_type": "stream",
     "text": [
      "이름을 입력하세요~ scott\n",
      "SCOTT 3000\n"
     ]
    }
   ],
   "source": [
    "# 문자열을 대문자, 소문자로 변환하는 함수 ( lower, upper )\n",
    "\n",
    "import csv\n",
    "file=open(\"c:\\\\data\\\\emp2.csv\")\n",
    "emp_csv=csv.reader(file)\n",
    "name=input('이름을 입력하세요~ ')\n",
    "for i in emp_csv:\n",
    "    if i[1].lower()==name:\n",
    "        print(i[1],i[5])"
   ]
  },
  {
   "cell_type": "code",
   "execution_count": null,
   "metadata": {},
   "outputs": [],
   "source": [
    "# 문자열에서 좌우 공백 제거하기 ( lstrip, rstrip, strip )\n",
    "\n",
    "     함수                        설명\n",
    "\n",
    "    lstrip        문자열에서 존재하는 왼쪽 공백 제거\n",
    "\n",
    "    rstrip        문자열에서 존재하는 오른쪽 공백 제거\n",
    "\n",
    "    strip        문자열에서 존재하는 양쪽 공백 제거"
   ]
  },
  {
   "cell_type": "code",
   "execution_count": 22,
   "metadata": {},
   "outputs": [
    {
     "name": "stdout",
     "output_type": "stream",
     "text": [
      "양쪽에 공백이 있는 문자열입니다                 \n",
      "               양쪽에 공백이 있는 문자열입니다\n",
      "양쪽에 공백이 있는 문자열입니다\n"
     ]
    }
   ],
   "source": [
    "txt7 = '               양쪽에 공백이 있는 문자열입니다                 '\n",
    "\n",
    "print(txt7.lstrip())\n",
    "print(txt7.rstrip())\n",
    "print(txt7.strip())"
   ]
  }
 ],
 "metadata": {
  "kernelspec": {
   "display_name": "Python 3",
   "language": "python",
   "name": "python3"
  },
  "language_info": {
   "codemirror_mode": {
    "name": "ipython",
    "version": 3
   },
   "file_extension": ".py",
   "mimetype": "text/x-python",
   "name": "python",
   "nbconvert_exporter": "python",
   "pygments_lexer": "ipython3",
   "version": "3.8.5"
  }
 },
 "nbformat": 4,
 "nbformat_minor": 4
}
