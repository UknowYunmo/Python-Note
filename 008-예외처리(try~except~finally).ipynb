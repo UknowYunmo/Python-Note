{
 "cells": [
  {
   "cell_type": "code",
   "execution_count": null,
   "metadata": {},
   "outputs": [],
   "source": [
    "# 예외처리\n",
    "\n",
    "프로그램을 작성하다보면 뜻하지 않은 오류가 발생하는 코드가 있다.\n",
    "프로그램이 실행되는 동안 오류가 발생하면\n",
    "프로그램이 더 이상 진행될 수 없는 상태가 되는데 이를 예외 상황이라고 한다.\n",
    "프로그램에 예외가 발생하더라도 프로그램을 중단시키지 않고\n",
    "예외에 대한 적절한 처리를 하여 프로그램을 계속 진행시키게 하는 구문이\n",
    "try~except이다.\n",
    "\n",
    "try:\n",
    "    문제가 없을 경우 실행할 코드\n",
    "except:\n",
    "    문제가 생겼을 때 실행할 코드\n",
    "\n",
    "try와 except 사이의 코드가 실행이 잘 되었다면\n",
    "except 이후의 문장은 실행되지 않는다."
   ]
  },
  {
   "cell_type": "code",
   "execution_count": 2,
   "metadata": {},
   "outputs": [
    {
     "name": "stdout",
     "output_type": "stream",
     "text": [
      "분자의 숫자를 입력하세요~1\n",
      "분모의 숫자를 입력하세요~0\n"
     ]
    },
    {
     "ename": "ZeroDivisionError",
     "evalue": "division by zero",
     "output_type": "error",
     "traceback": [
      "\u001b[1;31m---------------------------------------------------------------------------\u001b[0m",
      "\u001b[1;31mZeroDivisionError\u001b[0m                         Traceback (most recent call last)",
      "\u001b[1;32m<ipython-input-2-367ab462b924>\u001b[0m in \u001b[0;36m<module>\u001b[1;34m\u001b[0m\n\u001b[0;32m      3\u001b[0m     \u001b[0my\u001b[0m\u001b[1;33m=\u001b[0m\u001b[0minput\u001b[0m\u001b[1;33m(\u001b[0m\u001b[1;34m'분모의 숫자를 입력하세요~'\u001b[0m\u001b[1;33m)\u001b[0m\u001b[1;33m\u001b[0m\u001b[1;33m\u001b[0m\u001b[0m\n\u001b[0;32m      4\u001b[0m     \u001b[1;32mreturn\u001b[0m \u001b[0mint\u001b[0m\u001b[1;33m(\u001b[0m\u001b[0mx\u001b[0m\u001b[1;33m)\u001b[0m\u001b[1;33m/\u001b[0m\u001b[0mint\u001b[0m\u001b[1;33m(\u001b[0m\u001b[0my\u001b[0m\u001b[1;33m)\u001b[0m\u001b[1;33m\u001b[0m\u001b[1;33m\u001b[0m\u001b[0m\n\u001b[1;32m----> 5\u001b[1;33m \u001b[0mprint\u001b[0m\u001b[1;33m(\u001b[0m\u001b[0mmy_divide\u001b[0m\u001b[1;33m(\u001b[0m\u001b[1;33m)\u001b[0m\u001b[1;33m)\u001b[0m\u001b[1;33m\u001b[0m\u001b[1;33m\u001b[0m\u001b[0m\n\u001b[0m",
      "\u001b[1;32m<ipython-input-2-367ab462b924>\u001b[0m in \u001b[0;36mmy_divide\u001b[1;34m()\u001b[0m\n\u001b[0;32m      2\u001b[0m     \u001b[0mx\u001b[0m\u001b[1;33m=\u001b[0m\u001b[0minput\u001b[0m\u001b[1;33m(\u001b[0m\u001b[1;34m'분자의 숫자를 입력하세요~'\u001b[0m\u001b[1;33m)\u001b[0m\u001b[1;33m\u001b[0m\u001b[1;33m\u001b[0m\u001b[0m\n\u001b[0;32m      3\u001b[0m     \u001b[0my\u001b[0m\u001b[1;33m=\u001b[0m\u001b[0minput\u001b[0m\u001b[1;33m(\u001b[0m\u001b[1;34m'분모의 숫자를 입력하세요~'\u001b[0m\u001b[1;33m)\u001b[0m\u001b[1;33m\u001b[0m\u001b[1;33m\u001b[0m\u001b[0m\n\u001b[1;32m----> 4\u001b[1;33m     \u001b[1;32mreturn\u001b[0m \u001b[0mint\u001b[0m\u001b[1;33m(\u001b[0m\u001b[0mx\u001b[0m\u001b[1;33m)\u001b[0m\u001b[1;33m/\u001b[0m\u001b[0mint\u001b[0m\u001b[1;33m(\u001b[0m\u001b[0my\u001b[0m\u001b[1;33m)\u001b[0m\u001b[1;33m\u001b[0m\u001b[1;33m\u001b[0m\u001b[0m\n\u001b[0m\u001b[0;32m      5\u001b[0m \u001b[0mprint\u001b[0m\u001b[1;33m(\u001b[0m\u001b[0mmy_divide\u001b[0m\u001b[1;33m(\u001b[0m\u001b[1;33m)\u001b[0m\u001b[1;33m)\u001b[0m\u001b[1;33m\u001b[0m\u001b[1;33m\u001b[0m\u001b[0m\n",
      "\u001b[1;31mZeroDivisionError\u001b[0m: division by zero"
     ]
    }
   ],
   "source": [
    "def my_divide():\n",
    "    x=input('분자의 숫자를 입력하세요~')\n",
    "    y=input('분모의 숫자를 입력하세요~')\n",
    "    return int(x)/int(y)\n",
    "print(my_divide())"
   ]
  },
  {
   "cell_type": "code",
   "execution_count": 3,
   "metadata": {},
   "outputs": [
    {
     "name": "stdout",
     "output_type": "stream",
     "text": [
      "분자의 숫자를 입력하세요~1\n",
      "분모의 숫자를 입력하세요~0\n",
      "0으로 나눌 수 없습니다\n"
     ]
    }
   ],
   "source": [
    "def my_divide():\n",
    "    try:\n",
    "        x=input('분자의 숫자를 입력하세요~')\n",
    "        y=input('분모의 숫자를 입력하세요~')\n",
    "        return int(x)/int(y)\n",
    "    except:\n",
    "        return '0으로 나눌 수 없습니다'\n",
    "print(my_divide())"
   ]
  },
  {
   "cell_type": "code",
   "execution_count": 10,
   "metadata": {},
   "outputs": [
    {
     "name": "stdout",
     "output_type": "stream",
     "text": [
      "     ename   sal\n",
      "0     KING  5000\n",
      "1    BLAKE  2850\n",
      "2    CLARK  2450\n",
      "3    JONES  2975\n",
      "4   MARTIN  1250\n",
      "5    ALLEN  1600\n",
      "6   TURNER  1500\n",
      "7    JAMES   950\n",
      "8     WARD  1250\n",
      "9     FORD  3000\n",
      "10   SMITH   800\n",
      "11   SCOTT  3000\n",
      "12   ADAMS  1100\n",
      "13  MILLER  1300\n",
      "--------------------\n",
      "    ename   sal\n",
      "11  SCOTT  3000\n"
     ]
    }
   ],
   "source": [
    "import pandas as pd\n",
    "\n",
    "emp=pd.read_csv(\"c:\\\\data\\\\emp3.csv\")\n",
    "print(emp[['ename','sal']])\n",
    "print('--------------------')\n",
    "print(emp[['ename','sal']][emp['ename']=='SCOTT'])"
   ]
  },
  {
   "cell_type": "code",
   "execution_count": 14,
   "metadata": {},
   "outputs": [
    {
     "name": "stdout",
     "output_type": "stream",
     "text": [
      "이름을 입력하세요 : scott\n",
      "    ename   sal\n",
      "11  SCOTT  3000\n"
     ]
    }
   ],
   "source": [
    "import pandas as pd\n",
    "\n",
    "name=input('이름을 입력하세요 : ').upper()\n",
    "\n",
    "emp=pd.read_csv(\"c:\\\\data\\\\emp3.csv\")\n",
    "print(emp[['ename','sal']][emp['ename']==name])"
   ]
  },
  {
   "cell_type": "code",
   "execution_count": 13,
   "metadata": {},
   "outputs": [
    {
     "name": "stdout",
     "output_type": "stream",
     "text": [
      "이름을 입력하세요 : jack\n",
      "     ename   sal\n",
      "0     KING  5000\n",
      "1    BLAKE  2850\n",
      "2    CLARK  2450\n",
      "3    JONES  2975\n",
      "4   MARTIN  1250\n",
      "5    ALLEN  1600\n",
      "6   TURNER  1500\n",
      "7    JAMES   950\n",
      "8     WARD  1250\n",
      "9     FORD  3000\n",
      "10   SMITH   800\n",
      "11   SCOTT  3000\n",
      "12   ADAMS  1100\n",
      "13  MILLER  1300\n",
      "--------------------\n",
      "Empty DataFrame\n",
      "Columns: [ename, sal]\n",
      "Index: []\n"
     ]
    }
   ],
   "source": [
    "import pandas as pd\n",
    "\n",
    "name=input('이름을 입력하세요 : ').upper()\n",
    "\n",
    "emp=pd.read_csv(\"c:\\\\data\\\\emp3.csv\")\n",
    "print(emp[['ename','sal']][emp['ename']==name])"
   ]
  },
  {
   "cell_type": "code",
   "execution_count": 15,
   "metadata": {},
   "outputs": [
    {
     "name": "stdout",
     "output_type": "stream",
     "text": [
      "이름을 입력하세요 : jack\n",
      "Empty DataFrame\n",
      "Columns: [ename, sal]\n",
      "Index: []\n"
     ]
    }
   ],
   "source": [
    "# 위 코드에 예외 처리를 해서 없는 사원 이름을 입력하면\n",
    "# 경고 메세지를 출력하게 변경\n",
    "\n",
    "name=input('이름을 입력하세요 : ').upper()\n",
    "\n",
    "emp=pd.read_csv(\"c:\\\\data\\\\emp3.csv\")\n",
    "try:\n",
    "    print(emp[['ename','sal']][emp['ename']==name])\n",
    "except:\n",
    "    print(name,'은 없는 직원입니다')\n",
    "    \n",
    "# --> 이건 오류가 아니라서 예외처리가 되지 않는다."
   ]
  },
  {
   "cell_type": "code",
   "execution_count": 18,
   "metadata": {},
   "outputs": [
    {
     "name": "stdout",
     "output_type": "stream",
     "text": [
      "숫자를 입력하세요 : 엌\n"
     ]
    },
    {
     "ename": "ValueError",
     "evalue": "invalid literal for int() with base 10: '엌'",
     "output_type": "error",
     "traceback": [
      "\u001b[1;31m---------------------------------------------------------------------------\u001b[0m",
      "\u001b[1;31mValueError\u001b[0m                                Traceback (most recent call last)",
      "\u001b[1;32m<ipython-input-18-f82c0d7ef482>\u001b[0m in \u001b[0;36m<module>\u001b[1;34m\u001b[0m\n\u001b[0;32m      1\u001b[0m \u001b[1;31m# 숫자를 입력하면 제곱값을 출력하기\u001b[0m\u001b[1;33m\u001b[0m\u001b[1;33m\u001b[0m\u001b[1;33m\u001b[0m\u001b[0m\n\u001b[0;32m      2\u001b[0m \u001b[1;33m\u001b[0m\u001b[0m\n\u001b[1;32m----> 3\u001b[1;33m \u001b[0mn\u001b[0m\u001b[1;33m=\u001b[0m\u001b[0mint\u001b[0m\u001b[1;33m(\u001b[0m\u001b[0minput\u001b[0m\u001b[1;33m(\u001b[0m\u001b[1;34m'숫자를 입력하세요 : '\u001b[0m\u001b[1;33m)\u001b[0m\u001b[1;33m)\u001b[0m\u001b[1;33m\u001b[0m\u001b[1;33m\u001b[0m\u001b[0m\n\u001b[0m\u001b[0;32m      4\u001b[0m \u001b[0mprint\u001b[0m\u001b[1;33m(\u001b[0m\u001b[0mn\u001b[0m\u001b[1;33m**\u001b[0m\u001b[1;36m2\u001b[0m\u001b[1;33m)\u001b[0m\u001b[1;33m\u001b[0m\u001b[1;33m\u001b[0m\u001b[0m\n",
      "\u001b[1;31mValueError\u001b[0m: invalid literal for int() with base 10: '엌'"
     ]
    }
   ],
   "source": [
    "# 숫자를 입력하면 제곱값을 출력하기\n",
    "\n",
    "n=int(input('숫자를 입력하세요 : '))\n",
    "print(n**2)"
   ]
  },
  {
   "cell_type": "code",
   "execution_count": 19,
   "metadata": {},
   "outputs": [
    {
     "name": "stdout",
     "output_type": "stream",
     "text": [
      "숫자를 입력하세요 : 엌\n",
      "숫자를 입력해주세요\n"
     ]
    }
   ],
   "source": [
    "try:\n",
    "    n=int(input('숫자를 입력하세요 : '))\n",
    "    print(n**2)\n",
    "except:\n",
    "    print('숫자를 입력해주세요')"
   ]
  },
  {
   "cell_type": "code",
   "execution_count": null,
   "metadata": {},
   "outputs": [],
   "source": [
    "try:\n",
    "    실행할 코드 블럭\n",
    "except:\n",
    "    예외처리할 코드 블럭\n",
    "else:\n",
    "    except 절을 만나지 않을 경우 출력"
   ]
  },
  {
   "cell_type": "code",
   "execution_count": 20,
   "metadata": {},
   "outputs": [
    {
     "name": "stdout",
     "output_type": "stream",
     "text": [
      "숫자를 입력하세요 : 30\n",
      "900\n",
      "오류가 발생하지 않았습니다\n"
     ]
    }
   ],
   "source": [
    "try:\n",
    "    n=int(input('숫자를 입력하세요 : '))\n",
    "    print(n**2)\n",
    "except:\n",
    "    print('숫자를 입력해주세요')\n",
    "else:\n",
    "    print('오류가 발생하지 않았습니다')"
   ]
  },
  {
   "cell_type": "code",
   "execution_count": 21,
   "metadata": {},
   "outputs": [
    {
     "name": "stdout",
     "output_type": "stream",
     "text": [
      "hi\n",
      "무조건 출력\n"
     ]
    }
   ],
   "source": [
    "\"\"\"\n",
    "오류 발생 유무와 상관없이 어떤 코드를 무조건 실행시키려면\n",
    "try~except~finally 구문을 활용한다.\n",
    "무조건 실행시키고 싶은 코드는 fianlly 부분에 작성한다.\n",
    "\"\"\"\n",
    "\n",
    "try:\n",
    "    print('hi~')\n",
    "except:\n",
    "    print('예외 발생!')\n",
    "finally:\n",
    "    print('무조건 출력')"
   ]
  },
  {
   "cell_type": "code",
   "execution_count": 24,
   "metadata": {},
   "outputs": [
    {
     "name": "stdout",
     "output_type": "stream",
     "text": [
      "분자의 숫자를 입력하세요10\n",
      "분모의 숫자를 입력하세요0\n",
      "나누기를 할 수 없습니다\n",
      "프로그램 종료\n"
     ]
    }
   ],
   "source": [
    "try:\n",
    "    x=int(input('분자의 숫자를 입력하세요'))\n",
    "    y=int(input('분모의 숫자를 입력하세요'))\n",
    "    print(x/y)\n",
    "except:\n",
    "    print('나누기를 할 수 없습니다')\n",
    "else:\n",
    "    print('성공적')\n",
    "finally:\n",
    "    print('프로그램 종료')"
   ]
  }
 ],
 "metadata": {
  "kernelspec": {
   "display_name": "Python 3",
   "language": "python",
   "name": "python3"
  },
  "language_info": {
   "codemirror_mode": {
    "name": "ipython",
    "version": 3
   },
   "file_extension": ".py",
   "mimetype": "text/x-python",
   "name": "python",
   "nbconvert_exporter": "python",
   "pygments_lexer": "ipython3",
   "version": "3.8.5"
  }
 },
 "nbformat": 4,
 "nbformat_minor": 4
}
