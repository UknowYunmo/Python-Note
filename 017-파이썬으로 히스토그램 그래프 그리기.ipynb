{
 "cells": [
  {
   "cell_type": "code",
   "execution_count": null,
   "metadata": {},
   "outputs": [],
   "source": [
    "# 파이썬으로 히스토그램 그래프 그리기\n",
    "\n",
    "\n",
    "\n",
    "히스토그램 그래프는 계급을 가로축에, 도수를 세로축에 나타낸 뒤\n",
    "\n",
    "각 계급의 크기를 가로의 길이로 하고 도수를 세로의 길이로 하는 직사각형을\n",
    "\n",
    "차례대로 그려서 나타낸 그래프이다."
   ]
  },
  {
   "cell_type": "code",
   "execution_count": 1,
   "metadata": {},
   "outputs": [
    {
     "name": "stdout",
     "output_type": "stream",
     "text": [
      "[ 6008  9745 13307 15513 15620 13278  9664  5998  3249] [142 144 146 148 150 152 154 156 158 160]\n"
     ]
    }
   ],
   "source": [
    "# 예제 : 평균이 150, 표준편차가 5인 초등학생 10만명의 키가 담긴 리스트 생성\n",
    "\n",
    "import numpy as np\n",
    "height=np.random.randn(100000)*5+150\n",
    "\n",
    "# randn ( 표본수 ) * 표준편차 + 평균을 따르는 가우시안 표준 정규분포를 따르는 난수들 생성\n",
    "\n",
    "bins=[142,144,146,148,150,152,154,156,158,160]\n",
    "# bins=list(range(142,161,2))로 해도 된다.\n",
    "# 계급의 크기를 나타내는 가로의 길이를 설정\n",
    "\n",
    "hist,bins=np.histogram(height,bins)\n",
    "print(hist,bins)\n",
    "\n",
    "# 도수분포표 확인하기\n",
    "\n",
    "\"\"\"\n",
    "142~144 미만 : 5931명\n",
    "\n",
    "144~146 미만 : 9778명\n",
    "\n",
    "146~148 미만 : 13211명\n",
    "\n",
    "...\n",
    "\n",
    "\"\"\""
   ]
  },
  {
   "cell_type": "code",
   "execution_count": 2,
   "metadata": {},
   "outputs": [
    {
     "data": {
      "text/plain": [
       "(array([ 6025.,  9548., 13224., 15559., 15648., 13334.,  9672.,  5943.,\n",
       "         3237.]),\n",
       " array([142, 144, 146, 148, 150, 152, 154, 156, 158, 160]),\n",
       " <BarContainer object of 9 artists>)"
      ]
     },
     "execution_count": 2,
     "metadata": {},
     "output_type": "execute_result"
    },
    {
     "data": {
      "image/png": "[encoded data removed]",
      "text/plain": [
       "<Figure size 432x288 with 1 Axes>"
      ]
     },
     "metadata": {
      "needs_background": "light"
     },
     "output_type": "display_data"
    }
   ],
   "source": [
    "# 히스토그램 그래프 그리기\n",
    "\n",
    "import numpy as np\n",
    "height=np.random.randn(100000)*5+150\n",
    "bins=list(range(142,161,2))\n",
    "import matplotlib.pyplot as plt\n",
    "plt.hist(height,bins)"
   ]
  },
  {
   "cell_type": "code",
   "execution_count": 3,
   "metadata": {},
   "outputs": [
    {
     "data": {
      "text/plain": [
       "'\\nrwidth --> 히스토그램 그래프의 넓이\\n\\nalpha --> 색깔 투명도\\n\\ncolor --> 색깔\\n'"
      ]
     },
     "execution_count": 3,
     "metadata": {},
     "output_type": "execute_result"
    },
    {
     "data": {
      "image/png": "[encoded data removed]",
      "text/plain": [
       "<Figure size 432x288 with 1 Axes>"
      ]
     },
     "metadata": {
      "needs_background": "light"
     },
     "output_type": "display_data"
    }
   ],
   "source": [
    "# 히스토그램 그래프 꾸미기\n",
    "\n",
    "import numpy as np\n",
    "height=np.random.randn(100000)*5+150\n",
    "bins=list(range(142,161,2))\n",
    "import matplotlib.pyplot as plt\n",
    "plt.hist(height,bins,rwidth=0.9,alpha=0.7,color='skyblue')\n",
    "\n",
    "\"\"\"\n",
    "rwidth --> 히스토그램 그래프의 넓이\n",
    "\n",
    "alpha --> 색깔 투명도\n",
    "\n",
    "color --> 색깔\n",
    "\"\"\"\n"
   ]
  },
  {
   "cell_type": "code",
   "execution_count": 4,
   "metadata": {},
   "outputs": [
    {
     "data": {
      "text/plain": [
       "(array([ 4.,  9., 11.,  2.,  1.,  1.,  1.,  0.,  0.,  1.]),\n",
       " array([24, 26, 28, 30, 32, 34, 36, 38, 40, 42, 44]),\n",
       " <BarContainer object of 10 artists>)"
      ]
     },
     "execution_count": 4,
     "metadata": {},
     "output_type": "execute_result"
    },
    {
     "data": {
      "image/png": "[encoded data removed]",
      "text/plain": [
       "<Figure size 432x288 with 1 Axes>"
      ]
     },
     "metadata": {
      "needs_background": "light"
     },
     "output_type": "display_data"
    }
   ],
   "source": [
    "# emp1222.csv 파일을 읽고, 멤버들의 나이를 히스토그램 그래프로 표현하기\n",
    "\n",
    "import csv \n",
    "file=open('c:\\\\data\\\\emp1222.csv') \n",
    "emp_csv=csv.reader(file) \n",
    "data=[] \n",
    "for i in emp_csv: \n",
    "    data.append(int(i[2])) \n",
    "age=list(range(24,46,2)) \n",
    "import matplotlib.pyplot as plt \n",
    "plt.grid()\n",
    "plt.hist(data,age,rwidth=0.9,alpha=0.7,color='skyblue')"
   ]
  }
 ],
 "metadata": {
  "kernelspec": {
   "display_name": "Python 3",
   "language": "python",
   "name": "python3"
  },
  "language_info": {
   "codemirror_mode": {
    "name": "ipython",
    "version": 3
   },
   "file_extension": ".py",
   "mimetype": "text/x-python",
   "name": "python",
   "nbconvert_exporter": "python",
   "pygments_lexer": "ipython3",
   "version": "3.8.5"
  }
 },
 "nbformat": 4,
 "nbformat_minor": 4
}
