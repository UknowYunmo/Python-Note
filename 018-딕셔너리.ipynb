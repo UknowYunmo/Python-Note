{
 "cells": [
  {
   "cell_type": "code",
   "execution_count": null,
   "metadata": {},
   "outputs": [],
   "source": [
    "artist=['아이유','씨스타','이승기']\n",
    "\n",
    "music=['좋은날','러빙유','삭제']\n",
    "\n",
    "# 그냥 떠오르는거 적었는데 왤케 아재같지\n",
    "\n",
    "위 가수와 노래로 플레이리스트 melon을 만들어보자."
   ]
  },
  {
   "cell_type": "code",
   "execution_count": null,
   "metadata": {},
   "outputs": [],
   "source": [
    "# 딕셔너리 melon을 만들어보기 (노가다)\n",
    "\n",
    "melon={}\n",
    "\n",
    "melon['아이유']='좋은날'\n",
    "\n",
    "melon['씨스타']='러빙유'\n",
    "\n",
    "melon['이승기']='삭제'\n",
    "\n",
    "\n",
    "print(melon) # {'아이유': '좋은날', '씨스타': '러빙유', '이승기': '삭제'}"
   ]
  },
  {
   "cell_type": "code",
   "execution_count": 1,
   "metadata": {},
   "outputs": [
    {
     "name": "stdout",
     "output_type": "stream",
     "text": [
      "{'아이유': '좋은날', '씨스타': '러빙유', '이승기': '삭제'}\n"
     ]
    }
   ],
   "source": [
    "# 딕셔너리 melon 만들기 ( for 문과 zip 활용 )\n",
    "\n",
    "artist=['아이유','씨스타','이승기']\n",
    "music=['좋은날','러빙유','삭제']\n",
    "melon={}\n",
    "for i, k in zip (artist, music) :\n",
    "    melon[i]=k\n",
    "print(melon)"
   ]
  },
  {
   "cell_type": "code",
   "execution_count": null,
   "metadata": {},
   "outputs": [],
   "source": [
    "# 리스트의 모든 요소를 인덱스와 쌍으로 추출하기 ( enumerate )\n",
    "\n",
    "\n",
    "파이썬 내장함수 enumerate() 는 시퀀스 자료형을 인자로 받아\n",
    "\n",
    "각 요소를 인덱스와 함께 쌍으로 추출할 수 있는\n",
    "\n",
    "반복가능한 자료인 enumerate 객체를 리턴한다.\n",
    "\n",
    "enumerate 객체는 주로 for 문과 함께 사용되고, list()를 이용해서 리스트 객체로 변환할 수 있다."
   ]
  },
  {
   "cell_type": "code",
   "execution_count": 2,
   "metadata": {},
   "outputs": [
    {
     "name": "stdout",
     "output_type": "stream",
     "text": [
      "[(0, '손흥민'), (1, '민아'), (2, '신봉선')]\n"
     ]
    }
   ],
   "source": [
    "friend=['손흥민','민아','신봉선']\n",
    "result=list(enumerate(friend))\n",
    "print(result)"
   ]
  },
  {
   "cell_type": "code",
   "execution_count": 3,
   "metadata": {},
   "outputs": [
    {
     "name": "stdout",
     "output_type": "stream",
     "text": [
      "0 손흥민\n",
      "1 민아\n",
      "2 신봉선\n"
     ]
    }
   ],
   "source": [
    "friend=['손흥민','민아','신봉선']\n",
    "result=list(enumerate(friend))\n",
    "for i, k in result:\n",
    "    print(i,k)\n",
    "    \n",
    "# enumerate가 되면 이처럼 for 문에 i, k를 사용할 수도 있다."
   ]
  },
  {
   "cell_type": "code",
   "execution_count": 4,
   "metadata": {},
   "outputs": [
    {
     "name": "stdout",
     "output_type": "stream",
     "text": [
      "아이유 좋은날\n",
      "아이유 너의이름\n",
      "씨스타 러빙유\n",
      "이승기 삭제\n",
      "이승기 누난내여자니까\n"
     ]
    }
   ],
   "source": [
    "# 이를 활용하면 \n",
    "\n",
    "artist=['아이유','아이유','씨스타','이승기','이승기']\n",
    "music=['좋은날','너의이름','러빙유','삭제','누난내여자니까']\n",
    "for i, k in enumerate(artist):\n",
    "    print(k,music[i])\n",
    "\n",
    "# 이렇게 출력할 수도 있다"
   ]
  },
  {
   "cell_type": "code",
   "execution_count": null,
   "metadata": {},
   "outputs": [],
   "source": [
    "근데 이를 만약\n",
    "\n",
    "{ '아이유' : ['좋은날','너의이름'], '씨스타' : ['러빙유'], '이승기' : ['삭제','누난내여자니까'] }\n",
    "\n",
    "이렇게 키에 따른 여러 개의 값을 갖도록 만들고 싶으면\n",
    "\n",
    "그냥\n",
    "\n",
    "melon={} 해서 만드는 걸로는 불가능하다.\n",
    "\n",
    "\n",
    "melon={}\n",
    "\n",
    "melon['아이유']='좋은날'\n",
    "\n",
    "melon['아이유']='너의이름'\n",
    "\n",
    "print(melon) # {'아이유': '너의이름'} --> '좋은 날' 사라져버림\n",
    "\n",
    "\n",
    "그래서 이럴 때는 defaultdict을 이용해야 한다.\n",
    "\n",
    "defaultdict은 collections 패키지에 있다."
   ]
  },
  {
   "cell_type": "code",
   "execution_count": 5,
   "metadata": {},
   "outputs": [
    {
     "name": "stdout",
     "output_type": "stream",
     "text": [
      "defaultdict(<class 'list'>, {'아이유': ['좋은날', '너의이름']})\n"
     ]
    }
   ],
   "source": [
    "melon={}\n",
    "from collections import defaultdict\n",
    "melon=defaultdict(list)\n",
    "melon['아이유'].append('좋은날')\n",
    "melon['아이유'].append('너의이름')\n",
    "print(melon)"
   ]
  },
  {
   "cell_type": "code",
   "execution_count": 6,
   "metadata": {},
   "outputs": [
    {
     "name": "stdout",
     "output_type": "stream",
     "text": [
      "defaultdict(<class 'list'>, {'아이유': ['좋은날', '너의이름'], '씨스타': ['러빙유'], '이승기': ['삭제', '누난내여자니까']})\n"
     ]
    }
   ],
   "source": [
    "# 그래서 이렇게 일일이 노가다를 할 수도 있다\n",
    "\n",
    "melon={}\n",
    "from collections import defaultdict\n",
    "melon=defaultdict(list)\n",
    "melon['아이유'].append('좋은날')\n",
    "melon['아이유'].append('너의이름')\n",
    "melon['씨스타'].append('러빙유')\n",
    "melon['이승기'].append('삭제')\n",
    "melon['이승기'].append('누난내여자니까')\n",
    "print(melon)"
   ]
  },
  {
   "cell_type": "code",
   "execution_count": 7,
   "metadata": {},
   "outputs": [
    {
     "name": "stdout",
     "output_type": "stream",
     "text": [
      "defaultdict(<class 'list'>, {'아이유': ['좋은날', '너의이름'], '씨스타': ['러빙유'], '이승기': ['삭제', '누난내여자니까']})\n"
     ]
    }
   ],
   "source": [
    "# 그치만 지금까지 배운걸 활용하면 for문으로 할 수 있다.\n",
    "\n",
    "artist=['아이유','아이유','씨스타','이승기','이승기']\n",
    "music=['좋은날','너의이름','러빙유','삭제','누난내여자니까']\n",
    "melon={}\n",
    "from collections import defaultdict\n",
    "melon=defaultdict(list)\n",
    "for i, k in enumerate(artist):\n",
    "    melon[k].append(music[i])\n",
    "print(melon)"
   ]
  },
  {
   "cell_type": "code",
   "execution_count": null,
   "metadata": {},
   "outputs": [],
   "source": [
    "결과적으로 enumerate는 for 문으로 두 리스트를 동시에 참조할 때\n",
    "\n",
    "번호를 강제적으로 생성해줘서 for 문 안에 요소를 넣을 위치를 지정할 수 있게 하는 역할을 해준다\n",
    "\n",
    "\n",
    "\n",
    "그렇다면 노래들만 보고 싶다면 어떻게 해야할까?\n",
    "\n",
    "\n",
    "* 딕녀서리의 키들을 확인하는 함수 : .keys()\n",
    "\n",
    "  딕셔너리의 값들을 확인하는 함수 : .values()\n",
    "\n",
    "\n",
    "이 두 함수를 활용해보자."
   ]
  },
  {
   "cell_type": "code",
   "execution_count": 8,
   "metadata": {},
   "outputs": [
    {
     "name": "stdout",
     "output_type": "stream",
     "text": [
      "dict_keys(['아이유', '씨스타', '이승기'])\n",
      "dict_values([['좋은날', '너의이름'], ['러빙유'], ['삭제', '누난내여자니까']])\n"
     ]
    }
   ],
   "source": [
    "artist=['아이유','아이유','씨스타','이승기','이승기']\n",
    "music=['좋은날','너의이름','러빙유','삭제','누난내여자니까']\n",
    "melon={}\n",
    "from collections import defaultdict\n",
    "melon=defaultdict(list)\n",
    "for i, k in enumerate(artist):\n",
    "    melon[k].append(music[i])\n",
    "#print(melon)\n",
    "print(melon.keys())\n",
    "print(melon.values())\n",
    "\n",
    "# 위처럼 확인할 수는 있지만 원하는 결과값은 아니다."
   ]
  },
  {
   "cell_type": "code",
   "execution_count": 9,
   "metadata": {},
   "outputs": [
    {
     "name": "stdout",
     "output_type": "stream",
     "text": [
      "['좋은날', '너의이름']\n",
      "['러빙유']\n",
      "['삭제', '누난내여자니까']\n"
     ]
    }
   ],
   "source": [
    "# melon.values() 자체를 for문 안에 넣고 요소를 출력시키자.\n",
    "\n",
    "artist=['아이유','아이유','씨스타','이승기','이승기']\n",
    "music=['좋은날','너의이름','러빙유','삭제','누난내여자니까']\n",
    "melon={}\n",
    "from collections import defaultdict\n",
    "melon=defaultdict(list)\n",
    "for i, k in enumerate(artist):\n",
    "    melon[k].append(music[i])\n",
    "#print(melon)\n",
    "#print(melon.keys())\n",
    "#print(melon.values())\n",
    "for i in melon.values():\n",
    "    print(i)\n",
    "    \n",
    "# 리스트의 형태로 출력된 것을 확인할 수 있다. 거의 다 왔다."
   ]
  },
  {
   "cell_type": "code",
   "execution_count": 10,
   "metadata": {},
   "outputs": [
    {
     "name": "stdout",
     "output_type": "stream",
     "text": [
      "좋은날\n",
      "너의이름\n",
      "러빙유\n",
      "삭제\n",
      "누난내여자니까\n"
     ]
    }
   ],
   "source": [
    "artist=['아이유','아이유','씨스타','이승기','이승기']\n",
    "music=['좋은날','너의이름','러빙유','삭제','누난내여자니까']\n",
    "melon={}\n",
    "from collections import defaultdict\n",
    "melon=defaultdict(list)\n",
    "for i, k in enumerate(artist):\n",
    "    melon[k].append(music[i])\n",
    "#print(melon)\n",
    "#print(melon.keys())\n",
    "#print(melon.values())\n",
    "for i in melon.values():\n",
    "    for k in i: # ['좋은날','너의이름],['러빙유'],['삭제','누난내여자니까']\n",
    "        print(k)\n",
    "        \n",
    "# 마지막으로 한번 더 이렇게 for 문을 한 번 더 돌려주면, 노래 제목만 나오게 할 수 있다!"
   ]
  }
 ],
 "metadata": {
  "kernelspec": {
   "display_name": "Python 3",
   "language": "python",
   "name": "python3"
  },
  "language_info": {
   "codemirror_mode": {
    "name": "ipython",
    "version": 3
   },
   "file_extension": ".py",
   "mimetype": "text/x-python",
   "name": "python",
   "nbconvert_exporter": "python",
   "pygments_lexer": "ipython3",
   "version": "3.8.5"
  }
 },
 "nbformat": 4,
 "nbformat_minor": 4
}
