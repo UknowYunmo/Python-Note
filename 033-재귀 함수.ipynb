{
 "cells": [
  {
   "cell_type": "code",
   "execution_count": null,
   "metadata": {},
   "outputs": [],
   "source": [
    "재귀 함수 : 반복문 + 스택 구조의 결합\n",
    "\n",
    "(나중에 들어간게 먼저 나오는 구조)\n",
    "\n",
    "\n",
    "\n",
    "재귀 함수의 특징 : 재귀 함수는 함수 내에서 다시 자기 자신을 호출한 후\n",
    "\n",
    "그 함수가 끝날 때까지 함수 호출 이후의 명령문을 수행하지 않는다.\n",
    "\n",
    "\n",
    "\n",
    "재귀 함수의 장점 :\n",
    "\n",
    "1. loop문을 별도로 작성하지 않아도 된다.\n",
    "\n",
    "2. 코드가 간결해진다."
   ]
  },
  {
   "cell_type": "code",
   "execution_count": 1,
   "metadata": {},
   "outputs": [
    {
     "name": "stdout",
     "output_type": "stream",
     "text": [
      "11\n"
     ]
    }
   ],
   "source": [
    "def hap(a,b):\n",
    "    return (a+b)\n",
    "def gob(a,b):\n",
    "    return (a*b)\n",
    "def hap_gob(a,b):\n",
    "    k=hap(a,b) #5\n",
    "    m=gob(a,b) #6\n",
    "    return k+m\n",
    "print(hap_gob(2,3)) #11\n",
    "\n",
    "\"\"\"\n",
    "위처럼 파이썬은 함수 내에서 다른 함수를 불러오는 것이 가능하다.\n",
    "\n",
    "재귀 함수는 다른 함수가 아닌 자기 자신을 불러오는 것\n",
    "\"\"\""
   ]
  },
  {
   "cell_type": "code",
   "execution_count": 2,
   "metadata": {},
   "outputs": [
    {
     "name": "stdout",
     "output_type": "stream",
     "text": [
      "6\n"
     ]
    }
   ],
   "source": [
    "# 재귀 함수를 통해 1까지의 합 출력하기\n",
    "\n",
    "def add_func(n):\n",
    "    if n<=1: # 1보다 이하면 끝\n",
    "        return n\n",
    "    else:\n",
    "        return n+add_func(n-1)\n",
    "print(add_func(3)) # 3+2+1=6\n",
    "\n",
    "\"\"\"\n",
    "add_func(3) = 3 + add_func(2)\n",
    "\n",
    "                      2 + add_func(1)\n",
    "\n",
    "                             1\n",
    "\n",
    "add_func(3)= 3+ 2 + 1 = 6\"\"\""
   ]
  },
  {
   "cell_type": "code",
   "execution_count": 3,
   "metadata": {},
   "outputs": [
    {
     "name": "stdout",
     "output_type": "stream",
     "text": [
      "120\n"
     ]
    }
   ],
   "source": [
    "# 팩토리얼 함수 만들기\n",
    "\n",
    "def factorial(n):\n",
    "    if n==0 or n==1:\n",
    "        return 1\n",
    "    else:\n",
    "        return n*factorial(n-1)\n",
    "print(factorial(5)) #120\n",
    "\n",
    "\"\"\"\n",
    "아까와 비슷하지만 n일 때 팩토리얼 값은 1이 나오므로 조금만 바꿔주면 된다.\n",
    "\n",
    "\n",
    "\n",
    "재귀 함수를 작성할 때 항상 loop문 역할을 하는 코드가 나오기 전\n",
    "\n",
    "재귀 함수를 계속 돌다가 마지막에 재귀를 끝낼 조건을 맨 앞에 작성해두어야 한다.\n",
    "\n",
    "그래야 무한 루프가 돌지 않는다.\n",
    "\n",
    "\"\"\""
   ]
  },
  {
   "cell_type": "code",
   "execution_count": 4,
   "metadata": {},
   "outputs": [
    {
     "name": "stdout",
     "output_type": "stream",
     "text": [
      "125\n"
     ]
    }
   ],
   "source": [
    "# 제곱 함수 만들기\n",
    "\n",
    "def power(n,m):\n",
    "    if m==0:\n",
    "        return 1\n",
    "    else:\n",
    "        return n*power(n,m-1)\n",
    "print(power(5,3)) #125\n",
    "\n",
    "# 이런 함수를 만들지 않아도 pow() 함수가 있으니 그걸 사용하면 된다."
   ]
  },
  {
   "cell_type": "code",
   "execution_count": 5,
   "metadata": {},
   "outputs": [
    {
     "name": "stdout",
     "output_type": "stream",
     "text": [
      "2 x 9 = 18\n",
      "2 x 8 = 16\n",
      "2 x 7 = 14\n",
      "2 x 6 = 12\n",
      "2 x 5 = 10\n",
      "2 x 4 = 8\n",
      "2 x 3 = 6\n",
      "2 x 2 = 4\n",
      "2 x 1 = 2\n"
     ]
    }
   ],
   "source": [
    "# 구구단 만들기\n",
    "\n",
    "def multi_table_2dan(n):\n",
    "    if n==1:\n",
    "        return '2 x '+str(n)+' = '+str(2*n)\n",
    "    else:\n",
    "        print('2 x '+str(n)+' = '+str(2*n))\n",
    "        return multi_table_2dan(n-1)\n",
    "print(multi_table_2dan(9))"
   ]
  },
  {
   "cell_type": "code",
   "execution_count": 6,
   "metadata": {},
   "outputs": [
    {
     "name": "stdout",
     "output_type": "stream",
     "text": [
      "2 x 1 = 2\n",
      "2 x 2 = 4\n",
      "2 x 3 = 6\n",
      "2 x 4 = 8\n",
      "2 x 5 = 10\n",
      "2 x 6 = 12\n",
      "2 x 7 = 14\n",
      "2 x 8 = 16\n",
      "2 x 9 = 18\n"
     ]
    }
   ],
   "source": [
    "# 구구단 제대로 만들기\n",
    "\n",
    "def multi_table_2dan(n):\n",
    "    if n==1:\n",
    "        return '2 x '+str(10-n)+' = '+str(2*(10-n))\n",
    "    else:\n",
    "        print('2 x '+str(10-n)+' = '+str(2*(10-n)))\n",
    "        return multi_table_2dan(n-1)\n",
    "print(multi_table_2dan(9))\n",
    "\n",
    "\"\"\"\n",
    "n 대신 10-n으로 뒤집고\n",
    "n을 1씩 줄이니까 됐다.\n",
    "\"\"\""
   ]
  }
 ],
 "metadata": {
  "kernelspec": {
   "display_name": "Python 3",
   "language": "python",
   "name": "python3"
  },
  "language_info": {
   "codemirror_mode": {
    "name": "ipython",
    "version": 3
   },
   "file_extension": ".py",
   "mimetype": "text/x-python",
   "name": "python",
   "nbconvert_exporter": "python",
   "pygments_lexer": "ipython3",
   "version": "3.8.5"
  }
 },
 "nbformat": 4,
 "nbformat_minor": 4
}
