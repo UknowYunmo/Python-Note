{
 "cells": [
  {
   "cell_type": "code",
   "execution_count": 1,
   "metadata": {},
   "outputs": [
    {
     "name": "stdout",
     "output_type": "stream",
     "text": [
      "검색할 숫자를 입력하세요 : 139\n",
      "139 은 이진탐색  4 번 만에 검색되었습니다\n"
     ]
    }
   ],
   "source": [
    "# 이진 탐색으로 데이터 검색하기\n",
    "a=[1,7,11,12,14,23,33,47,51,64,67,77,139,672,871]\n",
    "num=int(input('검색할 숫자를 입력하세요 : '))\n",
    "cnt=0 # 검색 횟수 변수 선언\n",
    " \n",
    "while(True):\n",
    "    cnt+=1 # 검색 횟수 1씩 증가\n",
    " \n",
    "    import numpy as np\n",
    "    a_n=np.array(a)\n",
    " \n",
    "    if len(a)%2==1:    # 리스트의 요소의 개수가 홀수면 np.median(a_n)하면 바로 나오지만\n",
    "        a_m=int(np.median(a_n))\n",
    "    else:                  # 짝수면 가운데 값 두 개를 더해서 반으로 나눈 값을 반환해서 줘서 리스트의 없는 중위값이 나와버림\n",
    "        a_m=a[len(a)//2]  # 그래서 중위값을 그 두 개의 가운데 값 중 오른쪽 값을 중위값이라 따로 정의\n",
    " \n",
    "    if len(a)==1: # 계속 쪼개다가 남은 리스트의 개수가 1개가 되면 while문을 어떻게든 끝내야하기 때문에 따로 조건문\n",
    "        if num==a_m:\n",
    "            print(num,'은 이진탐색 ', cnt, '번 만에 검색되었습니다')\n",
    "            break\n",
    "        else:\n",
    "            print(num, '은 리스트에 없습니다')\n",
    "            break\n",
    "    if num==a_m:\n",
    "        print(num,'은 이진탐색 ', cnt, '번 만에 검색되었습니다')\n",
    "        break # 검색되면 바로 while문을 끝내야 함\n",
    "    elif num>a_m:\n",
    "        del a[:a.index(a_m)]\n",
    "    else:\n",
    "        del a[a.index(a_m):]"
   ]
  },
  {
   "cell_type": "code",
   "execution_count": 2,
   "metadata": {},
   "outputs": [
    {
     "name": "stdout",
     "output_type": "stream",
     "text": [
      "검색할 숫자를 입력하세요 : 139\n",
      "139 은 이진탐색  4 번 만에 검색되었습니다\n"
     ]
    }
   ],
   "source": [
    "# 이진 탐색으로 데이터 검색하기 2\n",
    "\n",
    "a=[1,7,11,12,14,23,33,47,51,64,67,77,139,672,871]\n",
    "num=int(input('검색할 숫자를 입력하세요 : '))\n",
    "cnt=0 # 검색 횟수 변수 선언\n",
    " \n",
    "while(True):\n",
    "    cnt+=1 # 검색 횟수 1씩 증가\n",
    " \n",
    "    import numpy as np\n",
    "    a_n=np.array(a)\n",
    " \n",
    "    if len(a)%2==1:    # 리스트의 요소의 개수가 홀수면 np.median(a_n)하면 바로 나오지만\n",
    "        a_m=int(np.median(a_n))\n",
    "    else:                  # 짝수면 가운데 값 두 개를 더해서 반으로 나눈 값을 반환해서 줘서 리스트의 없는 중위값이 나와버림\n",
    "        a_m=a[len(a)//2]  # 그래서 중위값을 그 두 개의 가운데 값 중 오른쪽 값을 중위값이라 따로 정의\n",
    " \n",
    "    if num==a_m:\n",
    "        print(num,'은 이진탐색 ', cnt, '번 만에 검색되었습니다')\n",
    "        break # 검색되면 바로 while문을 끝내야 함\n",
    "    elif num>a_m:\n",
    "        del a[:a.index(a_m)+1]\n",
    "    else:\n",
    "        del a[a.index(a_m):]\n",
    " \n",
    "    if len(a)==0:\n",
    "         print(num, '은 리스트에 없습니다')\n",
    "         break\n",
    "        \n",
    "\"\"\"\n",
    "\n",
    "del 조건을  del a[:a.index(a_m)+1]로 해서\n",
    "\n",
    "리스트가 1개씩 남는 일이 아예 없도록 해버리도록 수정.\n",
    "\n",
    "\n",
    "\n",
    "그러면 len(a)는 0이 되고 자동으로, 맞는게 없었다는 것을 의미함과 동시에\n",
    "\n",
    "간편하게 while문을 탈출할 수 있음\n",
    "\n",
    "\"\"\""
   ]
  }
 ],
 "metadata": {
  "kernelspec": {
   "display_name": "Python 3",
   "language": "python",
   "name": "python3"
  },
  "language_info": {
   "codemirror_mode": {
    "name": "ipython",
    "version": 3
   },
   "file_extension": ".py",
   "mimetype": "text/x-python",
   "name": "python",
   "nbconvert_exporter": "python",
   "pygments_lexer": "ipython3",
   "version": "3.8.5"
  }
 },
 "nbformat": 4,
 "nbformat_minor": 4
}
