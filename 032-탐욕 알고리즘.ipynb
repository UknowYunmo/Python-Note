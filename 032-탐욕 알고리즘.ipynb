{
 "cells": [
  {
   "cell_type": "code",
   "execution_count": null,
   "metadata": {},
   "outputs": [],
   "source": [
    "머신러닝에서 의사결정 트리를 구현할 때 사용하는 알고리즘\n",
    "\n",
    "\n",
    "\n",
    "의사결정 트리는 설명하기 쉽기 때문에 분석가들이 선호하는 알고리즘 중 하나이다.\n",
    "\n",
    "\n",
    "\n",
    "매 순간마다 최선의 선택을 하며,\n",
    "\n",
    "가장 좋다고 생각되는 것만 선택한 것들로 최종적인 해답을 구하는 알고리즘\n",
    "\n",
    "\n",
    "\n",
    "주의할 점은 전체를 고려하는게 아니라\n",
    "\n",
    "문제를 부분적으로 나누어,\n",
    "\n",
    "나누어진 문제에 대한 최적의 해답을 구하게끔 해야한다는 것"
   ]
  },
  {
   "cell_type": "code",
   "execution_count": 1,
   "metadata": {},
   "outputs": [
    {
     "name": "stdout",
     "output_type": "stream",
     "text": [
      "잔돈을 입력하세요~ 78\n",
      "10원 동전 7개, 7원 동전 1개, 1원 동전 1개로 줍니다.\n"
     ]
    }
   ],
   "source": [
    "# 예제 : 14원의 잔돈을 줘야하는데, 잔돈의 종류가 10원, 7원, 1원이 있으면 잔돈을 가장 빨리 줄 수 있는 방법은?\n",
    "\n",
    "coin=[10,7,1]\n",
    "coin=sorted(coin,reverse=True) # 큰 값을 맨 앞으로 오게끔 정렬\n",
    "def greedy():\n",
    "    num=int(input('잔돈을 입력하세요~ '))\n",
    "    for i in coin:\n",
    "        if coin.index(i)!=len(coin)-1:\n",
    "            print(str(i)+'원 동전 '+str(num//i)+'개, ',end='')\n",
    "            num=num%i\n",
    "        else:\n",
    "            print(str(i)+'원 동전 '+str(num//i)+'개로 줍니다.')\n",
    "greedy()"
   ]
  }
 ],
 "metadata": {
  "kernelspec": {
   "display_name": "Python 3",
   "language": "python",
   "name": "python3"
  },
  "language_info": {
   "codemirror_mode": {
    "name": "ipython",
    "version": 3
   },
   "file_extension": ".py",
   "mimetype": "text/x-python",
   "name": "python",
   "nbconvert_exporter": "python",
   "pygments_lexer": "ipython3",
   "version": "3.8.5"
  }
 },
 "nbformat": 4,
 "nbformat_minor": 4
}
