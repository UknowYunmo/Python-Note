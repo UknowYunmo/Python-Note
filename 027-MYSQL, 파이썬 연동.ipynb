{
 "cells": [
  {
   "cell_type": "code",
   "execution_count": null,
   "metadata": {},
   "outputs": [],
   "source": [
    "# MYSQL 설치 후 기본 문법\n",
    "\n",
    "\n",
    "\n",
    "1. mysql commend line client 실행\n",
    "\n",
    "2. enter password: oracle ( 자기 비밀번호 )\n",
    "\n",
    "3. create database orcl ( DB 이름 )\n",
    "\n",
    "4. use orcl\n",
    "\n",
    "5. 자기가 갖고 있는 테이블 쿼리문 입력\n",
    "\n",
    "6. 테이블 확인\n",
    "\n",
    "select * from emp;"
   ]
  },
  {
   "cell_type": "code",
   "execution_count": null,
   "metadata": {},
   "outputs": [],
   "source": [
    "# 오라클과 MYSQL 함수 비교\n",
    "\n",
    "\n",
    "\n",
    "        오라클       ---      MYSQL\n",
    "\n",
    "1.       nvl                  ifnull\n",
    "\n",
    "2.     sysdate              sysdate()\n",
    "\n",
    "3. months_between          group_concat\n",
    "\n",
    "4.    decode                   if\n",
    "\n",
    "5.    rollup                with rollup\n",
    "\n",
    "6.    listagg             group_concat"
   ]
  },
  {
   "cell_type": "code",
   "execution_count": null,
   "metadata": {},
   "outputs": [],
   "source": [
    "예제 : 이름, 커미션을 출력하는데 커미션이 null인 사람은 0으로 출력하기\n",
    "\n",
    "select ename, ifnull(comm,0)\n",
    "\n",
    " from emp;\n",
    "    \n",
    "예제 : 오늘 날짜를 출력하기\n",
    "\n",
    "select sysdate();\n",
    "\n",
    "\n",
    "* MYSQL은 dual이 없다.\n",
    "\n",
    "예제 : 부서 번호별 토탈 월급을 출력하는데 맨 아래에 전체 월급이 출력되게 하기\n",
    "\n",
    "select deptno, sum(sal)\n",
    "\n",
    " from emp\n",
    "\n",
    " group by deptno with rollup;\n",
    "\n",
    "# group_concat을 이용해서\n",
    "\n",
    "예제 : 부서번호, 부서번호별 사원들의 이름을 가로로 출력하기\n",
    "\n",
    "select deptno, group_concat(ename)\n",
    "\n",
    "from emp\n",
    "\n",
    "group by deptno;"
   ]
  },
  {
   "cell_type": "code",
   "execution_count": null,
   "metadata": {},
   "outputs": [],
   "source": [
    "#########지금부터 가장 중요###########\n",
    "\n",
    "# scott의 월급을 0으로 변경하기\n",
    "\n",
    "update emp\n",
    "\n",
    "set sal=0\n",
    "\n",
    "where ename='scott';\n",
    "\n",
    "# 다시 rollback 하고 월급 확인하기\n",
    "\n",
    "rollback;\n",
    "\n",
    "select ename, sal\n",
    "\n",
    " from emp\n",
    "\n",
    " where ename='scott';\n",
    "\n",
    "***** mysql은 오라클과 다르게 기본 자동 commit이 활성화 되어있다.\n",
    "\n",
    "그래서 자동 commit 때문에 rollback도 할 수 없다 ******"
   ]
  },
  {
   "cell_type": "code",
   "execution_count": null,
   "metadata": {},
   "outputs": [],
   "source": [
    "# 자동 커밋 활성화 확인하기\n",
    "\n",
    "select @@autocommit;\n",
    "\n",
    "* 1이면 on, 0이면 off 상태이다.\n",
    "\n",
    "\n",
    "\n",
    "# 자동 커밋 비활성화 후 확인\n",
    "\n",
    "\n",
    "\n",
    "set autocommit = FALSE;\n",
    "\n",
    "select @@autocommit;\n",
    "\n",
    "# 비활성화 후 king의 월급을 0으로 바꾸고, rollback 해보기\n",
    "\n",
    "update emp\n",
    "\n",
    "set sal=0\n",
    "\n",
    "where ename='king';\n",
    "\n",
    "\n",
    "select ename,sal\n",
    "\n",
    "from emp\n",
    "\n",
    "where ename='king';\n",
    "\n",
    "rollback;\n",
    "\n",
    "\n",
    "select ename,sal\n",
    "\n",
    "from emp\n",
    "\n",
    "where ename='king';"
   ]
  },
  {
   "cell_type": "code",
   "execution_count": null,
   "metadata": {},
   "outputs": [],
   "source": [
    "# MYSQL과 파이썬 연동하기\n",
    "\n",
    "1. 아나콘다 프롬프트 창을 열고, pymysql 패키지를 설치\n",
    "\n",
    "2. conda install pymysql 입력\n",
    "\n",
    "3. pymysql 활용한 코드"
   ]
  },
  {
   "cell_type": "code",
   "execution_count": 1,
   "metadata": {},
   "outputs": [
    {
     "name": "stdout",
     "output_type": "stream",
     "text": [
      "     ENAME   SAL\n",
      "0     KING  5000\n",
      "1    BLAKE  2850\n",
      "2    CLARK  2450\n",
      "3    JONES  2975\n",
      "4   MARTIN  1250\n",
      "5   TURNER  1500\n",
      "6    JAMES   950\n",
      "7     WARD  1250\n",
      "8     FORD  3000\n",
      "9    SMITH   800\n",
      "10   SCOTT     0\n",
      "11   ADAMS  1100\n",
      "12  MILLER  1300\n"
     ]
    }
   ],
   "source": [
    "# 예제 : emp 테이블에서 사원 이름과 월급 출력하기\n",
    "\n",
    "import pymysql\n",
    "\n",
    "import pandas as pd\n",
    "conn = pymysql.connect(host=\"localhost\", user=\"root\",password=\"oracle\", db=\"orcl\",charset=\"utf8\")\n",
    "curs = conn.cursor()\n",
    "sql = \"select * from emp\"\n",
    "curs.execute(sql)\n",
    "rows = curs.fetchall()\n",
    "colname = curs.description\n",
    "col = []\n",
    "for i in colname:\n",
    "    col.append(i[0].upper())\n",
    "emp = pd.DataFrame(list(rows),columns=col)\n",
    "print(emp[['ENAME', 'SAL']] )"
   ]
  },
  {
   "cell_type": "code",
   "execution_count": 2,
   "metadata": {},
   "outputs": [
    {
     "name": "stdout",
     "output_type": "stream",
     "text": [
      "         JOB SUM(SAL)\n",
      "0  PRESIDENT     5000\n",
      "1    MANAGER     8275\n",
      "2   SALESMAN     4000\n",
      "3      CLERK     4150\n",
      "4    ANALYST     3000\n"
     ]
    }
   ],
   "source": [
    "# 예제 : 직업별 토탈 월급 출력하기\n",
    "\n",
    "import pymysql\n",
    "\n",
    "import pandas as pd\n",
    "conn = pymysql.connect(host=\"localhost\", user=\"root\",password=\"oracle\", db=\"orcl\",charset=\"utf8\")\n",
    "curs = conn.cursor()\n",
    "sql = \"select job, sum(sal) from emp group by job\"\n",
    "curs.execute(sql)\n",
    "rows = curs.fetchall()\n",
    "colname = curs.description\n",
    "col = []\n",
    "for i in colname:\n",
    "    col.append(i[0].upper())\n",
    "emp = pd.DataFrame(list(rows),columns=col)\n",
    "print(emp)"
   ]
  }
 ],
 "metadata": {
  "kernelspec": {
   "display_name": "Python 3",
   "language": "python",
   "name": "python3"
  },
  "language_info": {
   "codemirror_mode": {
    "name": "ipython",
    "version": 3
   },
   "file_extension": ".py",
   "mimetype": "text/x-python",
   "name": "python",
   "nbconvert_exporter": "python",
   "pygments_lexer": "ipython3",
   "version": "3.8.5"
  }
 },
 "nbformat": 4,
 "nbformat_minor": 4
}
