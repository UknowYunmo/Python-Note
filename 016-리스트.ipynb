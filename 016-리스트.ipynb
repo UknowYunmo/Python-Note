{
 "cells": [
  {
   "cell_type": "code",
   "execution_count": null,
   "metadata": {},
   "outputs": [],
   "source": [
    "# 리스트 만들기 ( range )\n",
    "\n",
    "\n",
    "[0,1,2,3] 이나 [100,101,102,103]과 같이\n",
    "\n",
    "순차적인 정수 리스트를 만드는 가장 간단한 방법은\n",
    "\n",
    "파이썬 내장 함수인 range()를 이용하는 것이다.\n",
    "\n",
    "\n",
    "\n",
    "print( list(range(1,11) ) ) # [1,2,3,4,5,6,7,8,9,10]\n",
    "\n",
    "dice=list(range(1,7))\n",
    "\n",
    "print(dice) # [1,2,3,4,5,6]\n",
    "\n",
    "\n",
    "\n",
    "a=list(range(2,10,2))\n",
    "\n",
    "print(a) # [2,4,6,8]"
   ]
  },
  {
   "cell_type": "code",
   "execution_count": 1,
   "metadata": {},
   "outputs": [
    {
     "name": "stdout",
     "output_type": "stream",
     "text": [
      "0.0814\n"
     ]
    }
   ],
   "source": [
    "# 예제 : 주사위 2개를 만들고 10000번 던져서 주사위 눈의 합이 10이 되는 확률을 구하기\n",
    "\n",
    "dice=list(range(1,7))\n",
    "dice2=list(range(1,7))\n",
    "import random as r\n",
    "cnt=0\n",
    "for i in range (10000):\n",
    "    if r.choice(dice)+r.choice(dice2)==10:\n",
    "        cnt+=1\n",
    "print(cnt/10000)"
   ]
  },
  {
   "cell_type": "code",
   "execution_count": null,
   "metadata": {},
   "outputs": [],
   "source": [
    "# 리스트의 특정 위치의 요소 얻기\n",
    "\n",
    "\n",
    "\n",
    "리스트의 특정 위치에 있는 요소값을 얻으려면 문자열과 마찬가지로 인덱싱을 이용한다.\n",
    "\n",
    "\n",
    "\n",
    "a=[1,2,'a','b','c',[4,5,6]]\n",
    "\n",
    "print(a[1]) # 2\n",
    "\n",
    "print(a[5]) # [4,5,6]\n",
    "\n",
    "print(a[5][0]) # 4\n",
    "\n",
    "\n",
    "\n",
    "리스트 객체의 index() 메소드는\n",
    "\n",
    "리스트에서 요소의 값을 알고 있을 때\n",
    "\n",
    "그 요소가 최초로 나타나는 위치의 인덱스를 리턴한다.\n",
    "\n",
    "\n",
    "\n",
    "a=[1,2,'a','b','c',[1,2,3]]\n",
    "\n",
    "print(a.index(2))  # 1\n",
    "\n",
    "print(a.index('a')) # 2"
   ]
  },
  {
   "cell_type": "code",
   "execution_count": null,
   "metadata": {},
   "outputs": [],
   "source": [
    "# 리스트에서 특정 구간에 있는 요소 추출하기\n",
    "\n",
    "\n",
    "\n",
    "list=['a','b','c','d','e','f','g']\n",
    "\n",
    "print(list[0:4]) # ['a', 'b', 'c', 'd']\n",
    "\n",
    "print(list[2:])  # ['c', 'd', 'e', 'f', 'g']\n",
    "\n",
    "print(list[:3])  # ['a', 'b', 'c']\n",
    "\n",
    "\n",
    "\n",
    "*   : 을 두 번 사용하면 추출할 간격을 조정할 수 있다.\n",
    "\n",
    "\n",
    "\n",
    "list=['a','b','c','d','e','f','g']\n",
    "\n",
    "print(list[1::2])  # ['b', 'd', 'f']"
   ]
  },
  {
   "cell_type": "code",
   "execution_count": null,
   "metadata": {},
   "outputs": [],
   "source": [
    "# 리스트 안에 있는 요소 변경하기\n",
    "\n",
    "\n",
    "\n",
    "list=['a','b','c,','d','e']\n",
    "\n",
    "list[2]='z' \n",
    "\n",
    "print(list) # a,b,z,d,e"
   ]
  },
  {
   "cell_type": "code",
   "execution_count": 3,
   "metadata": {},
   "outputs": [
    {
     "name": "stdout",
     "output_type": "stream",
     "text": [
      "abcdefghijklmnopqrstuvwxyz\n",
      "['a', 'b', 'c', 'd', 'e', 'f', 'g', 'h', 'i', 'j', 'k', 'l', 'm', 'n', 'o', 'p', 'q', 'r', 's', 't', 'u', 'v', 'w', 'x', 'y', 'z']\n",
      "['a', 'b', 'c', 'd', 'e', 'f', 'g', 'h', 'i', 'j', 'k', 'l', 'm', 'n', 'o', 'p', 'q', 'r', 's', 't', 'u', 'v', 'w', 'x', 'y', 'z']\n"
     ]
    }
   ],
   "source": [
    "# a~z가 담긴 리스트 만들기\n",
    "\n",
    "import string\n",
    "print(string.ascii_lowercase)\n",
    "\n",
    "# 이렇게 string 모듈을 활용해서 리스트를 만드는 방법이 있고,\n",
    "\n",
    "import string\n",
    "list=[]\n",
    "for i in string.ascii_lowercase:\n",
    "    list.append(i)\n",
    "print(list)\n",
    "\n",
    "# chr를 활용해서 만드는 방법이 있다.\n",
    "\n",
    "a=[]\n",
    "for i in range(97,123):\n",
    "    a.append(chr(i))\n",
    "print(a)"
   ]
  },
  {
   "cell_type": "code",
   "execution_count": null,
   "metadata": {},
   "outputs": [],
   "source": [
    "# 리스트 요소 순서를 역순으로 만들기\n",
    "\n",
    "\n",
    "\n",
    "리스트 객체의 reverse() 메소드는 리스트의 모든 요소 순서를 거꾸로 만든다.\n",
    "\n",
    "\n",
    "\n",
    "list=['a','b','c','d','e','f','g']\n",
    "\n",
    "list.reverse()\n",
    "\n",
    "print(list) # ['g', 'f', 'e', 'd', 'c', 'b', 'a']"
   ]
  },
  {
   "cell_type": "code",
   "execution_count": 4,
   "metadata": {},
   "outputs": [
    {
     "name": "stdout",
     "output_type": "stream",
     "text": [
      "['5000', '2850', '2450', '2975', '1250', '1600', '1500', '950', '1250', '3000', '800', '3000', '1100', '1300']\n",
      "['1100', '1250', '1250', '1300', '1500', '1600', '2450', '2850', '2975', '3000', '3000', '5000', '800', '950']\n",
      "['950', '800', '5000', '3000', '3000', '2975', '2850', '2450', '1600', '1500', '1300', '1250', '1250', '1100']\n"
     ]
    }
   ],
   "source": [
    "# 예제 : emp2.csv 파일에 있는 사원의 월급을 내림 차순으로 정렬하기\n",
    "\n",
    "import csv\n",
    "file=open('c:\\\\data\\\\emp2.csv',encoding='UTF-8')\n",
    "emp_122=csv.reader(file)\n",
    "a=[]\n",
    "for i in emp_122:\n",
    "    a.append(i[5])\n",
    "print(a)\n",
    "a.sort()\n",
    "print(a)  # 오름차순으로 정렬\n",
    "a.reverse()\n",
    "print(a)  # 역순으로 정렬 -> 내림차순"
   ]
  },
  {
   "cell_type": "code",
   "execution_count": null,
   "metadata": {},
   "outputs": [],
   "source": [
    "reversed() reverse()와 동일하게 시퀀스 자료형의 순서를 역순으로 만드는 메소드이지만\n",
    "\n",
    "차이점은\n",
    "\n",
    "reverse() : 원본 데이터를 역순으로 변환\n",
    "\n",
    "reversed() : 원본 데이터는 역순으로 변환하지 않고 반환\n",
    "\n",
    "\n",
    "\n",
    "list_A=['a','b','c','d','e','f','g']\n",
    "\n",
    "R_list=reversed(list_A)\n",
    "\n",
    "print(list(R_list)) # ['g', 'f', 'e', 'd', 'c', 'b', 'a']\n",
    "\n",
    "print(list_A)    # ['a','b','c','d','e','f','g']\n",
    "\n",
    "list_A.reverse()\n",
    "\n",
    "print(list_A)    # ['g', 'f', 'e', 'd', 'c', 'b', 'a']"
   ]
  },
  {
   "cell_type": "code",
   "execution_count": null,
   "metadata": {},
   "outputs": [],
   "source": [
    "# 리스트 합치기\n",
    "\n",
    "\n",
    "\n",
    "두 개의 리스트를 연결하여 새로운 리스트를 만드는 방법은\n",
    "\n",
    "+ 연산자를 이용하여 더하면 된다.\n",
    "\n",
    "\n",
    "\n",
    "listdata1=['a','b','c','d']\n",
    "\n",
    "listdata2=['e','f','g','h']\n",
    "\n",
    "listdata3=listdata1 + listdata2\n",
    "\n",
    "\n",
    "\n",
    "print(listdata3) # ['a', 'b', 'c', 'd', 'e', 'f', 'g', 'h']"
   ]
  },
  {
   "cell_type": "code",
   "execution_count": null,
   "metadata": {},
   "outputs": [],
   "source": [
    "# 리스트 반복하기\n",
    "\n",
    "\n",
    "\n",
    "리스트 * 숫자는 리스트를 n번 반복해서 새로운 리스트를 만든다.\n",
    "\n",
    "예를 들어, list*2는 list + list 와 동일한 결과가 출력된다.\n",
    "\n",
    "\n",
    "\n",
    "listdata=list(range(0,3))\n",
    "\n",
    "result=listdata*3\n",
    "\n",
    "print(result)  # [0, 1, 2, 0, 1, 2, 0, 1, 2]"
   ]
  },
  {
   "cell_type": "code",
   "execution_count": null,
   "metadata": {},
   "outputs": [],
   "source": [
    "# 리스트에 요소 추가하기 ( append )\n",
    "\n",
    "\n",
    "\n",
    "리스트 객체의 append()는 괄호안의 요소를 리스트에 추가하는 메소드 함수이다.\n",
    "\n",
    "\n",
    "\n",
    "listdata=[]\n",
    "\n",
    "listdata.append('a')\n",
    "\n",
    "listdata.append('b')\n",
    "\n",
    "print(listdata) # ['a' , 'b']"
   ]
  },
  {
   "cell_type": "code",
   "execution_count": null,
   "metadata": {},
   "outputs": [],
   "source": [
    "# 리스트에 있는 요소 개수 구하기 ( len )\n",
    "\n",
    "\n",
    "\n",
    "파이썬 내장함수인 len()은 시퀀스 자료형의 크기를 구하는 함수다.\n",
    "\n",
    "len()을 리스트에 적용하면 리스트의 모든 요소의 개수를 리턴한다.\n",
    "\n",
    "\n",
    "\n",
    "a=['파','이','썬',['파','이','썬']]\n",
    "\n",
    "print(len(a)) #4"
   ]
  },
  {
   "cell_type": "code",
   "execution_count": null,
   "metadata": {},
   "outputs": [],
   "source": [
    "# 리스트에서 특정 요소 개수 구하기 ( count )\n",
    "\n",
    "\n",
    "\n",
    "리스트.count('요소') 은 객체 리스트에서 '요소'의 개수를 구하는 메소드이다.\n",
    "\n",
    "box=['파','이','이','썬']\n",
    "\n",
    "print(box.count('파')) # 1\n",
    "\n",
    "print(box.count('이')) # 2"
   ]
  },
  {
   "cell_type": "code",
   "execution_count": null,
   "metadata": {},
   "outputs": [],
   "source": [
    "# 리스트 제거하기 ( del )\n",
    "\n",
    "\n",
    "\n",
    "리스트 자체를 메모리에서 제거하려면 다음과 같이 del 명령어를 수행한다.\n",
    "\n",
    "a=[1,2,3,3,3,4]\n",
    "\n",
    "del a\n",
    "\n",
    "print(a) # NameError : name 'a' is not defined --> 메모리에서 완전히 지워졌음\n",
    "\n",
    "\n",
    "\n",
    "마치 SQL의 DROP TABLE 같은?"
   ]
  },
  {
   "cell_type": "code",
   "execution_count": 5,
   "metadata": {},
   "outputs": [
    {
     "name": "stdout",
     "output_type": "stream",
     "text": [
      "[10, 9, 8, 1, 5, 4, 7, 6, 2, 3]\n"
     ]
    }
   ],
   "source": [
    "# 리스트 요소 무작위로 섞기 ( shuffle )\n",
    "\n",
    "\"\"\"\n",
    "파이썬 기본 모듈인 random은 난수를 발생시키는 모듈인데\n",
    "\n",
    "리스트의 요소를 무작위로 섞는 shuffle도 갖고 있다.\n",
    "\"\"\"\n",
    "\n",
    "from random import shuffle\n",
    "a=[1,2,3,4,5,6,7,8,9,10]\n",
    "shuffle(a)\n",
    "print(a)"
   ]
  }
 ],
 "metadata": {
  "kernelspec": {
   "display_name": "Python 3",
   "language": "python",
   "name": "python3"
  },
  "language_info": {
   "codemirror_mode": {
    "name": "ipython",
    "version": 3
   },
   "file_extension": ".py",
   "mimetype": "text/x-python",
   "name": "python",
   "nbconvert_exporter": "python",
   "pygments_lexer": "ipython3",
   "version": "3.8.5"
  }
 },
 "nbformat": 4,
 "nbformat_minor": 4
}
