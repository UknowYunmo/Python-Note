{
 "cells": [
  {
   "cell_type": "code",
   "execution_count": null,
   "metadata": {},
   "outputs": [],
   "source": [
    "# 지역 변수와 전역 변수\n",
    "\n",
    "변수는 자신이 생성된 범위 안에서만 유효하다.\n",
    "함수 안에서 만든 변수는 함수 안에서 살아 있다가\n",
    "함수 코드의 실행이 종료되면 그 생명을 다한다.\n",
    "이것을 '지역변수'라고 한다.\n",
    "\n",
    "ex) 스타벅스에서 머그컵 갖고 나가면 혼난다!\n",
    "\n",
    "이와는 반대로 함수 외부에서 만든 변수는\n",
    "프로그램이 살아있는 동안에 함께 살아있다가\n",
    "프로그램이 종료되면 같이 소멸된다.\n",
    "이렇게 프로그램 전체를 유효 범위로 가지는 변수를 '전역 변수'라고 한다.\n",
    "\n",
    "ex) 개인 텀블러는 회사, 집 어디든 사용 가능하다!"
   ]
  },
  {
   "cell_type": "code",
   "execution_count": 6,
   "metadata": {},
   "outputs": [
    {
     "name": "stdout",
     "output_type": "stream",
     "text": [
      "지역 변수\n"
     ]
    }
   ],
   "source": [
    "strdata='전역 변수'\n",
    "\n",
    "def func1():\n",
    "    strdata2='지역 변수'       #func1 함수 내부에만 있는 변수\n",
    "    return strdata2\n",
    "print(func1())"
   ]
  },
  {
   "cell_type": "code",
   "execution_count": null,
   "metadata": {},
   "outputs": [],
   "source": [
    "그렇다면 전역 변수를 사용하는 상황은 언제일까?\n",
    "\n",
    "프로그램 전체에서 공통적으로 사용되고,\n",
    "잘 변하지 않는 데이터를 전역 변수로 사용한다."
   ]
  },
  {
   "cell_type": "code",
   "execution_count": 8,
   "metadata": {},
   "outputs": [
    {
     "name": "stdout",
     "output_type": "stream",
     "text": [
      "78.539816325\n",
      "19.63495408125\n"
     ]
    }
   ],
   "source": [
    "pi=3.141592653\n",
    "\n",
    "def cycle_func1(num1): #원의 넓이를 구하는 함수\n",
    "    global pi         #전역변수 pi를 불러오기\n",
    "    return pi*num1*num1\n",
    "\n",
    "def cycle_func2(num1):     #원의 1/4인 부채꼴의 넓이를 구하는 함수\n",
    "    return cycle_func1(num1)/4\n",
    "\n",
    "print(cycle_func1(5))\n",
    "print(cycle_func2(5))"
   ]
  },
  {
   "cell_type": "code",
   "execution_count": null,
   "metadata": {},
   "outputs": [],
   "source": [
    "# 함수 리턴값 이해하기\n",
    "\n",
    "모든 함수는 이름을 갖고 있다.\n",
    "이 이름을 불러주면 파이썬은 그 이름 아래에 정의되어 있는 코드를 실행한다.\n",
    "이 때 함수를 부르는 코드를 호출자라고 한다.\n",
    "함수가 호출자에게 결과를 돌려주는 것을 반환이라고 한다."
   ]
  },
  {
   "cell_type": "code",
   "execution_count": null,
   "metadata": {},
   "outputs": [],
   "source": [
    "pi=3.141592653\n",
    "\n",
    "def cycle_func1(num1):\n",
    "    global pi\n",
    "    return pi*num1*num1\n",
    "\n",
    "print(cycle_func1(5))    #함수를 호출하는 호출자 코드"
   ]
  },
  {
   "cell_type": "code",
   "execution_count": 9,
   "metadata": {},
   "outputs": [
    {
     "name": "stdout",
     "output_type": "stream",
     "text": [
      "9\n",
      "9\n"
     ]
    }
   ],
   "source": [
    "# abs 함수를 이용하지 않고 if문을 이용해서 절대값을 출력하는 my_abs 함수 만들기\n",
    "\n",
    "def my_abs(num):\n",
    "    if num<0:\n",
    "        return(num*-1)\n",
    "    else:\n",
    "        return(num)\n",
    "\n",
    "print(my_abs(-9))\n",
    "print(my_abs(9))"
   ]
  },
  {
   "cell_type": "code",
   "execution_count": null,
   "metadata": {},
   "outputs": [],
   "source": [
    "# 파이썬 모듈 이해하기\n",
    "\n",
    "파이썬에서는 각각의 소스 파일을 일컬어 모듈이라고 한다.\n",
    "이미 만들어져 있고 안정성이 검증된 함수들을\n",
    "성격에 맞게 하나의 파일로 묶어 놓은 것을 모듈이라고 한다.\n",
    "외부의 모듈에 있는 함수를 사용하려면\n",
    "이 모듈을 먼저 우리 코드로 가져와서 자유롭게 사용할 수 있도록 해야하는데\n",
    "이런 일을 파이썬에서는 모듈을 import한다고 한다."
   ]
  },
  {
   "cell_type": "code",
   "execution_count": 10,
   "metadata": {},
   "outputs": [
    {
     "name": "stdout",
     "output_type": "stream",
     "text": [
      "5초간 프로그램을 정지합니다\n",
      "5초가 지났습니다\n"
     ]
    }
   ],
   "source": [
    "import time\n",
    "print('5초간 프로그램을 정지합니다')\n",
    "time.sleep(5)\n",
    "print('5초가 지났습니다')     # 5초 후 출력됨\n",
    "\n",
    "#주피터에서도 되네 신기하다"
   ]
  },
  {
   "cell_type": "code",
   "execution_count": 12,
   "metadata": {},
   "outputs": [
    {
     "name": "stdout",
     "output_type": "stream",
     "text": [
      "[39.11205942 28.34894325 23.80511859 31.28457813 40.43786521 27.01359299\n",
      " 24.20105113 35.96253375 33.93524605 37.2910429  29.90615335 17.74629343\n",
      " 25.30272163 32.27546334 24.13711477 23.75243182 32.39830041 30.78538513\n",
      " 22.26313321 24.19306695 21.8266052  41.1846936  33.35008149 33.05153072\n",
      " 35.99821395 29.06896468 25.44324005 28.01162868 25.11399607 27.79102934]\n"
     ]
    }
   ],
   "source": [
    "import numpy as np\n",
    "avg=30\n",
    "std=5\n",
    "N=30\n",
    "mogip=np.random.randn(N)*std+avg\n",
    "# 평균 30, 표준편차 5인 가우시안 정규분포를 따르는 모집단 생성\n",
    "print(mogip)"
   ]
  },
  {
   "cell_type": "code",
   "execution_count": 32,
   "metadata": {},
   "outputs": [
    {
     "name": "stdout",
     "output_type": "stream",
     "text": [
      "10000\n",
      "[2.47951932e-03 2.48184110e-03 2.48416477e-03 ... 9.13248565e-05\n",
      " 9.12092904e-05 9.10938605e-05]\n"
     ]
    },
    {
     "data": {
      "image/png": "[encoded data removed]",
      "text/plain": [
       "<Figure size 432x288 with 1 Axes>"
      ]
     },
     "metadata": {
      "needs_background": "light"
     },
     "output_type": "display_data"
    },
    {
     "data": {
      "image/png": "[encoded data removed]",
      "text/plain": [
       "<Figure size 432x288 with 1 Axes>"
      ]
     },
     "metadata": {
      "needs_background": "light"
     },
     "output_type": "display_data"
    }
   ],
   "source": [
    "# 서울시 초등학생의 수가 백만명이라 가정하고 모집단을 생성하는데,\n",
    "# 평균키는 148.5, 표준차는 30이다\n",
    "\n",
    "import numpy as np\n",
    "avg=148.5\n",
    "std=30\n",
    "N=1000000\n",
    "mogip=np.random.randn(N)*std+avg\n",
    "\n",
    "# 위의 모집단에서 100명을 표본으로 추출하여\n",
    "# 100명의 평균키를 비어있는 리스트 a에 입력하는 작업을 10000번 수행하여\n",
    "# a 리스트에 10000개의 표본의 평균키가 입력되게 하기\n",
    "a=[]\n",
    "for i in range (1,10001):\n",
    "    result=np.random.choice(mogip,100).mean()\n",
    "    a.append(result)\n",
    "print(len(a))\n",
    "\n",
    "\n",
    "# 통계학을 전문으로 구현하는 모듈인 scipy 모듈을 import하여 확률밀도 값을 출력하기\n",
    "\n",
    "\n",
    "from scipy.stats import norm # scipy의 stats 패키지로부터, norm이라는 모듈을 import하겠다.\n",
    "x=np.arange(140,160,0.001)     # 140~160까지 0.001 간격으로 숫자를 생성\n",
    "y=norm.pdf(x,np.mean(a),np.std(a))                 # norm.pdf(x,표본 평균값들의 평균값,표본평균값들의 표준편차)\n",
    "\n",
    "print(y)\n",
    "\n",
    "\n",
    "# 데이터 시각화 전문 모듈인 matplotlib를 import하여 시각화하기\n",
    "\n",
    "import matplotlib.pyplot as plt # matplotlib 모듈 안의 pyplot 함수를 import 하겠다\n",
    "\n",
    "plt.plot(x,y,color='black')\n",
    "plt.show()\n",
    "\n",
    "\n",
    "plt.fill_between(x,y,interpolate=True,color='green',alpha=0.2)\n",
    "# plt 모듈 안의 fill_between 함수를 이용해서 그래프의 아래 영역을 색깔로 채우는데\n",
    "# interpolate=True를 해야 아래의 영역이 색깔로 채워지고, color는 색, alpha는 투명도(0~1)를 의미한다,\n",
    "plt.show()"
   ]
  }
 ],
 "metadata": {
  "kernelspec": {
   "display_name": "Python 3",
   "language": "python",
   "name": "python3"
  },
  "language_info": {
   "codemirror_mode": {
    "name": "ipython",
    "version": 3
   },
   "file_extension": ".py",
   "mimetype": "text/x-python",
   "name": "python",
   "nbconvert_exporter": "python",
   "pygments_lexer": "ipython3",
   "version": "3.8.5"
  }
 },
 "nbformat": 4,
 "nbformat_minor": 4
}
