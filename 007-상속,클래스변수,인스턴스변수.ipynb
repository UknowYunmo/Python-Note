{
 "cells": [
  {
   "cell_type": "code",
   "execution_count": null,
   "metadata": {},
   "outputs": [],
   "source": [
    "# 클래스를 사용해서 파이썬 코딩을 해야하는 이유?\n",
    "\n",
    "객체 지향 언어의 장점인 상속을 활용할 수 있기 때문\n",
    "\n",
    "ex) 신용카드 발급 및 사용 프로그램 구축\n",
    "\n",
    "팀장님 --> 카드의 중요 기본 기능을 담는 클래스(설계도) 생성\n",
    "            클래스 이름 : Card()\n",
    "        \n",
    "나 --> 영화 할인 카드 클래스 생성\n",
    "팀원 --> 주유 할인 카드 클래스 생성\n",
    "\n",
    "제품 - 설계도\n",
    "(객체)(클래스)\n",
    "gun1 = Gun()\n",
    "\n",
    "만약 내가 팀장님이 만든 카드의 중요 기능(메소드)을 담은 클래스(Card)를\n",
    "상속받기만 하면 나는 팀장님이 코딩한 카드의 주요 기능을\n",
    "코딩하지 않아도 되고 나는 단순히 영화 할인에만 집중해서 코드를 구현하면 된다."
   ]
  },
  {
   "cell_type": "code",
   "execution_count": 2,
   "metadata": {},
   "outputs": [
    {
     "name": "stdout",
     "output_type": "stream",
     "text": [
      "카드가 발급되었습니다\n",
      "카드가 발급되었습니다\n",
      "100000 원이 충전되었습니다\n"
     ]
    }
   ],
   "source": [
    "# 클래스에서 사용하는 키워드 self란\n",
    "\n",
    "class card():\n",
    "    def __init__(self):\n",
    "        self.cash=0 \n",
    "        print('카드가 발급되었습니다')\n",
    "    def charge(self,num):\n",
    "        self.cash+=num\n",
    "        print(num,'원이 충전되었습니다')\n",
    "    def consume(self,num):\n",
    "        print(num,'원이 사용되었습니다')\n",
    "        self.cash-=num\n",
    "        \n",
    "이준혁_card=card()\n",
    "양건준_card=card()\n",
    "\n",
    "이준혁_card.charge(100000)\n",
    "\n",
    "charge(self,num)에서 이 때\n",
    "num에는 100000이 들어가고,\n",
    "self에는 이준혁_card 가 암시적으로 들어간다.\n",
    "그래서 양건준의 카드가 아닌 이준혁의 카드에만 돈이 충전된다."
   ]
  },
  {
   "cell_type": "code",
   "execution_count": null,
   "metadata": {},
   "outputs": [],
   "source": [
    "# 클래스 생성자 이해하기 \n",
    "\n",
    "클래스의 인스턴스 객체가 생성될 때\n",
    "자동적으로 호출되는 메소드가 클래스 생성자이다.\n",
    "클래스 생성자는 __init__(self): 이다.\n",
    "\n",
    "카드의 기능 ?\n",
    "\n",
    "0. 카드가 처음 만들어질 때 0원으로 충전되게끔 하는 기능\n",
    "1. 충전\n",
    "2. 소비"
   ]
  },
  {
   "cell_type": "code",
   "execution_count": 3,
   "metadata": {},
   "outputs": [
    {
     "name": "stdout",
     "output_type": "stream",
     "text": [
      "카드가 발급되었습니다 0 가 충전되어 있습니다\n"
     ]
    }
   ],
   "source": [
    "class Card():\n",
    "    def __init__(self):\n",
    "        self.cash=0\n",
    "        print('카드가 발급되었습니다',self.cash,'가 충전되어 있습니다')\n",
    "        \n",
    "koo_card=Card()   # 객체(제품)를 생성하는 명령어"
   ]
  },
  {
   "cell_type": "code",
   "execution_count": 5,
   "metadata": {},
   "outputs": [
    {
     "name": "stdout",
     "output_type": "stream",
     "text": [
      "총이 만들어졌습니다. 총알은 0 발 장전되어있습니다\n"
     ]
    }
   ],
   "source": [
    "class Gun():\n",
    "    def __init__(self):\n",
    "        self.bullet=0\n",
    "        print('총이 만들어졌습니다. 총알은 %d 발 장전되어있습니다' %self.bullet)\n",
    "        \n",
    "koo_gun=Gun()   # 객체(제품)를 생성하는 명령어"
   ]
  },
  {
   "cell_type": "code",
   "execution_count": null,
   "metadata": {},
   "outputs": [],
   "source": [
    "# 클래스 소멸자 이해하기\n",
    "\n",
    "객체가 사라질 때 자동으로 호출되는 함수를\n",
    "소멸자 (__del__) 라고 한다.\n",
    "\n",
    "총 클래스로 koo_gun이라는 총을 만들고 사용하다가\n",
    "이제 총을 폐기하고 싶으면 del 명령어로 총을 폐기하면 되는데\n",
    "이 때 자동으로 작동되는 메소드가 소멸자 함수이다."
   ]
  },
  {
   "cell_type": "code",
   "execution_count": 9,
   "metadata": {},
   "outputs": [
    {
     "name": "stdout",
     "output_type": "stream",
     "text": [
      "총이 만들어졌습니다\n",
      "총이 폐기 되었습니다\n"
     ]
    }
   ],
   "source": [
    "class Gun():\n",
    "    def __init__(self):\n",
    "        self.bullet=0\n",
    "        print('총이 만들어졌습니다')\n",
    "    \n",
    "    def __del__(self):\n",
    "        print('총이 폐기 되었습니다')\n",
    "        \n",
    "koo_gun=Gun()\n",
    "del koo_gun"
   ]
  },
  {
   "cell_type": "code",
   "execution_count": null,
   "metadata": {},
   "outputs": [],
   "source": [
    "# 클래스 상속 이해하기\n",
    "\n",
    "클래스는 상속이라는 특성을 가지고 있는 이름 공간이다.\n",
    "클래스에서 상속이란 어떤 클래스가 갖고 있는 멤버(변수)나 메소드(함수)를\n",
    "상속받는 클래스가 모두 사용할 수 있도록 해주는 것\n",
    "\n",
    "상속을 해주는 클래스를 부모 클래스 또는 슈퍼 클래스라 하고\n",
    "상속을 받는 클래스를 자식 클래스 또는 서브 클래스라고 한다.\n",
    "부모 클래스로부터 상속을 받아 자식 클래스를 정의하는 방법은 다음과 같다.\n",
    "\n",
    "자식 클래스는 부모 클래스에서 정의된 모든 멤버와 메소드를 그대로 상속받는다.\n",
    "\n",
    "1. 팀장님이 카드의 주요 기능을 담고 있는 Card() 클래스를 생성\n",
    "2. 팀원인 나는 카드 클래스를 만들 것인데\n",
    "팀장님이 구현한 카드의 주요 기능을 Card()로부터 다 상속받고\n",
    "나는 팀장님이 구현한 코드는 구현하지 않는다.\n",
    "나는 그저 영화 할인에만 집중해서 메소드를 만들면 된다."
   ]
  },
  {
   "cell_type": "code",
   "execution_count": 16,
   "metadata": {},
   "outputs": [
    {
     "name": "stdout",
     "output_type": "stream",
     "text": [
      "카드가 발급되었습니다\n",
      "10000 원이 충전되었습니다\n",
      "잔액이 부족합니다\n",
      "8000 원이 사용되었습니다\n",
      "--------------------------------\n",
      "카드가 발급되었습니다\n",
      "10000 원이 충전되었습니다\n",
      "잔액이 부족합니다\n",
      "7000 원이 사용되었습니다\n"
     ]
    }
   ],
   "source": [
    "\"\"\"\n",
    "팀장님이 만든 부모 클래스 ( 카드 설계도 ) 클래스\n",
    "    1. 카드가 발급되었을 때 0원이 되게하는 기능\n",
    "    2. 카드를 충전하는 기능\n",
    "    3. 카드를 사용하는 기능\n",
    "\"\"\"\n",
    "class Card:\n",
    "    def __init__(self):\n",
    "        self.cash=0\n",
    "        print('카드가 발급되었습니다')\n",
    "    def charge(self,num):\n",
    "        self.cash+=num\n",
    "        print(num,'원이 충전되었습니다')\n",
    "    def consume(self,num):\n",
    "        if self.cash>=num:\n",
    "            self.cash-=num\n",
    "            print(num,'원이 사용되었습니다')\n",
    "        else:\n",
    "            print('잔액이 부족합니다')\n",
    "koo_card=Card()\n",
    "koo_card.charge(10000)\n",
    "koo_card.consume(12000)\n",
    "koo_card.consume(8000)\n",
    "print('--------------------------------')\n",
    "# 팀장님이 만든 Card 클래스를 상속받아 영화할인 카드를 생성\n",
    "\n",
    "class Movie_Card(Card):\n",
    "    pass\n",
    "m_card1=Movie_Card()\n",
    "m_card1.charge(10000)\n",
    "m_card1.consume(20000)\n",
    "m_card1.consume(7000)"
   ]
  },
  {
   "cell_type": "code",
   "execution_count": 24,
   "metadata": {},
   "outputs": [
    {
     "name": "stdout",
     "output_type": "stream",
     "text": [
      "카드가 발급되었습니다\n",
      "100000 원이 충전되었습니다\n",
      "잔액이 부족합니다\n",
      "10000 원이 사용되었습니다\n",
      "영화관 에서 8000.0 원이 사용되었습니다.\n",
      "주유소 에서 8000.0 원이 사용되었습니다.\n",
      "스타벅스 에서 9000.0 원이 사용되었습니다.\n"
     ]
    }
   ],
   "source": [
    "# 부모 클래스\n",
    "class Card:\n",
    "    def __init__(self):\n",
    "        self.cash=0\n",
    "        print('카드가 발급되었습니다')\n",
    "    def charge(self,num):\n",
    "        self.cash+=num\n",
    "        print(num,'원이 충전되었습니다')\n",
    "    def consume(self,num):\n",
    "        if self.cash>=num:\n",
    "            self.cash-=num\n",
    "            print(num,'원이 사용되었습니다')\n",
    "        else:\n",
    "            print('잔액이 부족합니다')\n",
    "# 자식 클래스\n",
    "class Movie_Card(Card):\n",
    "    def consume(self,num,place): # 오버라이딩(덮어쓰기)\n",
    "        if place in ('영화관','주유소'):\n",
    "            num=0.8*num\n",
    "            if self.cash>=num:\n",
    "                self.cash-=num\n",
    "                print(place,'에서',num,'원이 사용되었습니다.')\n",
    "            else:\n",
    "                print('잔액이 부족합니다')\n",
    "        elif place=='스타벅스':\n",
    "            num*=0.9\n",
    "            if self.cash>=num:\n",
    "                self.cash-=num\n",
    "                print(place,'에서',num,'원이 사용되었습니다.')\n",
    "            else:\n",
    "                print('잔액이 부족합니다')\n",
    "        else:\n",
    "            if self.cash>=num:\n",
    "                self.cash-=num\n",
    "                print(num,'원이 사용되었습니다')\n",
    "            else:\n",
    "                print('잔액이 부족합니다')\n",
    "m_card1=Movie_Card()\n",
    "m_card1.charge(100000)\n",
    "m_card1.consume(200000,'집')\n",
    "m_card1.consume(10000,'편의점')\n",
    "m_card1.consume(10000,'영화관')\n",
    "m_card1.consume(10000,'주유소')\n",
    "m_card1.consume(10000,'스타벅스')"
   ]
  },
  {
   "cell_type": "code",
   "execution_count": null,
   "metadata": {},
   "outputs": [],
   "source": [
    "# 클래스 멤버와 인스턴스 멤버 이해하기\n",
    "\n",
    "클래스에서 선언된 변수는 클래스 멤버(변수)와 인스턴스 멤버(변수)가 있다.\n",
    "클래스 멤버는 클래스 메소드 바깥에서 선언되고\n",
    "인스턴스 멤버는 클래스 메소드 안에서 self와 함께 선언되는 변수다."
   ]
  },
  {
   "cell_type": "code",
   "execution_count": 28,
   "metadata": {},
   "outputs": [
    {
     "name": "stdout",
     "output_type": "stream",
     "text": [
      "5000000\n",
      "chulsu.kim@gmail.com\n",
      "5500000\n",
      "5000000\n",
      "6000000\n",
      "5000000\n",
      "5500000\n"
     ]
    }
   ],
   "source": [
    "\"\"\"\n",
    "사원이 입사하면 입사한 사원에 대한 이메일을 자동으로 생성하고\n",
    "이름을 출력하는 함수와 월급을 인상하는 함수를 담는 클래스 생성\n",
    "\"\"\"\n",
    "\n",
    "class  Employees:\n",
    "    raise_amount = 1.1  # 클래스 변수\n",
    "    def __init__(self, first, last, pay): # 객체가 만들어질때\n",
    "        self.first = first               # 바로 작동되는 함수\n",
    "        self.last  = last\n",
    "        self.pay   = pay\n",
    "        self.email = first.lower() + '.' + last.lower() + '@gmail.com'\n",
    "        self.raise_amount = 1.1  # 인스턴스 변수\n",
    "\n",
    "    def  full_name(self): #사원의 전체이름을 출력하는 함수\n",
    "        print ('{} {}'.format(self.first, self.last))\n",
    "\n",
    "    def  apply_raise(self): # 월급을 인상하는 함수\n",
    "        self.pay = int( self.pay * self.raise_amount)\n",
    "\n",
    "\n",
    "emp_chulsu = Employees('chulsu', 'kim', 5000000)\n",
    "print(emp_chulsu.pay)   # 5000000\n",
    "print(emp_chulsu.email)\n",
    "emp_chulsu.apply_raise()\n",
    "print(emp_chulsu.pay)  # 5500000\n",
    "\n",
    "emp_chulsu2 = Employees('chulsu2', 'kim', 5000000)\n",
    "emp_chulsu2.raise_amount = 1.2          # 철수가 클래스 밖에서 raise_amount를 1.2로 조작\n",
    "print(emp_chulsu2.pay)   # 5000000\n",
    "emp_chulsu2.apply_raise()\n",
    "print(emp_chulsu2.pay)  # 6000000       # 철수만 월급이 1.2배가 되었다.\n",
    "\n",
    "\n",
    "class  Employees:\n",
    "    raise_amount = 1.1  # 클래스 변수\n",
    "    def __init__(self, first, last, pay): # 객체가 만들어질때\n",
    "        self.first = first               # 바로 작동되는 함수\n",
    "        self.last  = last\n",
    "        self.pay   = pay\n",
    "        self.email = first.lower() + '.' + last.lower() + '@gmail.com'\n",
    "        self.raise_amount = 1.1  # 인스턴스 변수\n",
    "\n",
    "    def  full_name(self): #사원의 전체이름을 출력하는 함수\n",
    "        return  '{} {}'.format(self.first, self.last)\n",
    "\n",
    "    def  apply_raise(self): # 월급을 인상하는 함수\n",
    "        self.pay = int( self.pay * Employees.raise_amount)  # 이번에는 self가 아닌, 클래스 변수를 사용 \n",
    "\n",
    "\n",
    "emp_chulsu2 = Employees('chulsu2', 'kim', 5000000)\n",
    "\n",
    "emp_chulsu2.raise_amount = 1.2   # 인스턴스 변수만 변경할 수 있고 클래스 변수는\n",
    "                                             # 변경할 수 없다. \n",
    "\n",
    "print(emp_chulsu2.pay)   # 5000000\n",
    "emp_chulsu2.apply_raise()\n",
    "print(emp_chulsu2.pay)  # 6000000   # 조작 실패\n",
    "\n",
    "# 클래스 변수 : 메소드 바깥의 변수 ( 객체 생성 이후 값 변경 불가 )\n",
    "\n",
    "# 인스턴스 변수 : 메소드 내의 변수\n",
    "\n",
    "# 위와 같이 민감한 변수들은 인스턴스 변수가 아닌 클래스 변수를 사용해서 코딩해야한다."
   ]
  }
 ],
 "metadata": {
  "kernelspec": {
   "display_name": "Python 3",
   "language": "python",
   "name": "python3"
  },
  "language_info": {
   "codemirror_mode": {
    "name": "ipython",
    "version": 3
   },
   "file_extension": ".py",
   "mimetype": "text/x-python",
   "name": "python",
   "nbconvert_exporter": "python",
   "pygments_lexer": "ipython3",
   "version": "3.8.5"
  }
 },
 "nbformat": 4,
 "nbformat_minor": 4
}
