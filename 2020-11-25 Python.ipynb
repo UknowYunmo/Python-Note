{
 "cells": [
  {
   "cell_type": "code",
   "execution_count": 1,
   "metadata": {},
   "outputs": [
    {
     "name": "stdout",
     "output_type": "stream",
     "text": [
      "숫자를 입력하세욤30\n",
      "중단할 숫자를 입력하세욤15\n",
      "1\n",
      "2\n",
      "3\n",
      "4\n",
      "5\n",
      "6\n",
      "7\n",
      "8\n",
      "9\n",
      "10\n",
      "11\n",
      "12\n",
      "13\n",
      "14\n",
      "15\n"
     ]
    }
   ],
   "source": [
    "a=int(input('숫자를 입력하세요'))\n",
    "b=int(input('중단할 숫자를 입력하세요'))\n",
    "for i in range(1,a+1):\n",
    "    print(i)\n",
    "    if i==b:\n",
    "        break\n",
    "else:\n",
    "    print('우와')"
   ]
  },
  {
   "cell_type": "code",
   "execution_count": 2,
   "metadata": {},
   "outputs": [
    {
     "name": "stdout",
     "output_type": "stream",
     "text": [
      "[9, 8, 3, 8, 7, 7, 4, 12, 6, 9]\n"
     ]
    }
   ],
   "source": [
    "import random\n",
    "dice=[1,2,3,4,5,6]\n",
    "cnt=0\n",
    "x=[]\n",
    "while(cnt<10):\n",
    "    result_A = random.choice(dice)\n",
    "    result_B = random.choice(dice)\n",
    "    x.append(result_A+result_B)\n",
    "    cnt=cnt+1\n",
    "print(x)"
   ]
  },
  {
   "cell_type": "code",
   "execution_count": 3,
   "metadata": {},
   "outputs": [
    {
     "name": "stdout",
     "output_type": "stream",
     "text": [
      "0.0799\n"
     ]
    }
   ],
   "source": [
    "# 위의 코드를 이용해서 두개의 주사위 눈의 합이 10이 되는 확률을 구하기\n",
    "\n",
    "import random\n",
    "dice=[1,2,3,4,5,6]\n",
    "cnt=0\n",
    "x=[]\n",
    "while(cnt<10000):\n",
    "    result_A = random.choice(dice)\n",
    "    result_B = random.choice(dice)\n",
    "    if result_A+result_B==10:\n",
    "        x.append(result_A+result_B)\n",
    "    cnt=cnt+1\n",
    "print(len(x)/10000)"
   ]
  },
  {
   "cell_type": "code",
   "execution_count": 4,
   "metadata": {},
   "outputs": [
    {
     "name": "stdout",
     "output_type": "stream",
     "text": [
      "[1, 2, 3]\n"
     ]
    }
   ],
   "source": [
    "# None 활용\n",
    "x = None\n",
    "a=1\n",
    "if a==1:\n",
    "    x=[1,2,3]\n",
    "else:\n",
    "    x='I love Python'\n",
    "print(x)\n",
    "\n",
    "# 나중에 뭐가 들어올지 모르니 일단 선언만 해주고 싶을때 사용한다"
   ]
  },
  {
   "cell_type": "code",
   "execution_count": null,
   "metadata": {},
   "outputs": [],
   "source": [
    "# 정수형 자료 이해하기\n",
    "\n",
    "# 자연수(1,2,3,...)와 음수(-1,-2,-3,...)와 0으로 이루어진 수의 체계를 정수라 한다.\n",
    "\n",
    "a=123\n",
    "b=-178\n",
    "c=0\n",
    "\n",
    "일반 프로그래밍에서 지원하는 정수형 상수의 범위는\n",
    "-2^31~2^31인데,\n",
    "파이썬은 메모리가 허용하는 범위에서 다 허용한다."
   ]
  },
  {
   "cell_type": "code",
   "execution_count": 7,
   "metadata": {},
   "outputs": [
    {
     "name": "stdout",
     "output_type": "stream",
     "text": [
      "9\n"
     ]
    }
   ],
   "source": [
    "# 3의 2승을 구하기\n",
    "\n",
    "print(3**2)\n",
    "\n",
    "# 제곱할 수의 앞에 **을 붙이면 된다\n",
    "\n",
    "# 제곱근 구하기\n",
    "\n",
    "import math\n"
   ]
  },
  {
   "cell_type": "code",
   "execution_count": null,
   "metadata": {},
   "outputs": [],
   "source": [
    "# 몬테카를로 알고리즘을 이용해서 원주율 구하기\n",
    "\n",
    "cnt=0\n",
    "import random\n",
    "import math\n",
    "for i in range(100000):\n",
    "    x=random.uniform(0,1)\n",
    "    y=random.uniform(0,1)\n",
    "    if (x**2)+(y**2)<=1:\n",
    "        cnt=cnt+1\n",
    "print(cnt/100000*4)\n",
    "\n",
    "# random.uniform(a,b) 는 a~b 사이에 랜덤으로 하나를 뽑는 함수"
   ]
  },
  {
   "cell_type": "code",
   "execution_count": null,
   "metadata": {},
   "outputs": [],
   "source": [
    "# 실수형 자료 이해하기\n",
    "\n",
    "실수는 소수로 나타낼 수 있는 유리수와 소수로 나타낼 수 없는 무리수로 구성된 집합이다.\n",
    "ex) 원주율, 오일러 자연상수 e\n",
    "파이썬은 실수를 지원하기 위해서 부동 소수형을 제공한다.\n",
    "\n",
    "* 부동 소수형의 특징\n",
    "\n",
    "1. 8 바이트만 이용해서 수를 표현한다.\n",
    "   즉, 한정된 범위의 수만 표현할 수 있다.\n",
    "   \n",
    "2. 디지털 방식으로 소수를 표현해야 하므로 정밀도의 한계가 있다."
   ]
  },
  {
   "cell_type": "code",
   "execution_count": 8,
   "metadata": {},
   "outputs": [
    {
     "name": "stdout",
     "output_type": "stream",
     "text": [
      "0.10000000000000142\n"
     ]
    }
   ],
   "source": [
    "# 43.2 에서 소수 43.1을 빼면 얼마인지 파이썬으로 구현하기\n",
    "\n",
    "print(43.2-43.1)"
   ]
  },
  {
   "cell_type": "code",
   "execution_count": null,
   "metadata": {},
   "outputs": [],
   "source": [
    "위와 같이 정밀도의 한계를 가지고 있다.\n",
    "이는 파이썬만의 문제가 아니라 부동 소수형이 어떻게 구성되고 동작되는가를 정의하는 표준인\n",
    "IEEE 754를 따르는 모든 컴퓨터 시스템의 문제이다.\n",
    "IEEE 754는 제한된 메모리를 이용해서 (파이썬의 경우 8바이트) 실수를 표현하기 때문이다."
   ]
  },
  {
   "cell_type": "code",
   "execution_count": 10,
   "metadata": {},
   "outputs": [
    {
     "name": "stdout",
     "output_type": "stream",
     "text": [
      "숫자를 입력하세요~16\n",
      "숫자를 입력하세요~24\n",
      "최대공약수는 8 입니다\n"
     ]
    }
   ],
   "source": [
    "# 두 숫자의 최대 공약수 출력하기\n",
    "\n",
    "a=int(input('숫자를 입력하세요~'))\n",
    "b=int(input('숫자를 입력하세요~'))\n",
    "x=[]\n",
    "if a>=b:\n",
    "    for i in range(1,b+1):\n",
    "        if a%i==0 and b%i==0:\n",
    "            x.append(i)\n",
    "    print('최대공약수는 ',max(x),'입니다')\n",
    "else:\n",
    "    for i in range(1,a+1):\n",
    "        if a%i==0 and b%i==0:\n",
    "            x.append(i)\n",
    "    print('최대공약수는',max(x),'입니다')"
   ]
  }
 ],
 "metadata": {
  "kernelspec": {
   "display_name": "Python 3",
   "language": "python",
   "name": "python3"
  },
  "language_info": {
   "codemirror_mode": {
    "name": "ipython",
    "version": 3
   },
   "file_extension": ".py",
   "mimetype": "text/x-python",
   "name": "python",
   "nbconvert_exporter": "python",
   "pygments_lexer": "ipython3",
   "version": "3.8.5"
  }
 },
 "nbformat": 4,
 "nbformat_minor": 4
}
