{
 "cells": [
  {
   "cell_type": "code",
   "execution_count": 1,
   "metadata": {},
   "outputs": [
    {
     "name": "stdout",
     "output_type": "stream",
     "text": [
      "나는 파이썬을 배웁니다. \n",
      " 파이썬은 자바보다 훨씬 쉽습니다\n"
     ]
    }
   ],
   "source": [
    "print('나는 파이썬을 배웁니다. \\n 파이썬은 자바보다 \\\n",
    "훨씬 쉽습니다')"
   ]
  },
  {
   "cell_type": "code",
   "execution_count": null,
   "metadata": {},
   "outputs": [],
   "source": [
    "# 리스트 이해하기\n",
    "\n",
    "리스트는 파이썬에서 가장 많이 활용되는 시퀀스 자료형 중 하나이다.\n",
    "리스트는 []로 표시하고 [] 안에 요소를 콤마(,)로 구분하여 순서있게 나열한다"
   ]
  },
  {
   "cell_type": "code",
   "execution_count": 4,
   "metadata": {},
   "outputs": [
    {
     "name": "stdout",
     "output_type": "stream",
     "text": [
      "['a', 'b', 'c', 'd', 'e']\n",
      "<class 'list'>\n",
      "d\n"
     ]
    }
   ],
   "source": [
    "a = ['a','b','c','d','e']\n",
    "print(a)\n",
    "print(type(a))\n",
    "print(a[3])"
   ]
  },
  {
   "cell_type": "code",
   "execution_count": 10,
   "metadata": {},
   "outputs": [
    {
     "name": "stdout",
     "output_type": "stream",
     "text": [
      "['앞면' '앞면' '뒷면' '뒷면' '앞면' '앞면' '앞면' '뒷면' '뒷면' '앞면']\n",
      "6\n"
     ]
    }
   ],
   "source": [
    "# 동전의 앞면과 뒷면을 포함하는 coin 리스트 생성\n",
    "\n",
    "coin=['앞면','뒷면']\n",
    "\n",
    "# 코인의 요소 10000개를 가진 coin_10000 생성\n",
    "\n",
    "coin_10000=coin*10000\n",
    "\n",
    "# coin_10000에서 표본을 10개 추출하기\n",
    "\n",
    "import numpy as np\n",
    "print(np.random.choice(coin_10000,10))\n",
    "\n",
    "# 샘플 10개를 뽑고 앞면이 몇 번 나왔는지 출력하기\n",
    "\n",
    "cnt=0\n",
    "result=np.random.choice(coin_10000,10)\n",
    "for i in result:\n",
    "    if i=='앞면':\n",
    "        cnt+=1\n",
    "print(cnt)"
   ]
  },
  {
   "cell_type": "code",
   "execution_count": null,
   "metadata": {},
   "outputs": [],
   "source": [
    "# 튜플 이해하기\n",
    "\n",
    "튜플은 리스트와 비슷한 성질을 가지고 있는 자료형이지만\n",
    "요소의 값을 변경할 수 없다는 특징이 있다.\n",
    "리스트는 대괄호 []로 요소들을 감싸고,\n",
    "튜플은 소괄호 ()로 요소를 감싼다.\n",
    "\n",
    "튜플은 데이터가 변경이 안되기 때문에\n",
    "튜플로 만든 데이터에 대한 신뢰도가 높아진다."
   ]
  },
  {
   "cell_type": "code",
   "execution_count": 11,
   "metadata": {},
   "outputs": [
    {
     "name": "stdout",
     "output_type": "stream",
     "text": [
      "[7, 2, 3, 4, 5]\n"
     ]
    }
   ],
   "source": [
    "# 특정 요소 변경(리스트)\n",
    "\n",
    "a=[1,2,3,4,5]\n",
    "a[0]=7             # 리스트 요소 변경\n",
    "print(a)"
   ]
  },
  {
   "cell_type": "code",
   "execution_count": 12,
   "metadata": {},
   "outputs": [
    {
     "ename": "TypeError",
     "evalue": "'tuple' object does not support item assignment",
     "output_type": "error",
     "traceback": [
      "\u001b[1;31m---------------------------------------------------------------------------\u001b[0m",
      "\u001b[1;31mTypeError\u001b[0m                                 Traceback (most recent call last)",
      "\u001b[1;32m<ipython-input-12-b6d6c3bc4f52>\u001b[0m in \u001b[0;36m<module>\u001b[1;34m\u001b[0m\n\u001b[0;32m      2\u001b[0m \u001b[1;33m\u001b[0m\u001b[0m\n\u001b[0;32m      3\u001b[0m \u001b[0mb\u001b[0m\u001b[1;33m=\u001b[0m\u001b[1;33m(\u001b[0m\u001b[1;36m1\u001b[0m\u001b[1;33m,\u001b[0m\u001b[1;36m2\u001b[0m\u001b[1;33m,\u001b[0m\u001b[1;36m3\u001b[0m\u001b[1;33m,\u001b[0m\u001b[1;36m4\u001b[0m\u001b[1;33m,\u001b[0m\u001b[1;36m5\u001b[0m\u001b[1;33m)\u001b[0m\u001b[1;33m\u001b[0m\u001b[1;33m\u001b[0m\u001b[0m\n\u001b[1;32m----> 4\u001b[1;33m \u001b[0mb\u001b[0m\u001b[1;33m[\u001b[0m\u001b[1;36m0\u001b[0m\u001b[1;33m]\u001b[0m\u001b[1;33m=\u001b[0m\u001b[1;36m7\u001b[0m\u001b[1;33m\u001b[0m\u001b[1;33m\u001b[0m\u001b[0m\n\u001b[0m",
      "\u001b[1;31mTypeError\u001b[0m: 'tuple' object does not support item assignment"
     ]
    }
   ],
   "source": [
    "# 특정 요소 변경(튜플)\n",
    "\n",
    "b=(1,2,3,4,5)\n",
    "b[0]=7             # 요소를 변경하려고 하면, 에러가 나면서 실행이 되지 않는다\n",
    "\n",
    "따라서 회사에서 변경이 되면 안 되는 데이터는\n",
    "프로그래밍할 때 튜플로 만들어 관리하면 된다."
   ]
  },
  {
   "cell_type": "code",
   "execution_count": null,
   "metadata": {},
   "outputs": [],
   "source": [
    "# 딕셔너리 이해하기\n",
    "\n",
    "사전은 키와 값을 하나의 요소로 하는 순서가 없는 집합이다.\n",
    "그러므로 시퀀스 자료형이 아니며 인덱싱으로 값에 접근할 수도 없다.\n",
    "사전은 '키:값' 쌍이 하나의 요소다."
   ]
  },
  {
   "cell_type": "code",
   "execution_count": 21,
   "metadata": {},
   "outputs": [
    {
     "name": "stdout",
     "output_type": "stream",
     "text": [
      "{'apple': '사과', 'banana': '바나나', 'peach': '복숭아', 'pear': '배'}\n",
      "dict_keys(['apple', 'banana', 'peach', 'pear'])\n",
      "dict_values(['사과', '바나나', '복숭아', '배'])\n",
      "{'apple': '사과', 'banana': '바나나', 'peach': '복숭아', 'pear': '배', 'grape': '포도'}\n"
     ]
    }
   ],
   "source": [
    "dic={'apple':'사과', 'banana':'바나나', 'peach':'복숭아', 'pear':'배'}\n",
    "print(dic)\n",
    "print(dic.keys())\n",
    "print(dic.values())\n",
    "dic['grape']='포도'           # 새로운 키:값을 추가하기\n",
    "print(dic)"
   ]
  },
  {
   "cell_type": "code",
   "execution_count": 24,
   "metadata": {},
   "outputs": [
    {
     "name": "stdout",
     "output_type": "stream",
     "text": [
      "사과 apple\n",
      "바나나 banana\n",
      "포도 grape\n",
      "복숭아 peach\n",
      "배 pear\n",
      "--------------\n",
      "{'사과': 'apple', '바나나': 'banana', '포도': 'grape', '복숭아': 'peach', '배': 'pear'}\n"
     ]
    }
   ],
   "source": [
    "# 두 개의 리스트 내용으로 하나의 딕셔너리 구성하기\n",
    "\n",
    "a=['사과','바나나','포도','복숭아','배']\n",
    "b=['apple','banana','grape','peach','pear']\n",
    "\n",
    "for i, k in zip(a,b):\n",
    "    print(i,k)                   # zip을 활용해서 출력해보기\n",
    "\n",
    "print('--------------')\n",
    "fruit={}\n",
    "for i, k in zip(a,b):\n",
    "    fruit[i]=k\n",
    "print(fruit)"
   ]
  }
 ],
 "metadata": {
  "kernelspec": {
   "display_name": "Python 3",
   "language": "python",
   "name": "python3"
  },
  "language_info": {
   "codemirror_mode": {
    "name": "ipython",
    "version": 3
   },
   "file_extension": ".py",
   "mimetype": "text/x-python",
   "name": "python",
   "nbconvert_exporter": "python",
   "pygments_lexer": "ipython3",
   "version": "3.8.5"
  }
 },
 "nbformat": 4,
 "nbformat_minor": 4
}
