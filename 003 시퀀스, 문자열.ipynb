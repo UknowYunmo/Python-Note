{
 "cells": [
  {
   "cell_type": "code",
   "execution_count": null,
   "metadata": {},
   "outputs": [],
   "source": [
    "# 시퀀스 자료형 이해하기\n",
    "\n",
    "시퀀스 자료형은 어떤 객체가 순서를 가지고 나열되어 있는 것을 말한다.\n",
    "\n",
    "예를 들어 문자열 'abcd'는 문자 a,b,c,d가 순서를 가지고 차례대로 나열되어 있는 것이다."
   ]
  },
  {
   "cell_type": "code",
   "execution_count": 8,
   "metadata": {},
   "outputs": [
    {
     "name": "stdout",
     "output_type": "stream",
     "text": [
      "scott\n",
      "-----\n",
      "s\n",
      "c\n",
      "o\n",
      "t\n",
      "t\n"
     ]
    }
   ],
   "source": [
    "a='scott'\n",
    "print(a)\n",
    "\n",
    "# 위의 scott 이라는 문자를 담은 a 변수에서 특정 요소만 출력하고 싶다면\n",
    "print('-----')\n",
    "print(a[0])\n",
    "print(a[1])\n",
    "print(a[2])\n",
    "print(a[3])\n",
    "print(a[4])\n",
    "\n",
    "\"\"\"\n",
    "문자형 변수에서 특정 철자만 가져오고 싶다면\n",
    "문자형 변수 옆에 대괄호를 쓰고, 순서에 해당하는 숫자를 적어주면 된다.\n",
    "\"\"\""
   ]
  },
  {
   "cell_type": "code",
   "execution_count": 13,
   "metadata": {},
   "outputs": [
    {
     "name": "stdout",
     "output_type": "stream",
     "text": [
      "h\n",
      "h\n"
     ]
    }
   ],
   "source": [
    "# smith 에서 맨 끝 철자만 출력하기\n",
    "\n",
    "a='smith'\n",
    "print(a[4])\n",
    "print(a[-1]) # -1을 사용할 수도 있다"
   ]
  },
  {
   "cell_type": "code",
   "execution_count": 23,
   "metadata": {},
   "outputs": [
    {
     "name": "stdout",
     "output_type": "stream",
     "text": [
      "KING\n",
      "BLAKE\n",
      "CLARK\n",
      "JONES\n",
      "MARTIN\n",
      "ALLEN\n",
      "TURNER\n",
      "JAMES\n",
      "WARD\n",
      "FORD\n",
      "SMITH\n",
      "SCOTT\n",
      "ADAMS\n",
      "MILLER\n",
      "-------------\n",
      "K\n",
      "B\n",
      "C\n",
      "J\n",
      "M\n",
      "A\n",
      "T\n",
      "J\n",
      "W\n",
      "F\n",
      "S\n",
      "S\n",
      "A\n",
      "M\n",
      "-------------\n",
      "G\n",
      "E\n",
      "K\n",
      "S\n",
      "N\n",
      "N\n",
      "R\n",
      "S\n",
      "D\n",
      "D\n",
      "H\n",
      "T\n",
      "S\n",
      "R\n",
      "-------------\n",
      "KING G\n",
      "BLAKE E\n",
      "CLARK K\n",
      "JONES S\n",
      "MARTIN N\n",
      "ALLEN N\n",
      "TURNER R\n",
      "JAMES S\n",
      "WARD D\n",
      "FORD D\n",
      "SMITH H\n",
      "SCOTT T\n",
      "ADAMS S\n",
      "MILLER R\n"
     ]
    }
   ],
   "source": [
    "# emp3.csv에서 이름의 첫번째 철자만 출력하기\n",
    "\n",
    "\"\"\"\n",
    "SQL>\n",
    "select substr(ename,1,1)\n",
    " from emp;\n",
    "\"\"\"\n",
    "\n",
    "import pandas as pd\n",
    "emp=pd.read_csv(\"c:\\\\data\\\\emp3.csv\")\n",
    "\n",
    "for i in emp['ename']:    # emp3.csv에서 ename만 가져와서, ename의 개수만큼 loop문을 수행해서 ename을 출력\n",
    "    print(i)  \n",
    "print('-------------')\n",
    "for i in emp['ename']:    \n",
    "    print(i[0])           # ename을 출력하는데 첫번째 문자열만 출력\n",
    "print('-------------')\n",
    "for i in emp['ename']:    \n",
    "    print(i[-1])           # ename을 출력하는데 마지막 문자열만 출력\n",
    "print('-------------')\n",
    "for i in emp['ename']:    # 이름과 이름의 마지막 문자열 출력\n",
    "    print(i,i[-1])         "
   ]
  },
  {
   "cell_type": "code",
   "execution_count": 31,
   "metadata": {},
   "outputs": [
    {
     "name": "stdout",
     "output_type": "stream",
     "text": [
      "SMITH\n",
      "SCOTT\n",
      "-----------\n",
      "SCOTT\n",
      "-----------\n",
      "SMITH\n"
     ]
    }
   ],
   "source": [
    "import pandas as pd\n",
    "emp=pd.read_csv(\"c:\\\\data\\\\emp3.csv\")\n",
    "\n",
    "# 이름의 첫번째 철자가 S로 시작하는 사원들의 이름 출력하기\n",
    "\"\"\"\n",
    "SQL>\n",
    "select ename\n",
    " from emp\n",
    " where ename like 'S%';\n",
    "\"\"\"\n",
    "\n",
    "for i in emp['ename']:\n",
    "    if i[0]=='S':\n",
    "        print(i)\n",
    "\n",
    "\n",
    "print('-----------')        \n",
    "# 이름이 T로 끝나는 사원들의 이름 출력하기\n",
    "\n",
    "\"\"\"\n",
    "SQL>\n",
    "select ename\n",
    " from emp\n",
    " where ename like '%T';\n",
    "\"\"\"\n",
    "\n",
    "for i in emp['ename']:\n",
    "    if i[-1]=='T':\n",
    "        print(i)\n",
    "\n",
    "        \n",
    "print('-----------')\n",
    "# 두번째 철자가 M인 사원의 이름과 월급을 출력하기\n",
    "\n",
    "\"\"\"\n",
    "SQL>\n",
    "select ename\n",
    " from emp\n",
    " where ename like '_M%';\n",
    "\"\"\"\n",
    "\n",
    "for i in emp['ename']:\n",
    "    if i[1]=='M':\n",
    "        print(i)"
   ]
  },
  {
   "cell_type": "code",
   "execution_count": 48,
   "metadata": {},
   "outputs": [
    {
     "name": "stdout",
     "output_type": "stream",
     "text": [
      "KIN\n",
      "BLA\n",
      "CLA\n",
      "JON\n",
      "MAR\n",
      "ALL\n",
      "TUR\n",
      "JAM\n",
      "WAR\n",
      "FOR\n",
      "SMI\n",
      "SCO\n",
      "ADA\n",
      "MIL\n",
      "-----------\n",
      "NG\n",
      "KE\n",
      "RK\n",
      "ES\n",
      "IN\n",
      "EN\n",
      "ER\n",
      "ES\n",
      "RD\n",
      "RD\n",
      "TH\n",
      "TT\n",
      "MS\n",
      "ER\n"
     ]
    }
   ],
   "source": [
    "# SQL을 판다스로 구현하기\n",
    "\n",
    "\"\"\"\n",
    "SQL > select substr(ename,1,3)\n",
    "        from emp;\n",
    "\"\"\"\n",
    "import pandas as pd\n",
    "emp=pd.read_csv(\"c:\\\\data\\\\emp3.csv\")\n",
    "\n",
    "for i in emp['ename']:\n",
    "        print(i[0:3])\n",
    "        \n",
    "print('-----------')\n",
    "\n",
    "\"\"\"\n",
    "SQL > select substr(ename,-2,0)\n",
    "        from emp;\n",
    "\"\"\"\n",
    "\n",
    "for i in emp['ename']:\n",
    "        print(i[-2:])"
   ]
  },
  {
   "cell_type": "code",
   "execution_count": null,
   "metadata": {},
   "outputs": [],
   "source": [
    "# 시퀀스 자료 연결\n",
    "\n",
    "자료형이 동일한 두 개의 시퀀스 자료는 + 연산자로 순서있게 연결하여\n",
    "새로운 시퀀스 자료를 만들 수 있다.\n",
    "문자열 + 문자열, 리스트 + 리스트, 튜플 + 튜플 과 같이\n",
    "두 개의 동일한 시퀀스 자료형에 대해 + 연산자로 연결이 가능하다."
   ]
  },
  {
   "cell_type": "code",
   "execution_count": 51,
   "metadata": {},
   "outputs": [
    {
     "name": "stdout",
     "output_type": "stream",
     "text": [
      "i love python\n",
      "[2, 3, 4, 5, 9, 2, 4, 8]\n"
     ]
    }
   ],
   "source": [
    "a='i love '\n",
    "b='python'\n",
    "print(a+b)\n",
    "\n",
    "# 두 개의 리스트 연결하기\n",
    "\n",
    "a=[2,3,4,5]\n",
    "b=[9,2,4,8]\n",
    "\n",
    "print(a+b)"
   ]
  },
  {
   "cell_type": "code",
   "execution_count": 62,
   "metadata": {},
   "outputs": [
    {
     "name": "stdout",
     "output_type": "stream",
     "text": [
      "KING5000\n",
      "BLAKE2850\n",
      "CLARK2450\n",
      "JONES2975\n",
      "MARTIN1250\n",
      "ALLEN1600\n",
      "TURNER1500\n",
      "JAMES950\n",
      "WARD1250\n",
      "FORD3000\n",
      "SMITH800\n",
      "SCOTT3000\n",
      "ADAMS1100\n",
      "MILLER1300\n"
     ]
    },
    {
     "data": {
      "text/plain": [
       "'\\nzip 함수를 for loop 문에 사용하게 되면\\n두 개의 범위 데이터를 한 번에 받아서 loop를 수행할 수 있다.\\nstr 함수를 이용한 이유는 문자형(ename) + 숫자형(sal)은 연결이 안 되기 때문에.\\n숫자형을 문자형으로 변환해서 문자형 + 문자형으로 출력하기 위해서\\n'"
      ]
     },
     "execution_count": 62,
     "metadata": {},
     "output_type": "execute_result"
    }
   ],
   "source": [
    "# 컬럼끼리 연결해서 출력하기\n",
    "\n",
    "\"\"\"\n",
    "SQL > select ename || sal\n",
    "        from emp;\n",
    "\"\"\"\n",
    "\n",
    "import pandas as pd\n",
    "emp=pd.read_csv(\"c:\\\\data\\\\emp3.csv\")\n",
    "\n",
    "for i, k in zip(emp['ename'],emp['sal']):\n",
    "    print(i+str(k))\n",
    "\n",
    "\"\"\"\n",
    "zip 함수를 for loop 문에 사용하게 되면\n",
    "두 개의 범위 데이터를 한 번에 받아서 loop를 수행할 수 있다.\n",
    "str 함수를 이용한 이유는 문자형(ename) + 숫자형(sal)은 연결이 안 되기 때문에.\n",
    "숫자형을 문자형으로 변환해서 문자형 + 문자형으로 출력하기 위해서\n",
    "\"\"\""
   ]
  },
  {
   "cell_type": "code",
   "execution_count": 65,
   "metadata": {},
   "outputs": [
    {
     "name": "stdout",
     "output_type": "stream",
     "text": [
      "aaaaaaa\n",
      "[1, 2, 3, 1, 2, 3, 1, 2, 3]\n",
      "[129.3, 130.2, 132.5, 132.7, 129.3, 130.2, 132.5, 132.7, 129.3, 130.2, 132.5, 132.7]\n"
     ]
    }
   ],
   "source": [
    "# 시퀀스 자료 반복\n",
    "\n",
    "\"\"\"\n",
    "동일한 시퀀스 자료를 반복하여 새로운 시퀀스 자료로 만들고자 할 때는\n",
    "별표(*)를 연산자로 사용하면 된다.\n",
    "\"\"\"\n",
    "\n",
    "print('a'*7)\n",
    "\n",
    "print([1,2,3]*3)\n",
    "\n",
    "tall = [129.3, 130.2, 132.5, 132.7]\n",
    "list = tall*3\n",
    "print(list)"
   ]
  },
  {
   "cell_type": "code",
   "execution_count": 66,
   "metadata": {},
   "outputs": [
    {
     "name": "stdout",
     "output_type": "stream",
     "text": [
      "KING 4\n",
      "BLAKE 5\n",
      "CLARK 5\n",
      "JONES 5\n",
      "MARTIN 6\n",
      "ALLEN 5\n",
      "TURNER 6\n",
      "JAMES 5\n",
      "WARD 4\n",
      "FORD 4\n",
      "SMITH 5\n",
      "SCOTT 5\n",
      "ADAMS 5\n",
      "MILLER 6\n"
     ]
    }
   ],
   "source": [
    "# 컬럼 값의 길이 출력하기\n",
    "\n",
    "\"\"\"\n",
    "SQL > select ename, length(ename)\n",
    "        from emp;\n",
    "\"\"\"\n",
    "\n",
    "import pandas as pd\n",
    "emp=pd.read_csv(\"c:\\\\data\\\\emp3.csv\")\n",
    "\n",
    "for i in emp['ename']:\n",
    "    print(i,len(i))"
   ]
  },
  {
   "cell_type": "code",
   "execution_count": 69,
   "metadata": {},
   "outputs": [
    {
     "name": "stdout",
     "output_type": "stream",
     "text": [
      "False\n",
      "True\n"
     ]
    }
   ],
   "source": [
    "# 멤버 체크\n",
    "\n",
    "\"\"\"\n",
    "in은 자료에 어떤 값이 있는지 확인할 때 사용하는 키워드다.\n",
    "값이 자료에 있으면 True를 반환하고, 없으면 False를 반환한다.\n",
    "\"\"\"\n",
    "\n",
    "listdata=[1,2,3,4]\n",
    "a=5 in listdata\n",
    "b=4 in listdata\n",
    "print(a)\n",
    "print(b)"
   ]
  },
  {
   "cell_type": "code",
   "execution_count": 74,
   "metadata": {},
   "outputs": [
    {
     "name": "stdout",
     "output_type": "stream",
     "text": [
      "[23.93999241 28.88818627 21.2957801  ... 26.58788165 28.18471142\n",
      " 15.47113339]\n",
      "10000\n",
      "29.997962937181146\n"
     ]
    }
   ],
   "source": [
    "# 모평균이 30이고 모표준편차가 7인 모집단을 구성하기\n",
    "import numpy as np\n",
    "avg=30\n",
    "std=7\n",
    "N=10000\n",
    "\n",
    "mogipdan=np.random.randn(N)*std+avg\n",
    "print(mogipdan)\n",
    "\n",
    "\"\"\"\n",
    "np.randn(숫자)를 쓰면\n",
    "가우시안 정규분포에 따르는 난수들이 숫자만큼 생성됨\n",
    "\"\"\"\n",
    "\n",
    "print(len(mogipdan))\n",
    "\n",
    "print(np.mean(mogipdan))"
   ]
  },
  {
   "cell_type": "code",
   "execution_count": 78,
   "metadata": {},
   "outputs": [
    {
     "name": "stdout",
     "output_type": "stream",
     "text": [
      "     ename       job\n",
      "4   MARTIN  SALESMAN\n",
      "5    ALLEN  SALESMAN\n",
      "6   TURNER  SALESMAN\n",
      "8     WARD  SALESMAN\n",
      "9     FORD   ANALYST\n",
      "11   SCOTT   ANALYST\n",
      "--------------------\n",
      "     ename        job\n",
      "0     KING  PRESIDENT\n",
      "1    BLAKE    MANAGER\n",
      "2    CLARK    MANAGER\n",
      "3    JONES    MANAGER\n",
      "7    JAMES      CLERK\n",
      "10   SMITH      CLERK\n",
      "12   ADAMS      CLERK\n",
      "13  MILLER      CLERK\n"
     ]
    }
   ],
   "source": [
    "# SQL의 in 을 판다스로 구현하기\n",
    "\n",
    "\"\"\"\n",
    "SQL > select ename, job\n",
    "        from emp\n",
    "        where job in ('SALESMAN', 'ANALYST');\n",
    "\"\"\"\n",
    "\n",
    "import pandas as pd\n",
    "emp=pd.read_csv(\"c:\\\\data\\\\emp3.csv\")\n",
    "\n",
    "print(emp[['ename','job']][emp['job'].isin(['SALESMAN','ANALYST'])])\n",
    "\n",
    "print('--------------------')\n",
    "\n",
    "\"\"\"\n",
    "SQL > select ename, job\n",
    "        from emp\n",
    "        where job not in ('SALESMAN', 'ANALYST');\n",
    "\"\"\"\n",
    "\n",
    "print(emp[['ename','job']][~emp['job'].isin(['SALESMAN','ANALYST'])])"
   ]
  },
  {
   "cell_type": "code",
   "execution_count": null,
   "metadata": {},
   "outputs": [],
   "source": [
    "# 문자열 선언하는 3가지 방법\n",
    "\n",
    "1. '문자열' --> 싱글 쿼테이션 마크\n",
    "2. \"문자열\" --> 더블 쿼테이션 마크\n",
    "3. \"\"\"문자열\"\"\" --> 더블 쿼테이션 마크를 3개\n",
    "\n",
    "문자에 싱글 쿼테이션 마크(')가 포함되어져 있으면\n",
    "위의 두번째인 더블 쿼테이션 마크를 사용한다.\n",
    "               \n",
    "또한 문자에 더블 쿼테이션 마크(\")가 포함되어져 있으면\n",
    "위의 세번째인 더블 쿼테이션 마크3개를 사용하면 된다."
   ]
  },
  {
   "cell_type": "code",
   "execution_count": 80,
   "metadata": {},
   "outputs": [
    {
     "name": "stdout",
     "output_type": "stream",
     "text": [
      "\"모집단\"의 모평균은, \"모집단\"의 모분산은, \"모집단\"의 모표준편차는\n"
     ]
    }
   ],
   "source": [
    "a=\"\"\"\"모집단\"의 모평균은, \"모집단\"의 모분산은, \"모집단\"의 모표준편차는\"\"\"\n",
    "print(a)"
   ]
  },
  {
   "cell_type": "code",
   "execution_count": 85,
   "metadata": {},
   "outputs": [
    {
     "name": "stdout",
     "output_type": "stream",
     "text": [
      "[25.54516586 18.04491694 28.60607326 ... 16.21517322 38.94163602\n",
      " 30.64668632]\n",
      "\"모집단\"의 모평균은 29.908075719150947\n",
      "\"모집단\"의 모분산은 48.21950548562098\n",
      "\"모집단\"의 모표준편차는 6.944026604616444\n"
     ]
    }
   ],
   "source": [
    "import numpy as np\n",
    "avg=30\n",
    "std=7\n",
    "N=10000\n",
    "mogipdan=np.random.randn(N)*std+avg\n",
    "print(mogipdan)\n",
    "\n",
    "print(\"\"\"\"모집단\"의 모평균은\"\"\",np.mean(mogipdan))\n",
    "print(\"\"\"\"모집단\"의 모분산은\"\"\",np.var(mogipdan))\n",
    "print(\"\"\"\"모집단\"의 모표준편차는\"\"\",np.std(mogipdan))"
   ]
  },
  {
   "cell_type": "code",
   "execution_count": 88,
   "metadata": {},
   "outputs": [
    {
     "name": "stdout",
     "output_type": "stream",
     "text": [
      "[20.41384913 31.68171108 19.14802479 33.93733486 31.43107485 38.11825624\n",
      " 46.4881491  32.66602154 20.26837249 26.81840238 30.71284017 23.58645934\n",
      " 32.32841183 28.08103063 25.65995979 20.00229474 43.64263146 22.88273544\n",
      " 29.00895644 26.20615418 26.5738648  19.14740035 43.67088297 29.44740707\n",
      " 29.79681158 32.08781536 17.33960595 30.76231885 34.97004702 34.39699453\n",
      " 37.68222733 31.2510695  36.59936901 33.67515676 35.49202322 23.63698094\n",
      " 29.46407581 31.37416179 32.18592272 29.95813884 24.84674741 38.73589908\n",
      " 31.2969262  26.62492185 25.53095942 35.74430626 21.95114171 19.99499659\n",
      " 14.45982139]\n",
      "--------------------------------\n",
      "30.694092534639925\n",
      "--------------------------------\n",
      "30.5809651265933\n"
     ]
    }
   ],
   "source": [
    "# 1000000개의 모집단을 만들고, 그 중 표본 49개를 뽑은 뒤, 그 평균을 구하기\n",
    "import numpy as np\n",
    "import random\n",
    "avg=30\n",
    "std=7\n",
    "N=1000000\n",
    "mogipdan=np.random.randn(N)*std+avg\n",
    "print(np.random.choice(mogipdan,49))\n",
    "print('--------------------------------')\n",
    "print(np.mean(np.random.choice(mogipdan,49)))\n",
    "print('--------------------------------')\n",
    "print(np.random.choice(mogipdan,49).mean())"
   ]
  },
  {
   "cell_type": "code",
   "execution_count": 94,
   "metadata": {},
   "outputs": [
    {
     "name": "stdout",
     "output_type": "stream",
     "text": [
      "[29.330616924613366, 30.19387035795604, 29.918101474828593, 26.087634100512002, 27.488024450833603]\n",
      "5\n"
     ]
    }
   ],
   "source": [
    "# 1000000개의 모집단을 만들고, 그 중 표본 10개를 뽑은 뒤, 그 펴본의 평균을 구하는 시행을 5번 하여 저장하기\n",
    "import numpy as np\n",
    "import random\n",
    "avg=30\n",
    "std=7\n",
    "N=1000000\n",
    "mogipdan=np.random.randn(N)*std+avg\n",
    "sample_list=[]\n",
    "for i in range(5):\n",
    "    sample_list.append(np.random.choice(mogipdan,10).mean())\n",
    "print(sample_list)"
   ]
  },
  {
   "cell_type": "code",
   "execution_count": null,
   "metadata": {},
   "outputs": [],
   "source": [
    "# 문자열 포멧팅\n",
    "\n",
    "문자열 포멧팅이란 변하는 값을 포함하는 문자열을 표현하기 위해\n",
    "하나의 양식으로 문자열을 만드는 것이다.\n",
    "문자열 포멧팅에서는 변하는 값을 나타내기 위해 사용하는 기호를\n",
    "'포멧 문자열'이라고 하며, 자주 사용하는 포멧 문자열은 다음과 같다.\n",
    "\n",
    "포멧 문자열\n",
    "%s  --> 문자열에 대응\n",
    "%c  --> 문자나 기호 한 개에 대응\n",
    "%f  --> 실수에 대응\n",
    "%d  --> 정수에 대응\n",
    "%%  --> % 라는 기호 자체를 표시"
   ]
  },
  {
   "cell_type": "code",
   "execution_count": 96,
   "metadata": {},
   "outputs": [
    {
     "name": "stdout",
     "output_type": "stream",
     "text": [
      "나는 자바보다 파이썬에 더 익숙합니다\n"
     ]
    }
   ],
   "source": [
    "txt1='자바'\n",
    "txt2='파이썬'\n",
    "num1=5\n",
    "num2=10\n",
    "print('나는 %s보다 %s에 더 익숙합니다' %(txt1,txt2))"
   ]
  },
  {
   "cell_type": "code",
   "execution_count": 102,
   "metadata": {},
   "outputs": [
    {
     "name": "stdout",
     "output_type": "stream",
     "text": [
      "5는 10 보다 작습니다\n"
     ]
    }
   ],
   "source": [
    "num1=5\n",
    "num2=10\n",
    "\n",
    "print('%s는 %s 보다 작습니다' %(num1,num2))"
   ]
  },
  {
   "cell_type": "code",
   "execution_count": 106,
   "metadata": {},
   "outputs": [
    {
     "name": "stdout",
     "output_type": "stream",
     "text": [
      "6.982772344649171\n",
      "모집단\"의 모평균은 30.17, 모집단\"의 모분산은 48.76,\"모집단\"의 모표준편차는 6.98 입니다.\n"
     ]
    }
   ],
   "source": [
    "import numpy as np\n",
    "avg=30\n",
    "std=7\n",
    "N=10000\n",
    "mogipdan=np.random.randn(N)*std+avg\n",
    "a=np.mean(mogipdan)\n",
    "b=np.var(mogipdan)\n",
    "c=np.std(mogipdan)\n",
    "print(c)\n",
    "print('모집단\"의 모평균은 %.2f, 모집단\"의 모분산은 %.2f,\"모집단\"의 모표준편차는 %.2f 입니다.' %(a,b,c)) "
   ]
  }
 ],
 "metadata": {
  "kernelspec": {
   "display_name": "Python 3",
   "language": "python",
   "name": "python3"
  },
  "language_info": {
   "codemirror_mode": {
    "name": "ipython",
    "version": 3
   },
   "file_extension": ".py",
   "mimetype": "text/x-python",
   "name": "python",
   "nbconvert_exporter": "python",
   "pygments_lexer": "ipython3",
   "version": "3.8.5"
  }
 },
 "nbformat": 4,
 "nbformat_minor": 4
}
