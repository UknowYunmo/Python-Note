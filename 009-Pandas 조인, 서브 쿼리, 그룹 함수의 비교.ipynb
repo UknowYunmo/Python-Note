{
 "cells": [
  {
   "cell_type": "code",
   "execution_count": 2,
   "metadata": {},
   "outputs": [
    {
     "name": "stdout",
     "output_type": "stream",
     "text": [
      "    index  empno   ename        job     mgr         hiredate   sal    comm  \\\n",
      "0       1   7839    KING  PRESIDENT     NaN  1981-11-17 0:00  5000     NaN   \n",
      "1       2   7698   BLAKE    MANAGER  7839.0  1981-05-01 0:00  2850     NaN   \n",
      "2       3   7782   CLARK    MANAGER  7839.0  1981-05-09 0:00  2450     NaN   \n",
      "3       4   7566   JONES    MANAGER  7839.0  1981-04-01 0:00  2975     NaN   \n",
      "4       5   7654  MARTIN   SALESMAN  7698.0  1981-09-10 0:00  1250  1400.0   \n",
      "5       6   7499   ALLEN   SALESMAN  7698.0  1981-02-11 0:00  1600   300.0   \n",
      "6       7   7844  TURNER   SALESMAN  7698.0  1981-08-21 0:00  1500     0.0   \n",
      "7       8   7900   JAMES      CLERK  7698.0  1981-12-11 0:00   950     NaN   \n",
      "8       9   7521    WARD   SALESMAN  7698.0  1981-02-23 0:00  1250   500.0   \n",
      "9      10   7902    FORD    ANALYST  7566.0  1981-12-11 0:00  3000     NaN   \n",
      "10     11   7369   SMITH      CLERK  7902.0  1980-12-09 0:00   800     NaN   \n",
      "11     12   7788   SCOTT    ANALYST  7566.0  1982-12-22 0:00  3000     NaN   \n",
      "12     13   7876   ADAMS      CLERK  7788.0  1983-01-15 0:00  1100     NaN   \n",
      "13     14   7934  MILLER      CLERK  7782.0  1982-01-11 0:00  1300     NaN   \n",
      "\n",
      "    deptno  \n",
      "0       10  \n",
      "1       30  \n",
      "2       10  \n",
      "3       20  \n",
      "4       30  \n",
      "5       30  \n",
      "6       30  \n",
      "7       30  \n",
      "8       30  \n",
      "9       20  \n",
      "10      20  \n",
      "11      20  \n",
      "12      20  \n",
      "13      10  \n",
      "------------------------------\n",
      "   deptno       dname       loc\n",
      "0      10  ACCOUNTING  NEW YORK\n",
      "1      20    RESEARCH    DALLAS\n",
      "2      30       SALES   CHICAGO\n",
      "3      40  OPERATIONS    BOSTON\n"
     ]
    }
   ],
   "source": [
    "# 예제 : emp, dept 테이블 전체 조회하기\n",
    "\n",
    "\"\"\"\n",
    "SQL > select * from emp;\n",
    "      select * from dept;\n",
    "\"\"\"\n",
    "\n",
    "import pandas as pd\n",
    "emp = pd.read_csv(\"c:\\\\data\\\\emp3.csv\")\n",
    "print(emp)\n",
    "print('------------------------------')\n",
    "dept=pd.read_csv(\"c:\\\\data\\\\dept3.csv\")\n",
    "print(dept)"
   ]
  },
  {
   "cell_type": "code",
   "execution_count": 3,
   "metadata": {},
   "outputs": [
    {
     "name": "stdout",
     "output_type": "stream",
     "text": [
      "   deptno     dname\n",
      "1      20  RESEARCH\n"
     ]
    }
   ],
   "source": [
    "# 예제 : DALLAS의 부서번호와 부서명을 출력하기\n",
    "\n",
    "\"\"\"\n",
    "SQL > select deptno, dname \n",
    "        from dept\n",
    "        where loc='DALLAS';\n",
    "\"\"\"\n",
    "import pandas as pd\n",
    "emp = pd.read_csv(\"c:\\\\data\\\\emp3.csv\")\n",
    "dept=pd.read_csv(\"c:\\\\data\\\\dept3.csv\")\n",
    "print(dept[['deptno','dname']][dept['loc']=='DALLAS'])"
   ]
  },
  {
   "cell_type": "code",
   "execution_count": 6,
   "metadata": {},
   "outputs": [
    {
     "name": "stdout",
     "output_type": "stream",
     "text": [
      "     ename       loc\n",
      "0     KING  NEW YORK\n",
      "1    CLARK  NEW YORK\n",
      "2   MILLER  NEW YORK\n",
      "3    BLAKE   CHICAGO\n",
      "4   MARTIN   CHICAGO\n",
      "5    ALLEN   CHICAGO\n",
      "6   TURNER   CHICAGO\n",
      "7    JAMES   CHICAGO\n",
      "8     WARD   CHICAGO\n",
      "9    JONES    DALLAS\n",
      "10    FORD    DALLAS\n",
      "11   SMITH    DALLAS\n",
      "12   SCOTT    DALLAS\n",
      "13   ADAMS    DALLAS\n",
      "---------------------------------------\n",
      "    index  empno   ename        job     mgr         hiredate   sal    comm  \\\n",
      "0       1   7839    KING  PRESIDENT     NaN  1981-11-17 0:00  5000     NaN   \n",
      "1       3   7782   CLARK    MANAGER  7839.0  1981-05-09 0:00  2450     NaN   \n",
      "2      14   7934  MILLER      CLERK  7782.0  1982-01-11 0:00  1300     NaN   \n",
      "3       2   7698   BLAKE    MANAGER  7839.0  1981-05-01 0:00  2850     NaN   \n",
      "4       5   7654  MARTIN   SALESMAN  7698.0  1981-09-10 0:00  1250  1400.0   \n",
      "5       6   7499   ALLEN   SALESMAN  7698.0  1981-02-11 0:00  1600   300.0   \n",
      "6       7   7844  TURNER   SALESMAN  7698.0  1981-08-21 0:00  1500     0.0   \n",
      "7       8   7900   JAMES      CLERK  7698.0  1981-12-11 0:00   950     NaN   \n",
      "8       9   7521    WARD   SALESMAN  7698.0  1981-02-23 0:00  1250   500.0   \n",
      "9       4   7566   JONES    MANAGER  7839.0  1981-04-01 0:00  2975     NaN   \n",
      "10     10   7902    FORD    ANALYST  7566.0  1981-12-11 0:00  3000     NaN   \n",
      "11     11   7369   SMITH      CLERK  7902.0  1980-12-09 0:00   800     NaN   \n",
      "12     12   7788   SCOTT    ANALYST  7566.0  1982-12-22 0:00  3000     NaN   \n",
      "13     13   7876   ADAMS      CLERK  7788.0  1983-01-15 0:00  1100     NaN   \n",
      "\n",
      "    deptno       dname       loc  \n",
      "0       10  ACCOUNTING  NEW YORK  \n",
      "1       10  ACCOUNTING  NEW YORK  \n",
      "2       10  ACCOUNTING  NEW YORK  \n",
      "3       30       SALES   CHICAGO  \n",
      "4       30       SALES   CHICAGO  \n",
      "5       30       SALES   CHICAGO  \n",
      "6       30       SALES   CHICAGO  \n",
      "7       30       SALES   CHICAGO  \n",
      "8       30       SALES   CHICAGO  \n",
      "9       20    RESEARCH    DALLAS  \n",
      "10      20    RESEARCH    DALLAS  \n",
      "11      20    RESEARCH    DALLAS  \n",
      "12      20    RESEARCH    DALLAS  \n",
      "13      20    RESEARCH    DALLAS  \n"
     ]
    }
   ],
   "source": [
    "# Pandas를 활용한 조인\n",
    "\n",
    "\n",
    "# 예제 : 이름과 부서 위치를 출력하기\n",
    "\n",
    "\"\"\"\n",
    "SQL > select e.ename, d.loc\n",
    "        from emp e, dept d\n",
    "        where e.deptno=d.deptno;\n",
    "\"\"\"\n",
    "\n",
    "import pandas as pd\n",
    "emp = pd.read_csv(\"c:\\\\data\\\\emp3.csv\")\n",
    "dept=pd.read_csv(\"c:\\\\data\\\\dept3.csv\")\n",
    "result=pd.merge(emp,dept, on='deptno')\n",
    "print(result[['ename','loc']])\n",
    "\n",
    "\"\"\"\n",
    "* emp 데이터 프레임과 dept 데이터 프레임을 merge를 써서 조인시키는데\n",
    "\n",
    "on='deptno'를 이용해서 연결고리가 되는 컬럼을 지정해주면 된다.\n",
    "\n",
    "그리고 그 조인해 만든 데이터 프레임에서 ename과 loc만 조회했다.\n",
    "\n",
    "조건을 안 줘보고 result 그대로 출력만 해보면 이해하기 쉽다.\n",
    "\"\"\"\n",
    "print('---------------------------------------')\n",
    "print(result)\n",
    "\n"
   ]
  },
  {
   "cell_type": "code",
   "execution_count": 8,
   "metadata": {},
   "outputs": [
    {
     "name": "stdout",
     "output_type": "stream",
     "text": [
      "    ename     loc\n",
      "9   JONES  DALLAS\n",
      "10   FORD  DALLAS\n",
      "11  SMITH  DALLAS\n",
      "12  SCOTT  DALLAS\n",
      "13  ADAMS  DALLAS\n"
     ]
    }
   ],
   "source": [
    "# 예제 : DALLAS에서 근무하는 사원들의 이름과 부서위치를 출력하기\n",
    "\n",
    "\"\"\"\n",
    "SQL > select e.ename, d.loc\n",
    "        from emp e, dept d\n",
    "        where d.loc='DALLAS';\n",
    "\"\"\"\n",
    "import pandas as pd\n",
    "emp = pd.read_csv(\"c:\\\\data\\\\emp3.csv\")\n",
    "dept=pd.read_csv(\"c:\\\\data\\\\dept3.csv\")\n",
    "result=pd.merge(emp,dept, on='deptno')\n",
    "print(result[['ename','loc']][result['loc']=='DALLAS'])"
   ]
  },
  {
   "cell_type": "code",
   "execution_count": 9,
   "metadata": {},
   "outputs": [
    {
     "name": "stdout",
     "output_type": "stream",
     "text": [
      "    ename   sal       loc\n",
      "0    KING  5000  NEW YORK\n",
      "10   FORD  3000    DALLAS\n",
      "12  SCOTT  3000    DALLAS\n"
     ]
    }
   ],
   "source": [
    "# 예제 : 월급이 3000 이상인 사원들의 이름과 월급과 부서 위치를 출력하기\n",
    "\n",
    "\"\"\"\n",
    "SQL > select e.ename, e.sal, d.loc\n",
    "        from emp e, dept d\n",
    "        where e.sal>=3000;\n",
    "\"\"\"\n",
    "import pandas as pd\n",
    "emp = pd.read_csv(\"c:\\\\data\\\\emp3.csv\")\n",
    "dept=pd.read_csv(\"c:\\\\data\\\\dept3.csv\")\n",
    "result=pd.merge(emp,dept, on='deptno')\n",
    "print(result[['ename','sal','loc']][result['sal']>=3000])"
   ]
  },
  {
   "cell_type": "code",
   "execution_count": 10,
   "metadata": {},
   "outputs": [
    {
     "name": "stdout",
     "output_type": "stream",
     "text": [
      "     ename       loc  deptno\n",
      "0     KING  NEW YORK      10\n",
      "1    CLARK  NEW YORK      10\n",
      "2   MILLER  NEW YORK      10\n",
      "9    JONES    DALLAS      20\n",
      "10    FORD    DALLAS      20\n",
      "11   SMITH    DALLAS      20\n",
      "12   SCOTT    DALLAS      20\n",
      "13   ADAMS    DALLAS      20\n"
     ]
    }
   ],
   "source": [
    "# 예제 : 부서번호가 10번, 20번인 사원들의 이름과 부서위치와 부서번호를 출력하기\n",
    "\"\"\"\n",
    "SQL > select e.ename, d.loc, d.deptno\n",
    "        from emp e, dept d\n",
    "        where d.deptno in (10,20);\n",
    "\"\"\"\n",
    "import pandas as pd\n",
    "emp = pd.read_csv(\"c:\\\\data\\\\emp3.csv\")\n",
    "dept=pd.read_csv(\"c:\\\\data\\\\dept3.csv\")\n",
    "result=pd.merge(emp,dept, on='deptno')\n",
    "print(result[['ename','loc','deptno']][result['deptno'].isin([10,20])])\n",
    "\n",
    "\"\"\"\n",
    "데이터 프레임에서는 in (10,20) 하면 오류가 나고, 반드시 isin을 사용한 뒤\n",
    "( 괄호를 열고, [ 리스트 안에 조건들을 기입해야한다. ] )\n",
    "\"\"\""
   ]
  },
  {
   "cell_type": "code",
   "execution_count": 11,
   "metadata": {},
   "outputs": [
    {
     "name": "stdout",
     "output_type": "stream",
     "text": [
      "     ename   sal       loc\n",
      "1    CLARK  2450  NEW YORK\n",
      "2   MILLER  1300  NEW YORK\n",
      "3    BLAKE  2850   CHICAGO\n",
      "4   MARTIN  1250   CHICAGO\n",
      "5    ALLEN  1600   CHICAGO\n",
      "6   TURNER  1500   CHICAGO\n",
      "8     WARD  1250   CHICAGO\n",
      "9    JONES  2975    DALLAS\n",
      "10    FORD  3000    DALLAS\n",
      "12   SCOTT  3000    DALLAS\n",
      "13   ADAMS  1100    DALLAS\n"
     ]
    }
   ],
   "source": [
    "# 예제 : 월급이 1000에서 3000 사이인 사원들의 이름과 월급과 부서위치를 출력하기\n",
    "\n",
    "\"\"\"\n",
    "SQL > select e.ename, e.sal, d.loc\n",
    "        from emp e, dept d\n",
    "        where e.sal between 1000 and 3000;\n",
    "\"\"\"\n",
    "import pandas as pd\n",
    "emp = pd.read_csv(\"c:\\\\data\\\\emp3.csv\")\n",
    "dept=pd.read_csv(\"c:\\\\data\\\\dept3.csv\")\n",
    "result=pd.merge(emp,dept, on='deptno')\n",
    "print(result[['ename','sal','loc']][result['sal'].between(1000,3000)])  # .between(a,b) 해주면 된다."
   ]
  },
  {
   "cell_type": "code",
   "execution_count": 13,
   "metadata": {},
   "outputs": [
    {
     "name": "stdout",
     "output_type": "stream",
     "text": [
      "     ename       loc\n",
      "0     KING  NEW YORK\n",
      "1    CLARK  NEW YORK\n",
      "2   MILLER  NEW YORK\n",
      "3    BLAKE   CHICAGO\n",
      "4   MARTIN   CHICAGO\n",
      "5    ALLEN   CHICAGO\n",
      "6   TURNER   CHICAGO\n",
      "7    JAMES   CHICAGO\n",
      "8     WARD   CHICAGO\n",
      "9    JONES    DALLAS\n",
      "10    FORD    DALLAS\n",
      "11   SMITH    DALLAS\n",
      "12   SCOTT    DALLAS\n",
      "13   ADAMS    DALLAS\n",
      "--------------------------------------\n",
      "     ename       loc\n",
      "0     KING  NEW YORK\n",
      "1    CLARK  NEW YORK\n",
      "2   MILLER  NEW YORK\n",
      "3    JONES    DALLAS\n",
      "4     FORD    DALLAS\n",
      "5    SMITH    DALLAS\n",
      "6    SCOTT    DALLAS\n",
      "7    ADAMS    DALLAS\n",
      "8    BLAKE   CHICAGO\n",
      "9   MARTIN   CHICAGO\n",
      "10   ALLEN   CHICAGO\n",
      "11  TURNER   CHICAGO\n",
      "12   JAMES   CHICAGO\n",
      "13    WARD   CHICAGO\n",
      "14     NaN    BOSTON\n"
     ]
    }
   ],
   "source": [
    "# Pandas로 아우터 조인\n",
    "\n",
    "\n",
    "# 예제 : 사원의 이름과, 부서 위치를 출력하는데, 특정 위치에 일치하는 사원이 없더라도 위치도 전부 출력하기 \n",
    "\"\"\"\n",
    "SQL > select e.ename, d.loc\n",
    "        from emp e, dept d\n",
    "        where e.deptno(+)=d.deptno;\n",
    "        \n",
    "SQL에서는 조인할 때 정보가 모자란 쪽에 (+) 해주는 것이 국룰이다.\n",
    "\"\"\"\n",
    "import pandas as pd\n",
    "emp = pd.read_csv(\"c:\\\\data\\\\emp3.csv\")\n",
    "dept=pd.read_csv(\"c:\\\\data\\\\dept3.csv\")\n",
    "result=pd.merge(emp,dept, on='deptno')\n",
    "print(result[['ename','loc']]) # 일반 조인 --> 13개\n",
    "\n",
    "print('--------------------------------------')\n",
    "\n",
    "result=pd.merge(emp,dept, on='deptno',how='right')\n",
    "print(result[['ename','loc']]) # 아우터 조인 --> 14개\n",
    "\n",
    "\"\"\"\n",
    "반대쪽으로 왼쪽으로 아우터 조인할 때는 right 대신 left를,\n",
    "\n",
    "양쪽으로 아우터 조인하고 싶다면 outer를 입력해주면 된다.\n",
    "\"\"\""
   ]
  },
  {
   "cell_type": "code",
   "execution_count": 14,
   "metadata": {},
   "outputs": [
    {
     "name": "stdout",
     "output_type": "stream",
     "text": [
      "    ename   sal\n",
      "0    KING  5000\n",
      "9    FORD  3000\n",
      "11  SCOTT  3000\n"
     ]
    }
   ],
   "source": [
    "# Pandas로 서브쿼리 구현\n",
    "\n",
    "\n",
    "# 예제 : JONES보다 월급이 더 많은 사원의 이름과 월급 출력하기\n",
    "\"\"\"\n",
    "SQL > select ename, sal\n",
    "        from emp\n",
    "        where sal > ( select sal\n",
    "                        from emp\n",
    "                        where ename='JONES');\n",
    "\"\"\"\n",
    "import pandas as pd\n",
    "emp = pd.read_csv(\"c:\\\\data\\\\emp3.csv\")\n",
    "j_sal=emp['sal'][emp['ename']=='JONES'].values[0]\n",
    "print(emp[['ename','sal']][emp['sal']>j_sal])\n",
    "\n",
    "\"\"\"\n",
    "                        **중요**\n",
    "\n",
    "조건에 들어갈 변수를 만들 때 항상 .values[0]을 하도록 하자.\n",
    "\n",
    "저게 없으면 j_sal은 int 값이 아닌 데이터 프레임 형태가 되기 때문에\n",
    "\n",
    "이후 조건 절에 들어가면 오류가 발생한다.\n",
    "\"\"\""
   ]
  },
  {
   "cell_type": "code",
   "execution_count": 15,
   "metadata": {},
   "outputs": [
    {
     "name": "stdout",
     "output_type": "stream",
     "text": [
      "    ename   sal\n",
      "9    FORD  3000\n",
      "11  SCOTT  3000\n"
     ]
    }
   ],
   "source": [
    "# 예제 : SCOTT과 같은 직업인 사원들의 이름과 월급 출력하기\n",
    "\n",
    "\"\"\"\n",
    "SQL > select ename, sal\n",
    "        from emp\n",
    "        where job = ( select job\n",
    "                        from emp\n",
    "                        where ename='SCOTT');\n",
    "\"\"\"\n",
    "import pandas as pd\n",
    "emp = pd.read_csv(\"c:\\\\data\\\\emp3.csv\")\n",
    "job=emp['job'][emp['ename']=='SCOTT'].values[0]\n",
    "print(emp[['ename','sal']][emp['job']==job])"
   ]
  },
  {
   "cell_type": "code",
   "execution_count": 16,
   "metadata": {},
   "outputs": [
    {
     "name": "stdout",
     "output_type": "stream",
     "text": [
      "  ename   sal\n",
      "9  FORD  3000\n"
     ]
    }
   ],
   "source": [
    "# 예제 : 방금의 예제에서 SCOTT은 제외하고 출력하기\n",
    "\n",
    "\"\"\"\n",
    "SQL > select ename, sal\n",
    "        from emp\n",
    "        where job = ( select job\n",
    "                        from emp\n",
    "                        where ename='SCOTT') and ename!='SCOTT';\n",
    "\"\"\"\n",
    "import pandas as pd\n",
    "emp = pd.read_csv(\"c:\\\\data\\\\emp3.csv\")\n",
    "job=emp['job'][emp['ename']=='SCOTT'].values[0]\n",
    "print(emp[['ename','sal']][(emp['job']==job) & (emp['ename']!='SCOTT')]) # 연산자 & 사용"
   ]
  }
 ],
 "metadata": {
  "kernelspec": {
   "display_name": "Python 3",
   "language": "python",
   "name": "python3"
  },
  "language_info": {
   "codemirror_mode": {
    "name": "ipython",
    "version": 3
   },
   "file_extension": ".py",
   "mimetype": "text/x-python",
   "name": "python",
   "nbconvert_exporter": "python",
   "pygments_lexer": "ipython3",
   "version": "3.8.5"
  }
 },
 "nbformat": 4,
 "nbformat_minor": 4
}
