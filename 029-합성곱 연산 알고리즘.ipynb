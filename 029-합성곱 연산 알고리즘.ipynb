{
 "cells": [
  {
   "cell_type": "code",
   "execution_count": null,
   "metadata": {},
   "outputs": [],
   "source": [
    "# 합성곱 연산 알고리즘\n",
    "\n",
    "\n",
    "\n",
    "딥러닝의 필수 알고리즘 ( 퍼셉트론, 합성곱 연산 알고리즘 )\n",
    "\n",
    "\n",
    "\n",
    "이미지의 형상을 무시하지 않고, 이미지를 그대로 인공 신경망이\n",
    "\n",
    "학습할 수 있게 해준 수학 행렬 연산\n",
    "\n",
    "\n",
    "\n",
    "원본 이미지는 학습되어야 하는 데이터이며,\n",
    "\n",
    "필터는 원본 이미지의 특징을 잡아내는데 사용되는 행렬이다.\n",
    "\n",
    "\n",
    "\n",
    "이렇게 특징을 잡아서 feature map을 생성해서,\n",
    "\n",
    "원본 이미지의 형태를 이해하는 것을 합성곱 연산이라고 한다.\n",
    "\n",
    "\n",
    "\n",
    "\n",
    "\n",
    "일단 행렬의 연산을 하려면 numpy을 사용해야 한다.\n",
    "\n",
    "\n",
    "\n",
    "numpy는 파이썬에서 기본적으로 지원하지 않는 배열(array) 혹은 행렬(matrix)의 계산을\n",
    "\n",
    "쉽게 해주는 라이브러리다.\n",
    "\n",
    "머신러닝에서 많이 사용하는 선형대수학에 관련된 수식을\n",
    "\n",
    "파이썬에서도 쉽게 프로그래밍할 수 있게 해준다."
   ]
  },
  {
   "cell_type": "code",
   "execution_count": 1,
   "metadata": {},
   "outputs": [
    {
     "name": "stdout",
     "output_type": "stream",
     "text": [
      "[[3 2 4]\n",
      " [0 2 4]\n",
      " [4 0 3]]\n"
     ]
    }
   ],
   "source": [
    "# 예제 : 두 행렬의 덧셈 연산하기\n",
    "\n",
    "a=[[1,2,3],[0,1,2],[3,0,1]]\n",
    "\n",
    "b=[[2,0,1],[0,1,2],[1,0,2]]\n",
    "\n",
    "\n",
    "\n",
    "import numpy as np\n",
    "\n",
    "a2=np.array(a)\n",
    "\n",
    "b2=np.array(b)\n",
    "\n",
    "print(a2+b2)"
   ]
  },
  {
   "cell_type": "code",
   "execution_count": 2,
   "metadata": {},
   "outputs": [
    {
     "name": "stdout",
     "output_type": "stream",
     "text": [
      "[[2 0 3]\n",
      " [0 1 4]\n",
      " [3 0 2]]\n"
     ]
    }
   ],
   "source": [
    "# 예제 : 두 행렬의 곱셈 연산하기\n",
    "\n",
    "a=[[1,2,3],[0,1,2],[3,0,1]]\n",
    "\n",
    "b=[[2,0,1],[0,1,2],[1,0,2]]\n",
    "\n",
    "\n",
    "\n",
    "import numpy as np\n",
    "\n",
    "a2=np.array(a)\n",
    "\n",
    "b2=np.array(b)\n",
    "\n",
    "print(a2*b2)"
   ]
  },
  {
   "cell_type": "code",
   "execution_count": 3,
   "metadata": {},
   "outputs": [
    {
     "name": "stdout",
     "output_type": "stream",
     "text": [
      "15\n"
     ]
    }
   ],
   "source": [
    "# 예제 : 두 원소의 곱으로 출력된 결과의 요소들을 모두 더하기\n",
    "\n",
    "a=[[1,2,3],[0,1,2],[3,0,1]]\n",
    "\n",
    "b=[[2,0,1],[0,1,2],[1,0,2]]\n",
    "\n",
    "\n",
    "\n",
    "import numpy as np\n",
    "\n",
    "a2=np.array(a)\n",
    "\n",
    "b2=np.array(b)\n",
    "\n",
    "result=a2*b2\n",
    "\n",
    "print(np.sum(result))"
   ]
  },
  {
   "cell_type": "code",
   "execution_count": 5,
   "metadata": {},
   "outputs": [
    {
     "name": "stdout",
     "output_type": "stream",
     "text": [
      "[[1 2 3 0]\n",
      " [0 1 2 3]\n",
      " [3 0 1 2]\n",
      " [2 3 0 1]]\n"
     ]
    }
   ],
   "source": [
    "# 예제 : 4x4 행렬을 만들기\n",
    "\n",
    "import numpy as np\n",
    "\n",
    "a=[[1,2,3,0],[0,1,2,3],[3,0,1,2],[2,3,0,1]]\n",
    "\n",
    "a2=np.array(a)\n",
    "\n",
    "print(a2)"
   ]
  },
  {
   "cell_type": "code",
   "execution_count": 6,
   "metadata": {},
   "outputs": [
    {
     "name": "stdout",
     "output_type": "stream",
     "text": [
      "[[1 2 3]\n",
      " [0 1 2]\n",
      " [3 0 1]]\n"
     ]
    }
   ],
   "source": [
    "# 예제 : 여기서 3x3 행렬만 짤라오기\n",
    "\n",
    "import numpy as np\n",
    "\n",
    "a=[[1,2,3,0],[0,1,2,3],[3,0,1,2],[2,3,0,1]]\n",
    "\n",
    "a2=np.array(a)\n",
    "\n",
    "print(a2[0:3,0:3]) # 열을 0부터 3미만까지, 행을 0부터 3미만까지"
   ]
  },
  {
   "cell_type": "code",
   "execution_count": 7,
   "metadata": {},
   "outputs": [
    {
     "name": "stdout",
     "output_type": "stream",
     "text": [
      "[[2 3 0]\n",
      " [1 2 3]\n",
      " [0 1 2]]\n"
     ]
    }
   ],
   "source": [
    "# 예제 : 4x4 행렬에서 특정 부분 출력하기\n",
    "\n",
    "import numpy as np\n",
    "\n",
    "a=[[1,2,3,0],[0,1,2,3],[3,0,1,2],[2,3,0,1]]\n",
    "\n",
    "a2=np.array(a)\n",
    "\n",
    "print(a2[0:3,1:4])"
   ]
  },
  {
   "cell_type": "code",
   "execution_count": 9,
   "metadata": {},
   "outputs": [
    {
     "name": "stdout",
     "output_type": "stream",
     "text": [
      "[[0 1 2]\n",
      " [3 0 1]\n",
      " [2 3 0]]\n"
     ]
    }
   ],
   "source": [
    "# 예제 : 4x4 행렬에서 특정 부분 출력하기2\n",
    "\n",
    "import numpy as np\n",
    "\n",
    "a=[[1,2,3,0],[0,1,2,3],[3,0,1,2],[2,3,0,1]]\n",
    "\n",
    "a2=np.array(a)\n",
    "\n",
    "print(a2[1:4,0:3])"
   ]
  },
  {
   "cell_type": "code",
   "execution_count": 10,
   "metadata": {},
   "outputs": [
    {
     "name": "stdout",
     "output_type": "stream",
     "text": [
      "[[1 2 3]\n",
      " [0 1 2]\n",
      " [3 0 1]]\n"
     ]
    }
   ],
   "source": [
    "# 예제 : 4x4 행렬에서 특정 부분 출력하기3\n",
    "\n",
    "import numpy as np\n",
    "\n",
    "a=[[1,2,3,0],[0,1,2,3],[3,0,1,2],[2,3,0,1]]\n",
    "\n",
    "a2=np.array(a)\n",
    "\n",
    "print(a2[1:4,1:4])"
   ]
  },
  {
   "cell_type": "code",
   "execution_count": 11,
   "metadata": {},
   "outputs": [
    {
     "name": "stdout",
     "output_type": "stream",
     "text": [
      "[[1 2 3]\n",
      " [0 1 2]\n",
      " [3 0 1]]\n",
      "[[2 3 0]\n",
      " [1 2 3]\n",
      " [0 1 2]]\n",
      "[[0 1 2]\n",
      " [3 0 1]\n",
      " [2 3 0]]\n",
      "[[1 2 3]\n",
      " [0 1 2]\n",
      " [3 0 1]]\n"
     ]
    }
   ],
   "source": [
    "# 예제 : 위 4개의 예제를 한 번에 출력하기\n",
    "\n",
    "import numpy as np\n",
    "\n",
    "a=[[1,2,3,0],[0,1,2,3],[3,0,1,2],[2,3,0,1]]\n",
    "\n",
    "a2=np.array(a)\n",
    "\n",
    "for i in range(2):\n",
    "\n",
    "    for j in range(2):\n",
    "\n",
    "        print(a2[i:i+3,j:j+3])"
   ]
  },
  {
   "cell_type": "code",
   "execution_count": 12,
   "metadata": {},
   "outputs": [
    {
     "name": "stdout",
     "output_type": "stream",
     "text": [
      "[[ 2  6 12]\n",
      " [ 0  2  6]\n",
      " [ 6  0  1]]\n",
      "[[4 9 0]\n",
      " [1 4 9]\n",
      " [0 0 2]]\n",
      "[[0 3 8]\n",
      " [3 0 3]\n",
      " [4 0 0]]\n",
      "[[ 2  6 12]\n",
      " [ 0  2  6]\n",
      " [ 6  0  1]]\n"
     ]
    }
   ],
   "source": [
    "# 예제 : 위에서 선택한 4개의 행렬(3x3)과 아래의 filter 행렬(3x3)과의 원소의 곱 출력하기\n",
    "\n",
    "import numpy as np\n",
    "\n",
    "f=[[2,3,4],[1,2,3],[2,0,1]]\n",
    "\n",
    "filter=np.array(f)\n",
    "\n",
    "a=[[1,2,3,0],[0,1,2,3],[3,0,1,2],[2,3,0,1]]\n",
    "\n",
    "a2=np.array(a)\n",
    "\n",
    "for i in range(0,2):\n",
    "\n",
    "    for j in range(0,2):\n",
    "\n",
    "        print(a2[i:i+3,j:j+3]*filter)"
   ]
  },
  {
   "cell_type": "code",
   "execution_count": 13,
   "metadata": {},
   "outputs": [
    {
     "name": "stdout",
     "output_type": "stream",
     "text": [
      "35\n",
      "29\n",
      "21\n",
      "35\n"
     ]
    }
   ],
   "source": [
    "# 예제 : 각각 곱해 생긴 리스트 요소의 합을 출력하기\n",
    "\n",
    "import numpy as np\n",
    "\n",
    "f=[[2,3,4],[1,2,3],[2,0,1]]\n",
    "\n",
    "filter=np.array(f)\n",
    "\n",
    "a=[[1,2,3,0],[0,1,2,3],[3,0,1,2],[2,3,0,1]]\n",
    "\n",
    "a2=np.array(a)\n",
    "\n",
    "for i in range(0,2):\n",
    "\n",
    "    for j in range(0,2):\n",
    "\n",
    "        print(np.sum(a2[i:i+3,j:j+3]*filter))"
   ]
  },
  {
   "cell_type": "code",
   "execution_count": 15,
   "metadata": {},
   "outputs": [
    {
     "name": "stdout",
     "output_type": "stream",
     "text": [
      "[[35 29]\n",
      " [21 35]]\n"
     ]
    }
   ],
   "source": [
    "# 예제 : 출력된 4개의 숫자로 2x2 행렬 만들기\n",
    "\n",
    "import numpy as np\n",
    "\n",
    "f=[[2,3,4],[1,2,3],[2,0,1]]\n",
    "\n",
    "filter=np.array(f)\n",
    "\n",
    "result=[]\n",
    "\n",
    "a=[[1,2,3,0],[0,1,2,3],[3,0,1,2],[2,3,0,1]]\n",
    "\n",
    "a2=np.array(a)\n",
    "\n",
    "for i in range(0,2):\n",
    "\n",
    "    for j in range(0,2):\n",
    "\n",
    "        result.append(np.sum(a2[i:i+3,j:j+3]*filter)) # result에 담기\n",
    "\n",
    "result2=np.array(result).reshape(2,2) # result 리스트를 넘파이 2x2 행렬로 변경\n",
    "\n",
    "print(result2)"
   ]
  },
  {
   "cell_type": "code",
   "execution_count": null,
   "metadata": {},
   "outputs": [],
   "source": [
    "합성곱 정리 : a2라는 원본 이미지에 filter(랜덤으로 생성한 이미지)를 가지고\n",
    "\n",
    "원본 이미지를 스트라이드 ( 양 옆, 위 아래로 스캔 - 아까의 이중 for문 ) 하면서\n",
    "\n",
    "특징을 잡아내 특징 이미지를 추출하는 것 ( result2 )"
   ]
  }
 ],
 "metadata": {
  "kernelspec": {
   "display_name": "Python 3",
   "language": "python",
   "name": "python3"
  },
  "language_info": {
   "codemirror_mode": {
    "name": "ipython",
    "version": 3
   },
   "file_extension": ".py",
   "mimetype": "text/x-python",
   "name": "python",
   "nbconvert_exporter": "python",
   "pygments_lexer": "ipython3",
   "version": "3.8.5"
  }
 },
 "nbformat": 4,
 "nbformat_minor": 4
}
