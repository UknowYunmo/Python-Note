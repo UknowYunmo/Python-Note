{
 "cells": [
  {
   "cell_type": "code",
   "execution_count": null,
   "metadata": {},
   "outputs": [],
   "source": [
    "# 판다스 사용법\n",
    "\n",
    "* pandas란,\n",
    "\n",
    "1. 데이터 분석을 위한 파이썬 모듈\n",
    "2. 엑셀의 스프레드 시트와 같은 관계형 데이터베이스의 데이터 처리 능력이 뛰어남\n",
    "3. 판다스는 Dataframe 이라는 기본 자료구조를 사용한다.\n",
    "(오라클의 테이블과 판다스의 Dataframe 이 서로 유사하다.)"
   ]
  },
  {
   "cell_type": "code",
   "execution_count": 151,
   "metadata": {
    "scrolled": true
   },
   "outputs": [
    {
     "name": "stdout",
     "output_type": "stream",
     "text": [
      "    index  empno   ename        job     mgr         hiredate   sal    comm  \\\n",
      "0       1   7839    KING  PRESIDENT     NaN  1981-11-17 0:00  5000     NaN   \n",
      "1       2   7698   BLAKE    MANAGER  7839.0  1981-05-01 0:00  2850     NaN   \n",
      "2       3   7782   CLARK    MANAGER  7839.0  1981-05-09 0:00  2450     NaN   \n",
      "3       4   7566   JONES    MANAGER  7839.0  1981-04-01 0:00  2975     NaN   \n",
      "4       5   7654  MARTIN   SALESMAN  7698.0  1981-09-10 0:00  1250  1400.0   \n",
      "5       6   7499   ALLEN   SALESMAN  7698.0  1981-02-11 0:00  1600   300.0   \n",
      "6       7   7844  TURNER   SALESMAN  7698.0  1981-08-21 0:00  1500     0.0   \n",
      "7       8   7900   JAMES      CLERK  7698.0  1981-12-11 0:00   950     NaN   \n",
      "8       9   7521    WARD   SALESMAN  7698.0  1981-02-23 0:00  1250   500.0   \n",
      "9      10   7902    FORD    ANALYST  7566.0  1981-12-11 0:00  3000     NaN   \n",
      "10     11   7369   SMITH      CLERK  7902.0  1980-12-09 0:00   800     NaN   \n",
      "11     12   7788   SCOTT    ANALYST  7566.0  1982-12-22 0:00  3000     NaN   \n",
      "12     13   7876   ADAMS      CLERK  7788.0  1983-01-15 0:00  1100     NaN   \n",
      "13     14   7934  MILLER      CLERK  7782.0  1982-01-11 0:00  1300     NaN   \n",
      "\n",
      "    deptno  \n",
      "0       10  \n",
      "1       30  \n",
      "2       10  \n",
      "3       20  \n",
      "4       30  \n",
      "5       30  \n",
      "6       30  \n",
      "7       30  \n",
      "8       30  \n",
      "9       20  \n",
      "10      20  \n",
      "11      20  \n",
      "12      20  \n",
      "13      10  \n"
     ]
    }
   ],
   "source": [
    "# 1. emp3.csv를 파이썬을 이용해서 판다스의 데이터 프레임으로 만들기\n",
    "\n",
    "import pandas as pd # 판다스 모듈 호출\n",
    "\n",
    "emp=pd.read_csv(\"c:\\\\data\\\\emp3.csv\") # c드라이브의 emp3.csv를 emp변수에 할당\n",
    "print(emp)"
   ]
  },
  {
   "cell_type": "code",
   "execution_count": 154,
   "metadata": {},
   "outputs": [
    {
     "name": "stdout",
     "output_type": "stream",
     "text": [
      "     ename   sal\n",
      "0     KING  5000\n",
      "1    BLAKE  2850\n",
      "2    CLARK  2450\n",
      "3    JONES  2975\n",
      "4   MARTIN  1250\n",
      "5    ALLEN  1600\n",
      "6   TURNER  1500\n",
      "7    JAMES   950\n",
      "8     WARD  1250\n",
      "9     FORD  3000\n",
      "10   SMITH   800\n",
      "11   SCOTT  3000\n",
      "12   ADAMS  1100\n",
      "13  MILLER  1300\n"
     ]
    }
   ],
   "source": [
    "# SQL ---> 판다스 문법\n",
    "\n",
    "# 사원 테이블에서 이름과 월급을 출력하기\n",
    "\n",
    "\"\"\"\n",
    "SQL > select ename, sal from emp;\n",
    "\"\"\"\n",
    "\n",
    "# 판다스 :\n",
    "import pandas as pd\n",
    "emp = pd.read_csv(\"c:\\\\data\\\\emp3.csv\")\n",
    "print(emp[['ename','sal']])\n",
    "\n",
    "# emp : 데이터 프레임명 [ ['컬럼명1','컬럼명2'] ]"
   ]
  },
  {
   "cell_type": "code",
   "execution_count": 155,
   "metadata": {},
   "outputs": [
    {
     "name": "stdout",
     "output_type": "stream",
     "text": [
      "     ename        job         hiredate\n",
      "0     KING  PRESIDENT  1981-11-17 0:00\n",
      "1    BLAKE    MANAGER  1981-05-01 0:00\n",
      "2    CLARK    MANAGER  1981-05-09 0:00\n",
      "3    JONES    MANAGER  1981-04-01 0:00\n",
      "4   MARTIN   SALESMAN  1981-09-10 0:00\n",
      "5    ALLEN   SALESMAN  1981-02-11 0:00\n",
      "6   TURNER   SALESMAN  1981-08-21 0:00\n",
      "7    JAMES      CLERK  1981-12-11 0:00\n",
      "8     WARD   SALESMAN  1981-02-23 0:00\n",
      "9     FORD    ANALYST  1981-12-11 0:00\n",
      "10   SMITH      CLERK  1980-12-09 0:00\n",
      "11   SCOTT    ANALYST  1982-12-22 0:00\n",
      "12   ADAMS      CLERK  1983-01-15 0:00\n",
      "13  MILLER      CLERK  1982-01-11 0:00\n"
     ]
    }
   ],
   "source": [
    "# SQL ---> 판다스 문법 2\n",
    "\n",
    "# 월급, 직업, 입사일 출력하기\n",
    "\n",
    "\"\"\"\n",
    "SQL > select sal, job, hiredate from emp;\n",
    "\"\"\"\n",
    "\n",
    "import pandas as pd\n",
    "emp = pd.read_csv(\"c:\\\\data\\\\emp3.csv\")\n",
    "print(emp[['ename','job','hiredate']])"
   ]
  },
  {
   "cell_type": "code",
   "execution_count": 157,
   "metadata": {},
   "outputs": [
    {
     "name": "stdout",
     "output_type": "stream",
     "text": [
      "    ename   sal\n",
      "4  MARTIN  1250\n",
      "5   ALLEN  1600\n",
      "6  TURNER  1500\n",
      "8    WARD  1250\n"
     ]
    }
   ],
   "source": [
    "# 직업이 SALESMAN인 사원의 이름과 월급 출력하기\n",
    "\n",
    "\"\"\"\n",
    "SQL > select sal, job, hiredate\n",
    "        from emp\n",
    "        where job='SALESMAN';\n",
    "\"\"\"\n",
    "import pandas as pd\n",
    "emp = pd.read_csv(\"c:\\\\data\\\\emp3.csv\")\n",
    "print(emp[['ename','sal']] [emp['job']=='SALESMAN'])\n",
    "\n",
    "# 출력할 컬럼 옆에 대괄호 열고 검색 조건을 입력한다"
   ]
  },
  {
   "cell_type": "code",
   "execution_count": 161,
   "metadata": {},
   "outputs": [
    {
     "name": "stdout",
     "output_type": "stream",
     "text": [
      "    ename   sal\n",
      "9    FORD  3000\n",
      "11  SCOTT  3000\n"
     ]
    }
   ],
   "source": [
    "# 월급이 3000 이상인 사원들의 이름과 월급 출력하기\n",
    "\n",
    "\"\"\"\n",
    "SQL > select ename, sal\n",
    "        from emp\n",
    "        where sal>=3000;\n",
    "\"\"\"\n",
    "import pandas as pd\n",
    "emp = pd.read_csv(\"c:\\\\data\\\\emp3.csv\")\n",
    "print(emp[['ename','sal']] [emp['sal']==3000])\n",
    "\n",
    "# '3000'으로 해보니까 안 된다. ( SQL은 알아서 형변환 해주는데 ㅠ )"
   ]
  },
  {
   "cell_type": "code",
   "execution_count": 162,
   "metadata": {},
   "outputs": [
    {
     "name": "stdout",
     "output_type": "stream",
     "text": [
      "     ename   sal\n",
      "1    BLAKE  2850\n",
      "2    CLARK  2450\n",
      "3    JONES  2975\n",
      "4   MARTIN  1250\n",
      "5    ALLEN  1600\n",
      "6   TURNER  1500\n",
      "8     WARD  1250\n",
      "9     FORD  3000\n",
      "11   SCOTT  3000\n",
      "12   ADAMS  1100\n",
      "13  MILLER  1300\n"
     ]
    }
   ],
   "source": [
    "# 월급이 1000, 3000 사이인 사원들의 이름, 월급 출력하기\n",
    "\n",
    "\"\"\"\n",
    "SQL >\n",
    "select ename, sal\n",
    "    from emp\n",
    "    where sal between 1000 and 3000;\n",
    "\"\"\"\n",
    "import pandas as pd\n",
    "emp = pd.read_csv(\"c:\\\\data\\\\emp3.csv\")\n",
    "print(emp[['ename','sal']] [emp['sal'].between(1000,3000)])\n",
    "\n",
    "#컬럼.between(a,b)"
   ]
  },
  {
   "cell_type": "code",
   "execution_count": 163,
   "metadata": {},
   "outputs": [
    {
     "name": "stdout",
     "output_type": "stream",
     "text": [
      "    ename   sal\n",
      "0    KING  5000\n",
      "7   JAMES   950\n",
      "10  SMITH   800\n"
     ]
    }
   ],
   "source": [
    "# 월급이 1000, 3000 사이가 아닌 사원들의 이름, 월급 출력하기\n",
    "\n",
    "\"\"\"\n",
    "SQL >\n",
    "select ename, sal\n",
    "    from emp\n",
    "    where sal not between 1000 and 3000;\n",
    "\"\"\"\n",
    "import pandas as pd\n",
    "emp = pd.read_csv(\"c:\\\\data\\\\emp3.csv\")\n",
    "print(emp[['ename','sal']] [~emp['sal'].between(1000,3000)])\n",
    "\n",
    "# SQL의 NOT, 파이썬의 !(느낌표) 는 판다스에선 ~(물결)이다."
   ]
  },
  {
   "cell_type": "code",
   "execution_count": null,
   "metadata": {},
   "outputs": [],
   "source": [
    "오라클의 기타 비교 연산자와 파이썬 판다스의 기타 비교 연산자\n",
    "\n",
    "    오라클              판다스\n",
    "    \n",
    "C between a and b    C.between(a,b)\n",
    "C in                 C.isin([a,b,c,d])\n",
    "C is null            C.isnull()\n",
    "C like               apply 함수"
   ]
  },
  {
   "cell_type": "code",
   "execution_count": 175,
   "metadata": {},
   "outputs": [
    {
     "name": "stdout",
     "output_type": "stream",
     "text": [
      "     ename       job\n",
      "4   MARTIN  SALESMAN\n",
      "5    ALLEN  SALESMAN\n",
      "6   TURNER  SALESMAN\n",
      "7    JAMES     CLERK\n",
      "8     WARD  SALESMAN\n",
      "10   SMITH     CLERK\n",
      "12   ADAMS     CLERK\n",
      "13  MILLER     CLERK\n"
     ]
    }
   ],
   "source": [
    "# 직업이 CLERK, SALESMAN인 사원들의 이름과 직업 출력하기\n",
    "\n",
    "\"\"\"\n",
    "SQL >\n",
    "select ename, job\n",
    "    from emp\n",
    "    where job in ('CLERK','SALESMAN');\n",
    "\"\"\"\n",
    "import pandas as pd\n",
    "emp = pd.read_csv(\"c:\\\\data\\\\emp3.csv\")\n",
    "print(emp[['ename','job']] [emp['job'].isin(['CLERK','SALESMAN'])])"
   ]
  },
  {
   "cell_type": "code",
   "execution_count": 176,
   "metadata": {},
   "outputs": [
    {
     "name": "stdout",
     "output_type": "stream",
     "text": [
      "    ename        job\n",
      "0    KING  PRESIDENT\n",
      "1   BLAKE    MANAGER\n",
      "2   CLARK    MANAGER\n",
      "3   JONES    MANAGER\n",
      "9    FORD    ANALYST\n",
      "11  SCOTT    ANALYST\n"
     ]
    }
   ],
   "source": [
    "# 직업이 CLERK, SALESMAN인 사원들의 이름과 직업을 출력하기\n",
    "\n",
    "\"\"\"\n",
    "SQL >\n",
    "select ename, job\n",
    "    from emp\n",
    "    where job not in ('CLERK','SALESMAN');\n",
    "\"\"\"\n",
    "import pandas as pd\n",
    "emp = pd.read_csv(\"c:\\\\data\\\\emp3.csv\")\n",
    "print(emp[['ename','job']] [~emp['job'].isin(['CLERK','SALESMAN'])])"
   ]
  },
  {
   "cell_type": "code",
   "execution_count": 178,
   "metadata": {},
   "outputs": [
    {
     "name": "stdout",
     "output_type": "stream",
     "text": [
      "     ename  comm\n",
      "0     KING   NaN\n",
      "1    BLAKE   NaN\n",
      "2    CLARK   NaN\n",
      "3    JONES   NaN\n",
      "7    JAMES   NaN\n",
      "9     FORD   NaN\n",
      "10   SMITH   NaN\n",
      "11   SCOTT   NaN\n",
      "12   ADAMS   NaN\n",
      "13  MILLER   NaN\n"
     ]
    }
   ],
   "source": [
    "# 커미션이 null 인 사원들의 이름과 커미션을 출력하기\n",
    "\n",
    "\"\"\"\n",
    "SQL >\n",
    "select ename, comm\n",
    "    from emp\n",
    "    where comm is null;\n",
    "\"\"\"\n",
    "import pandas as pd\n",
    "emp = pd.read_csv(\"c:\\\\data\\\\emp3.csv\")\n",
    "print(emp[['ename','comm']] [emp['comm'].isnull()])"
   ]
  },
  {
   "cell_type": "code",
   "execution_count": 179,
   "metadata": {},
   "outputs": [
    {
     "name": "stdout",
     "output_type": "stream",
     "text": [
      "    ename    comm\n",
      "4  MARTIN  1400.0\n",
      "5   ALLEN   300.0\n",
      "6  TURNER     0.0\n",
      "8    WARD   500.0\n"
     ]
    }
   ],
   "source": [
    "# 커미션이 null 이 아닌사원들의 이름과 커미션을 출력하기\n",
    "\n",
    "\"\"\"\n",
    "SQL >\n",
    "select ename, comm\n",
    "    from emp\n",
    "    where comm is not null;\n",
    "\"\"\"\n",
    "import pandas as pd\n",
    "emp = pd.read_csv(\"c:\\\\data\\\\emp3.csv\")\n",
    "print(emp[['ename','comm']] [~emp['comm'].isnull()])"
   ]
  }
 ],
 "metadata": {
  "kernelspec": {
   "display_name": "Python 3",
   "language": "python",
   "name": "python3"
  },
  "language_info": {
   "codemirror_mode": {
    "name": "ipython",
    "version": 3
   },
   "file_extension": ".py",
   "mimetype": "text/x-python",
   "name": "python",
   "nbconvert_exporter": "python",
   "pygments_lexer": "ipython3",
   "version": "3.8.5"
  }
 },
 "nbformat": 4,
 "nbformat_minor": 4
}
