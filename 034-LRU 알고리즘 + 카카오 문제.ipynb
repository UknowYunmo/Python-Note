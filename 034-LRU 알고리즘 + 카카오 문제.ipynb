{
 "cells": [
  {
   "cell_type": "code",
   "execution_count": null,
   "metadata": {},
   "outputs": [],
   "source": [
    "LRU 알고리즘이란 Oracle DATABASE의 메모리 관리를\n",
    "\n",
    "효율적으로 하기 위해 고안된 대표적인 알고리즘으로\n",
    "\n",
    "최신 데이터를 메모리에 유지시키고\n",
    "\n",
    "오래된 데이터는 메모리에서 내보내게 하는 알고리즘\n",
    "\n",
    "\n",
    "예를 들어,\n",
    "\n",
    "SQL > select sal from emp where ename='scott';\n",
    "\n",
    "위 SQL 문장은 메모리에 정보가 올라와있다면 1초,             -> cashe hit\n",
    "\n",
    "메모리에 정보가 없어 디스크에서 조회하면 5초가 걸린다.    -> cashe miss\n",
    "\n",
    "\n",
    "\n",
    "(걸리는 시간은 예시일 뿐)\n",
    "\n",
    "\n",
    "\n",
    "하지만 메모리 공간이 한정되어 있어, 무한히 데이터를 올릴 수 없다.\n",
    "\n",
    "따라서 오래된 데이터는 버리고 최신 데이터로 올린다.\n",
    "\n",
    "\n",
    "\n",
    "['최근에 내가 검색한 데이터는 다시 검색할 확률이 높을거야' 라고 가정"
   ]
  },
  {
   "cell_type": "code",
   "execution_count": 1,
   "metadata": {},
   "outputs": [
    {
     "name": "stdout",
     "output_type": "stream",
     "text": [
      "50\n",
      "21\n",
      "60\n",
      "52\n",
      "16\n",
      "25\n",
      "7\n"
     ]
    }
   ],
   "source": [
    "def kakao(cities,cacheSize):\n",
    "    t=0\n",
    "    for i in range(len(cities)):\n",
    "        cities[i]=(cities[i].lower())\n",
    "    list=[]\n",
    "    for i in range(len(cities)):\n",
    "        if cities[i] in list:\n",
    "            t+=1\n",
    "        else:\n",
    "            t+=5\n",
    "            list.append(cities[i])\n",
    "            if len(list)>cacheSize:\n",
    "                list=list[1:]\n",
    "    print(t)\n",
    "    return\n",
    "kakao([\"Jeju\", \"Pangyo\", \"Seoul\", \"NewYork\", \"LA\", \"Jeju\", \"Pangyo\", \"Seoul\", \"NewYork\", \"LA\"],3)\n",
    "kakao([\"Jeju\", \"Pangyo\", \"Seoul\", \"Jeju\", \"Pangyo\", \"Seoul\", \"Jeju\", \"Pangyo\", \"Seoul\"],3)\n",
    "kakao([\"Jeju\",\"Pangyo\",\"Seoul\",\"NewYork\",\"LA\",\"SanFrancisco\",\"Seoul\",\"Rome\",\"Paris\",\"Jeju\",\"NewYork\",\"Rome\"],2)\n",
    "kakao([\"Jeju\",\"Pangyo\",\"Seoul\",\"NewYork\",\"LA\",\"SanFrancisco\",\"Seoul\",\"Rome\",\"Paris\",\"Jeju\",\"NewYork\",\"Rome\"],5)\n",
    "kakao([\"Jeju\",\"Pangyo\",'NewYork','newyork'],2)\n",
    "kakao([\"Jeju\",\"Pangyo\",\"Seoul\",\"NewYork\",\"LA\"],0)\n",
    "kakao(['Jeju', 'Jeju','Jeju'],3)"
   ]
  }
 ],
 "metadata": {
  "kernelspec": {
   "display_name": "Python 3",
   "language": "python",
   "name": "python3"
  },
  "language_info": {
   "codemirror_mode": {
    "name": "ipython",
    "version": 3
   },
   "file_extension": ".py",
   "mimetype": "text/x-python",
   "name": "python",
   "nbconvert_exporter": "python",
   "pygments_lexer": "ipython3",
   "version": "3.8.5"
  }
 },
 "nbformat": 4,
 "nbformat_minor": 4
}
