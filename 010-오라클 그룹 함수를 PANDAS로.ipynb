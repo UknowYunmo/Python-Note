{
 "cells": [
  {
   "cell_type": "code",
   "execution_count": 1,
   "metadata": {},
   "outputs": [
    {
     "name": "stdout",
     "output_type": "stream",
     "text": [
      "5000 800\n"
     ]
    }
   ],
   "source": [
    "# 예제 : emp 사원 중 최대 월급, 최소 월급 출력하기\n",
    "\"\"\"\n",
    "SQL > select max(sal), min(sal)\n",
    "        from emp;\n",
    "\"\"\"\n",
    "import pandas as pd\n",
    "emp = pd.read_csv(\"c:\\\\data\\\\emp3.csv\")\n",
    "print(emp['sal'].max(),emp['sal'].min())"
   ]
  },
  {
   "cell_type": "code",
   "execution_count": 2,
   "metadata": {},
   "outputs": [
    {
     "name": "stdout",
     "output_type": "stream",
     "text": [
      "3000\n"
     ]
    }
   ],
   "source": [
    "# 예제 : 부서 번호가 20인 사원들 중 최대 월급을 출력하기\n",
    "\"\"\"\n",
    "SQL > select max(sal)\n",
    "        from emp\n",
    "        where deptno=20;\n",
    "\"\"\"\n",
    "import pandas as pd\n",
    "emp = pd.read_csv(\"c:\\\\data\\\\emp3.csv\")\n",
    "print(emp['sal'][emp['deptno']==20].max())\n",
    "\n",
    "# .집계함수()를 주기 전에 선택 조건을 모두 주고, 최종적으로 집계 함수로 출력하면 된다."
   ]
  },
  {
   "cell_type": "code",
   "execution_count": 3,
   "metadata": {},
   "outputs": [
    {
     "name": "stdout",
     "output_type": "stream",
     "text": [
      "1250\n"
     ]
    }
   ],
   "source": [
    "# 예제 : 직업이 SALESMAN인 사원들 중 최소 월급을 출력하기\n",
    "\"\"\"\n",
    "SQL > select min(sal)\n",
    "        from emp\n",
    "        where job='SALESMAN';\n",
    "\"\"\"\n",
    "import pandas as pd\n",
    "emp = pd.read_csv(\"c:\\\\data\\\\emp3.csv\")\n",
    "print(emp['sal'][emp['job']=='SALESMAN'].min())"
   ]
  },
  {
   "cell_type": "code",
   "execution_count": 7,
   "metadata": {},
   "outputs": [
    {
     "name": "stdout",
     "output_type": "stream",
     "text": [
      "job\n",
      "ANALYST      3000\n",
      "CLERK        1300\n",
      "MANAGER      2975\n",
      "PRESIDENT    5000\n",
      "SALESMAN     1600\n",
      "Name: sal, dtype: int64\n",
      "--------------------------------\n",
      "         job   sal\n",
      "0    ANALYST  3000\n",
      "1      CLERK  1300\n",
      "2    MANAGER  2975\n",
      "3  PRESIDENT  5000\n",
      "4   SALESMAN  1600\n",
      "\n",
      "<class 'pandas.core.frame.DataFrame'>\n"
     ]
    }
   ],
   "source": [
    "#예제 : 직업별 최고 월급을 출력하기\n",
    "\"\"\"\n",
    "SQL > select job, max(sal)\n",
    "        from emp\n",
    "        group by job;\n",
    "\"\"\"\n",
    "import pandas as pd\n",
    "emp=pd.read_csv(\"c:\\\\data\\\\emp3.csv\")\n",
    "result=emp.groupby('job')['sal'].max()\n",
    "print(result)\n",
    "print('--------------------------------')\n",
    "# 그룹별로 출력하고 싶을때는 SQL가 유사하게 groupby를 사용하면 된다.\n",
    "\n",
    "\"\"\"\n",
    "성공적으로 출력되었는데, 마지막 줄을 보면 데이터 타입이 시리즈인 것을 확인할 수 있다.\n",
    "\n",
    "이러면 나중에 데이터를 만질 때 고생한다.\n",
    "\n",
    "이것을 시리즈에서 데이터 타입으로 변환하려면\n",
    "\n",
    "또 다시 뒤에 추가로\n",
    "\n",
    ".reset_index() 를 작성해주면 된다.\n",
    "\n",
    "\"\"\"\n",
    "\n",
    "result=emp.groupby('job')['sal'].max().reset_index()\n",
    "print(result)\n",
    "print()\n",
    "print(type(result))\n",
    "\n",
    "# 그럼 sal 컬럼명도 출력되고, 데이터 타입도 데이터 프레임으로 바뀐 것을 확인할 수 있다."
   ]
  },
  {
   "cell_type": "code",
   "execution_count": 10,
   "metadata": {},
   "outputs": [
    {
     "name": "stdout",
     "output_type": "stream",
     "text": [
      "   deptno    sal\n",
      "0      10   8750\n",
      "1      20  10875\n",
      "2      30   9400\n",
      "--------------------\n",
      "   deptno   sal\n",
      "0      10  8750\n",
      "2      30  9400\n"
     ]
    }
   ],
   "source": [
    "# 예제 : 부서번호별 월급의 합을 출력하기\n",
    "\"\"\"\n",
    "SQL > select deptno, sum(sal)\n",
    "        from emp\n",
    "        group by deptno;\n",
    "\"\"\"\n",
    "import pandas as pd\n",
    "emp=pd.read_csv(\"c:\\\\data\\\\emp3.csv\")\n",
    "result=emp.groupby('deptno')['sal'].sum().reset_index()\n",
    "print(result)\n",
    "\n",
    "print('--------------------')\n",
    "# 예제 : 20번을 제외한 부서번호별 월급의 합을 출력하기\n",
    "\"\"\"\n",
    "SQL > select deptno, sum(sal)\n",
    "        from emp\n",
    "        where deptno!=20\n",
    "        group by deptno;\n",
    "\"\"\"\n",
    "\n",
    "print(result[['deptno','sal']][result['deptno']!=20])"
   ]
  },
  {
   "cell_type": "code",
   "execution_count": null,
   "metadata": {},
   "outputs": [],
   "source": []
  }
 ],
 "metadata": {
  "kernelspec": {
   "display_name": "Python 3",
   "language": "python",
   "name": "python3"
  },
  "language_info": {
   "codemirror_mode": {
    "name": "ipython",
    "version": 3
   },
   "file_extension": ".py",
   "mimetype": "text/x-python",
   "name": "python",
   "nbconvert_exporter": "python",
   "pygments_lexer": "ipython3",
   "version": "3.8.5"
  }
 },
 "nbformat": 4,
 "nbformat_minor": 4
}
